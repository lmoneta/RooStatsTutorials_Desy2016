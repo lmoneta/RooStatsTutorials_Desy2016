{
 "cells": [
  {
   "cell_type": "markdown",
   "metadata": {},
   "source": [
    "### Bayesian Example Using Markov Chain Monte Carlo  "
   ]
  },
  {
   "cell_type": "code",
   "execution_count": 1,
   "metadata": {
    "collapsed": false
   },
   "outputs": [],
   "source": [
    "using namespace RooStats;"
   ]
  },
  {
   "cell_type": "code",
   "execution_count": 2,
   "metadata": {
    "collapsed": false
   },
   "outputs": [],
   "source": [
    "RooStats::MCMCInterval * interval = nullptr;\n",
    "RooStats::MCMCIntervalPlot * plot = nullptr; \n",
    "RooStats::ProposalFunction * proposalFunc = nullptr;"
   ]
  },
  {
   "cell_type": "markdown",
   "metadata": {},
   "source": [
    "First part is just to access the workspace file and retrieve the model and the data "
   ]
  },
  {
   "cell_type": "code",
   "execution_count": 3,
   "metadata": {
    "collapsed": false
   },
   "outputs": [
    {
     "name": "stdout",
     "output_type": "stream",
     "text": [
      "\n",
      "\u001b[1mRooFit v3.60 -- Developed by Wouter Verkerke and David Kirkby\u001b[0m \n",
      "                Copyright (C) 2000-2013 NIKHEF, University of California & Stanford University\n",
      "                All rights reserved, please read http://roofit.sourceforge.net/license.txt\n",
      "\n"
     ]
    }
   ],
   "source": [
    "TString fileName = \"~/Downloads/dimuon_13TeV_decJamb2015_BWCB_workspace_5000.root\";\n",
    "//TString fileName = \"HiggsModel.root\";\n",
    "TString workspaceName = \"dimuon_13TeV_decJamb2015_BWCB\";\n",
    "TString modelConfigName = \"mc\";\n",
    "TString dataName = \"data\";\n",
    "TString integrationType = \"\";  \n",
    "RooAbsReal::defaultIntegratorConfig()->method1D().setLabel(\"RooAdaptiveGaussKronrodIntegrator1D\");"
   ]
  },
  {
   "cell_type": "code",
   "execution_count": 4,
   "metadata": {
    "collapsed": false
   },
   "outputs": [
    {
     "name": "stderr",
     "output_type": "stream",
     "text": [
      "Warning in <TClass::Init>: no dictionary for class ZPrimeMuonBkgPdf is available\n",
      "Warning in <TClass::Init>: no dictionary for class PowFunc is available\n",
      "Warning in <TClass::Init>: no dictionary for class ZPrimeMuonAccEffFunc is available\n",
      "Warning in <TClass::Init>: no dictionary for class ZPrimeMuonResFunc is available\n"
     ]
    }
   ],
   "source": [
    "auto file = TFile::Open(fileName);"
   ]
  },
  {
   "cell_type": "code",
   "execution_count": null,
   "metadata": {
    "collapsed": false
   },
   "outputs": [
    {
     "name": "stdout",
     "output_type": "stream",
     "text": [
      "[#1] INFO:ObjectHandling -- RooWorkspace::CodeRepo::compileClasses() creating code export directory .wscode.3648b4b4-eed8-11e5-9717-828fd380beef.dimuon_13TeV_decJamb2015_BWCB to extract coded embedded in workspace\n",
      "[#1] INFO:ObjectHandling -- RooWorkspace::CodeRepo::compileClasses() Extracting declaration code of class PowFunc, file .wscode.3648b4b4-eed8-11e5-9717-828fd380beef.dimuon_13TeV_decJamb2015_BWCB/PowFunc.h\n",
      "[#1] INFO:ObjectHandling -- RooWorkspace::CodeRepo::compileClasses() Extracting implementation code of class PowFunc, file .wscode.3648b4b4-eed8-11e5-9717-828fd380beef.dimuon_13TeV_decJamb2015_BWCB/PowFunc.cxx\n",
      "[#1] INFO:ObjectHandling -- RooWorkspace::CodeRepo::compileClasses() Compiling code unit PowFunc to define class PowFunc\n"
     ]
    },
    {
     "name": "stderr",
     "output_type": "stream",
     "text": [
      "Info in <TMacOSXSystem::ACLiC>: creating shared library /Users/moneta/root/tutorials/DESY2016/.wscode.3648b4b4-eed8-11e5-9717-828fd380beef.dimuon_13TeV_decJamb2015_BWCB/PowFunc_cxx.so\n"
     ]
    },
    {
     "name": "stdout",
     "output_type": "stream",
     "text": [
      "[#0] ERROR:ObjectHandling -- RooWorkspace::CodeRepo::compileClasses() ERROR compiling class PowFunc, to fix this you can do the following: \n",
      "  1) Fix extracted source code files in directory .wscode.3648b4b4-eed8-11e5-9717-828fd380beef.dimuon_13TeV_decJamb2015_BWCB/\n",
      "  2) In clean ROOT session compiled fixed classes by hand using '.x .wscode.3648b4b4-eed8-11e5-9717-828fd380beef.dimuon_13TeV_decJamb2015_BWCB/ClassName.cxx+'\n",
      "  3) Reopen file with RooWorkspace with broken source code in UPDATE mode. Access RooWorkspace to force loading of class\n",
      "     Broken instances in workspace will _not_ be compiled, instead precompiled fixed instances will be used.\n",
      "  4) Reimport fixed code in workspace using 'RooWorkspace::importClassCode(\"*\",kTRUE)' method, Write() updated workspace to file and close file\n",
      "  5) Reopen file in clean ROOT session to confirm that problems are fixed\n"
     ]
    },
    {
     "name": "stderr",
     "output_type": "stream",
     "text": [
      "ld: can't link with bundle (MH_BUNDLE) only dylibs (MH_DYLIB) file '/Library/Python/2.7/site-packages/zmq/backend/cython/message.so' for architecture x86_64\n",
      "clang: error: linker command failed with exit code 1 (use -v to see invocation)\n",
      "Error in <ACLiC>: Compilation failed!\n",
      "Error in <TBufferFile::ReadObject>: trying to read an emulated class (ZPrimeMuonBkgPdf) to store in a compiled pointer (TObject)\n",
      "Error in <TBufferFile::ReadObject>: trying to read an emulated class (PowFunc) to store in a compiled pointer (TObject)\n",
      "\n",
      " *** Break *** segmentation violation\n"
     ]
    },
    {
     "name": "stdout",
     "output_type": "stream",
     "text": [
      "[<unknown binary>]\n",
      "[<unknown binary>]\n",
      "[/Users/moneta/root/git/master-build/lib/libRIO.so] TStreamerInfoActions::GenericReadAction(TBuffer&, void*, TStreamerInfoActions::TConfiguration const*) /Users/moneta/root/git/root/io/io/src/TStreamerInfoActions.cxx:167\n",
      "[/Users/moneta/root/git/master-build/lib/libRIO.so] TBufferFile::ApplySequence(TStreamerInfoActions::TActionSequence const&, void*) /Applications/Xcode.app/Contents/Developer/Toolchains/XcodeDefault.xctoolchain/usr/bin/../include/c++/v1/iterator:1190\n",
      "[/Users/moneta/root/git/master-build/lib/libRIO.so] TBufferFile::ReadClassBuffer(TClass const*, void*, TClass const*) /Users/moneta/root/git/root/io/io/src/TBufferFile.cxx:3895\n",
      "[/Users/moneta/root/git/master-build/lib/libRooFitCore.so] RooAbsArg::Streamer(TBuffer&) /Applications/Xcode.app/Contents/Developer/Toolchains/XcodeDefault.xctoolchain/usr/bin/../include/c++/v1/deque:2561\n"
     ]
    }
   ],
   "source": [
    "auto w =  (RooWorkspace*) file->Get(workspaceName);\n",
    "w->Print();\n",
    "auto mc = (RooStats::ModelConfig*) w->obj(modelConfigName);\n",
    "auto  data = w->data(dataName);\n",
    "auto poi = (RooRealVar*) mc->GetParametersOfInterest()->first();  // get POI "
   ]
  },
  {
   "cell_type": "code",
   "execution_count": null,
   "metadata": {
    "collapsed": false
   },
   "outputs": [],
   "source": [
    "RooStats::MCMCCalculator mcmcCalc(*data,*mc);"
   ]
  },
  {
   "cell_type": "markdown",
   "metadata": {},
   "source": [
    "Set the intervar Confidence Level"
   ]
  },
  {
   "cell_type": "code",
   "execution_count": null,
   "metadata": {
    "collapsed": true
   },
   "outputs": [],
   "source": [
    "mcmcCalc.SetConfidenceLevel(0.95);"
   ]
  },
  {
   "cell_type": "markdown",
   "metadata": {},
   "source": [
    "Set the type of interval"
   ]
  },
  {
   "cell_type": "code",
   "execution_count": null,
   "metadata": {
    "collapsed": true
   },
   "outputs": [],
   "source": [
    " mcmcCalc.SetLeftSideTailFraction(0.0);"
   ]
  },
  {
   "cell_type": "code",
   "execution_count": null,
   "metadata": {
    "collapsed": false
   },
   "outputs": [],
   "source": [
    "proposalFunc = new RooStats::SequentialProposal(0.1);\n",
    "mcmcCalc.SetProposalFunction(*proposalFunc);"
   ]
  },
  {
   "cell_type": "code",
   "execution_count": null,
   "metadata": {
    "collapsed": true
   },
   "outputs": [],
   "source": [
    "mcmcCalc.SetNumIters(1000000);         // Metropolis-Hastings algorithm iterations\n",
    "mcmcCalc.SetNumBurnInSteps(100);       // first N steps to be ignored as burn-in"
   ]
  },
  {
   "cell_type": "code",
   "execution_count": null,
   "metadata": {
    "collapsed": false
   },
   "outputs": [],
   "source": [
    "interval = mcmcCalc.GetInterval();"
   ]
  },
  {
   "cell_type": "code",
   "execution_count": null,
   "metadata": {
    "collapsed": false
   },
   "outputs": [],
   "source": [
    "cout << 100*mcmcCalc.ConfidenceLevel() << \"% interval is : [\"<< interval->LowerLimit(*poi) << \", \"<< interval->UpperLimit(*poi) <<\"] \"<<endl;"
   ]
  },
  {
   "cell_type": "code",
   "execution_count": null,
   "metadata": {
    "collapsed": false
   },
   "outputs": [],
   "source": [
    "plot = new RooStats::MCMCIntervalPlot(*interval);"
   ]
  },
  {
   "cell_type": "code",
   "execution_count": null,
   "metadata": {
    "collapsed": false
   },
   "outputs": [],
   "source": [
    "plot->Draw(\"HIST\"); gPad->Draw();"
   ]
  },
  {
   "cell_type": "code",
   "execution_count": null,
   "metadata": {
    "collapsed": true
   },
   "outputs": [],
   "source": []
  }
 ],
 "metadata": {
  "kernelspec": {
   "display_name": "ROOT C++",
   "language": "c++",
   "name": "root"
  },
  "language_info": {
   "codemirror_mode": "text/x-c++src",
   "file_extension": ".C",
   "mimetype": " text/x-c++src",
   "name": "c++"
  }
 },
 "nbformat": 4,
 "nbformat_minor": 0
}
