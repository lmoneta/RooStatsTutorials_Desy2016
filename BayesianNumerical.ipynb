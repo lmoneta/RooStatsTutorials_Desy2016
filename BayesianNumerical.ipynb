{
 "cells": [
  {
   "cell_type": "markdown",
   "metadata": {},
   "source": [
    "### Bayesian Numerical Example"
   ]
  },
  {
   "cell_type": "code",
   "execution_count": 1,
   "metadata": {
    "collapsed": false
   },
   "outputs": [],
   "source": [
    "//using namespace Roostats;\n",
    "RooStats::SimpleInterval * interval = nullptr;\n",
    "RooPlot * plot = nullptr; "
   ]
  },
  {
   "cell_type": "markdown",
   "metadata": {},
   "source": [
    "First part is just to access the workspace file and retrieve the model and the data "
   ]
  },
  {
   "cell_type": "code",
   "execution_count": 2,
   "metadata": {
    "collapsed": false
   },
   "outputs": [],
   "source": [
    "TString fileName = \"CountingModel.root\";\n",
    "TString workspaceName = \"w\";\n",
    "TString modelConfigName = \"ModelConfig\";\n",
    "TString dataName = \"data\";\n",
    "TString integrationType = \"\";  "
   ]
  },
  {
   "cell_type": "code",
   "execution_count": 3,
   "metadata": {
    "collapsed": false
   },
   "outputs": [
    {
     "name": "stdout",
     "output_type": "stream",
     "text": [
      "\n",
      "\u001b[1mRooFit v3.60 -- Developed by Wouter Verkerke and David Kirkby\u001b[0m \n",
      "                Copyright (C) 2000-2013 NIKHEF, University of California & Stanford University\n",
      "                All rights reserved, please read http://roofit.sourceforge.net/license.txt\n",
      "\n"
     ]
    }
   ],
   "source": [
    "auto file = TFile::Open(fileName);"
   ]
  },
  {
   "cell_type": "code",
   "execution_count": 4,
   "metadata": {
    "collapsed": false
   },
   "outputs": [
    {
     "name": "stdout",
     "output_type": "stream",
     "text": [
      "\n",
      "RooWorkspace(w) w contents\n",
      "\n",
      "variables\n",
      "---------\n",
      "(b,b0,nobs,s,sigmab)\n",
      "\n",
      "p.d.f.s\n",
      "-------\n",
      "RooGaussian::constraint[ x=b0 mean=b sigma=sigmab ] = 1\n",
      "RooProdPdf::model[ pdf * constraint ] = 0.0732626\n",
      "RooPoisson::pdf[ x=nobs mean=nexp ] = 0.0732626\n",
      "\n",
      "functions\n",
      "--------\n",
      "RooAddition::nexp[ s + b ] = 4\n",
      "\n",
      "datasets\n",
      "--------\n",
      "RooDataSet::data(nobs)\n",
      "\n",
      "parameter snapshots\n",
      "-------------------\n",
      "ModelConfig__snapshot = (s=3)\n",
      "\n",
      "named sets\n",
      "----------\n",
      "ModelConfig_GlobalObservables:(b0)\n",
      "ModelConfig_NuisParams:(b)\n",
      "ModelConfig_Observables:(nobs)\n",
      "ModelConfig_POI:(s)\n",
      "ModelConfig__snapshot:(s)\n",
      "\n",
      "generic objects\n",
      "---------------\n",
      "RooStats::ModelConfig::ModelConfig\n",
      "\n"
     ]
    }
   ],
   "source": [
    "auto w =  (RooWorkspace*) file->Get(workspaceName);\n",
    "w->Print();\n",
    "auto mc = (RooStats::ModelConfig*) w->obj(modelConfigName);\n",
    "auto  data = w->data(dataName);"
   ]
  },
  {
   "cell_type": "code",
   "execution_count": 5,
   "metadata": {
    "collapsed": false
   },
   "outputs": [],
   "source": [
    "RooStats::BayesianCalculator bayesianCalc(*data,*mc);"
   ]
  },
  {
   "cell_type": "markdown",
   "metadata": {},
   "source": [
    "Set the intervar Confidence Level"
   ]
  },
  {
   "cell_type": "code",
   "execution_count": 6,
   "metadata": {
    "collapsed": true
   },
   "outputs": [],
   "source": [
    "bayesianCalc.SetConfidenceLevel(0.95);"
   ]
  },
  {
   "cell_type": "markdown",
   "metadata": {},
   "source": [
    "Set the type of interval"
   ]
  },
  {
   "cell_type": "code",
   "execution_count": 7,
   "metadata": {
    "collapsed": true
   },
   "outputs": [],
   "source": [
    " bayesianCalc.SetLeftSideTailFraction(0.0);"
   ]
  },
  {
   "cell_type": "code",
   "execution_count": 8,
   "metadata": {
    "collapsed": false
   },
   "outputs": [],
   "source": [
    "integrationType = \"VEGAS\";\n",
    "//bayesianCalc.SetIntegrationType(integrationType); \n",
    "bayesianCalc.SetNumIters(1000);"
   ]
  },
  {
   "cell_type": "code",
   "execution_count": 9,
   "metadata": {
    "collapsed": true
   },
   "outputs": [],
   "source": [
    "bayesianCalc.SetScanOfPosterior(50);"
   ]
  },
  {
   "cell_type": "code",
   "execution_count": 10,
   "metadata": {
    "collapsed": false
   },
   "outputs": [
    {
     "name": "stdout",
     "output_type": "stream",
     "text": [
      "[#1] INFO:Minization --  Including the following contraint terms in minimization: (constraint)\n",
      "[#1] INFO:Eval -- BayesianCalculator::GetPosteriorFunction :  nll value 1.92321 poi value = 3\n",
      "[#1] INFO:Eval -- BayesianCalculator::GetPosteriorFunction : minimum of NLL vs POI for POI =  0 min NLL = 0.3095\n",
      "[#1] INFO:Eval -- BayesianCalculator - scan posterior function in nbins = 50\n",
      "[#0] WARNING:Eval -- BayesianCalculator::GetInterval : 612 errors reported in evaluating log-likelihood function \n",
      "[#1] INFO:Eval -- BayesianCalculator::GetInterval - found a valid interval : [0 , 4.13532 ]\n"
     ]
    }
   ],
   "source": [
    "interval = bayesianCalc.GetInterval();"
   ]
  },
  {
   "cell_type": "code",
   "execution_count": 11,
   "metadata": {
    "collapsed": false
   },
   "outputs": [
    {
     "name": "stdout",
     "output_type": "stream",
     "text": [
      "95% interval is : [0, 4.13532] \n"
     ]
    }
   ],
   "source": [
    "cout << 100*bayesianCalc.ConfidenceLevel() << \"% interval is : [\"<< interval->LowerLimit() << \", \"<< interval->UpperLimit() <<\"] \"<<endl;"
   ]
  },
  {
   "cell_type": "code",
   "execution_count": 12,
   "metadata": {
    "collapsed": true
   },
   "outputs": [],
   "source": [
    "plot = bayesianCalc.GetPosteriorPlot();"
   ]
  },
  {
   "cell_type": "code",
   "execution_count": 13,
   "metadata": {
    "collapsed": false
   },
   "outputs": [
    {
     "data": {
      "image/png": "[encoded data removed]",
      "text/plain": [
       "<IPython.core.display.Image object>"
      ]
     },
     "metadata": {},
     "output_type": "display_data"
    },
    {
     "name": "stderr",
     "output_type": "stream",
     "text": [
      "Info in <TCanvas::MakeDefCanvas>:  created default TCanvas with name c1\n"
     ]
    }
   ],
   "source": [
    "plot->Draw(); gPad->Draw();"
   ]
  },
  {
   "cell_type": "code",
   "execution_count": null,
   "metadata": {
    "collapsed": true
   },
   "outputs": [],
   "source": []
  }
 ],
 "metadata": {
  "kernelspec": {
   "display_name": "ROOT C++",
   "language": "c++",
   "name": "root"
  },
  "language_info": {
   "codemirror_mode": "text/x-c++src",
   "file_extension": ".C",
   "mimetype": " text/x-c++src",
   "name": "c++"
  }
 },
 "nbformat": 4,
 "nbformat_minor": 0
}
