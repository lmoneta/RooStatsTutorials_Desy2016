{
 "cells": [
  {
   "cell_type": "markdown",
   "metadata": {},
   "source": [
    "Notebook showing a failing fit. The problem happens when calling the Warning function. \n",
    "It should print:\n",
    "\n",
    "Warning in <Fit>: Abnormal termination of minimization.\n",
    "\n",
    "instead it crashes "
   ]
  },
  {
   "cell_type": "code",
   "execution_count": 1,
   "metadata": {
    "collapsed": false
   },
   "outputs": [],
   "source": [
    "auto h1 = new TH1D(\"h1\",\"h1\",100,-5,5);"
   ]
  },
  {
   "cell_type": "code",
   "execution_count": 2,
   "metadata": {
    "collapsed": true
   },
   "outputs": [],
   "source": [
    "h1->FillRandom(\"gaus\",1000);"
   ]
  },
  {
   "cell_type": "code",
   "execution_count": 3,
   "metadata": {
    "collapsed": false
   },
   "outputs": [],
   "source": [
    "auto  f1 = new TF1(\"f1\",\"[A]*gaus\",-5,5);"
   ]
  },
  {
   "cell_type": "code",
   "execution_count": 4,
   "metadata": {
    "collapsed": false
   },
   "outputs": [
    {
     "name": "stdout",
     "output_type": "stream",
     "text": [
      "Formula based function:     f1 \n",
      "                   f1 : [A]*gaus Ndim= 1, Npar= 4, Number= 0 \n",
      " Formula expression: \n",
      "\t[A]*[p0]*exp(-0.5*((x-[p1])/[p2])*((x-[p1])/[p2])) \n"
     ]
    }
   ],
   "source": [
    "f1->Print();"
   ]
  },
  {
   "cell_type": "code",
   "execution_count": null,
   "metadata": {
    "collapsed": true
   },
   "outputs": [],
   "source": [
    "f1->SetParameters(10,10,0,1);"
   ]
  },
  {
   "cell_type": "code",
   "execution_count": null,
   "metadata": {
    "collapsed": false
   },
   "outputs": [
    {
     "name": "stderr",
     "output_type": "stream",
     "text": [
      "Info in <Minuit2>: Minuit2Minimizer::Minimize : Minimization did NOT converge, Hesse is not valid\n",
      "\n",
      " *** Break *** segmentation violation\n",
      " Generating stack trace...\n",
      " 0x000000010cacd134 in PyErr_WarnExplicit (in Python) + 143\n",
      " 0x000000010e0dbc87 in ErrorHandler (in libCore.so) (TError.cxx:251)\n",
      " 0x000000010e0dbd6b in Warning(char const*, char const*, ...) (in libCore.so) (TError.cxx:336)\n",
      " 0x000000011f30d2dc in TFitResultPtr HFit::Fit<TH1>(TH1*, TF1*, Foption_t&, ROOT::Math::MinimizerOptions const&, char const*, ROOT::Fit::DataRange&) (in libHist.so) (memory:3954)\n",
      " 0x000000011f30c2ee in ROOT::Fit::FitObject(TH1*, TF1*, Foption_t&, ROOT::Math::MinimizerOptions const&, char const*, ROOT::Fit::DataRange&) (in libHist.so) (HFitImpl.cxx:951)\n",
      " 0x000000011f3b353f in TH1::Fit(TF1*, char const*, char const*, double, double) (in libHist.so) (TH1.cxx:3895)\n",
      " 0x000000011fa05090 in <unknown function>\n",
      " 0x000000011fa050ec in <unknown function>\n",
      " 0x000000010e80cc7e in cling::IncrementalExecutor::runStaticInitializersOnce(cling::Transaction const&) (in libCling.so) + 510\n",
      " 0x000000010e819007 in cling::Interpreter::executeTransaction(cling::Transaction&) (in libCling.so) + 167\n",
      " 0x000000010e8124a8 in cling::IncrementalParser::commitTransaction(llvm::PointerIntPair<cling::Transaction*, 2u, cling::IncrementalParser::EParseResult, llvm::PointerLikeTypeTraits<cling::Transaction*> >) (in libCling.so) +\n",
      " 0x000000010e812dda in cling::IncrementalParser::Compile(llvm::StringRef, cling::CompilationOptions const&) (in libCling.so) + 154\n",
      " 0x000000010e818882 in cling::Interpreter::EvaluateInternal(std::__1::basic_string<char, std::__1::char_traits<char>, std::__1::allocator<char> > const&, cling::CompilationOptions, cling::Value*, cling::Transaction**) (in l\n",
      " 0x000000010e8182f4 in cling::Interpreter::process(std::__1::basic_string<char, std::__1::char_traits<char>, std::__1::allocator<char> > const&, cling::Value*, cling::Transaction**) (in libCling.so) + 100\n",
      " 0x000000010e85434f in cling::MetaProcessor::process(char const*, cling::Interpreter::CompilationResult&, cling::Value*) (in libCling.so) + 415\n",
      " 0x000000010e72e07c in HandleInterpreterException(cling::MetaProcessor*, char const*, cling::Interpreter::CompilationResult&, cling::Value*) (in libCling.so) (TCling.cxx:1843)\n",
      " 0x000000010e72dd4a in TCling::ProcessLine(char const*, TInterpreter::EErrorCode*) (in libCling.so) (TCling.cxx:1999)\n",
      " 0x000000011e2d1a7b in JupyROOTExecutorImpl(char const*) (in libJupyROOT.so) (IOHandler.cxx:120)\n",
      " 0x000000011e2d1b29 in JupyROOTExecutor (in libJupyROOT.so) (IOHandler.cxx:152)\n",
      " 0x00007fff935d9f14 in ffi_call_unix64 (in libffi.dylib) + 76\n",
      " 0x0000700000e12150 in <unknown function>\n"
     ]
    }
   ],
   "source": [
    "ROOT::Math::MinimizerOptions::SetDefaultMinimizer(\"Minuit2\");\n",
    "auto result = h1->Fit(f1,\"S\");\n",
    "result->Print();"
   ]
  },
  {
   "cell_type": "code",
   "execution_count": null,
   "metadata": {
    "collapsed": false
   },
   "outputs": [],
   "source": [
    "h1->Draw(); gPad->Draw();"
   ]
  },
  {
   "cell_type": "code",
   "execution_count": null,
   "metadata": {
    "collapsed": true
   },
   "outputs": [],
   "source": []
  }
 ],
 "metadata": {
  "kernelspec": {
   "display_name": "ROOT C++",
   "language": "c++",
   "name": "root"
  },
  "language_info": {
   "codemirror_mode": "text/x-c++src",
   "file_extension": ".C",
   "mimetype": " text/x-c++src",
   "name": "c++"
  }
 },
 "nbformat": 4,
 "nbformat_minor": 0
}
