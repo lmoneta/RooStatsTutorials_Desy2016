{
 "cells": [
  {
   "cell_type": "code",
   "execution_count": 1,
   "metadata": {
    "collapsed": false
   },
   "outputs": [
    {
     "data": {
      "application/javascript": [
       "IPython.CodeCell.config_defaults.highlight_modes['magic_text/x-c++src'] = {'reg':[/^%%cpp/]};"
      ]
     },
     "metadata": {},
     "output_type": "display_data"
    },
    {
     "name": "stdout",
     "output_type": "stream",
     "text": [
      "Welcome to JupyROOT 6.07/03\n",
      "\r\n",
      "****************************************\r\n",
      "         Invalid FitResult  (status = 2 )\r\n",
      "****************************************\r\n",
      "Minimizer is Minuit2 / Migrad\r\n",
      "Chi2                      =         1000\r\n",
      "NDf                       =           55\r\n",
      "Edm                       =            0\r\n",
      "NCalls                    =           28\r\n",
      "p0                        =           10   +/-   1.41421     \r\n",
      "p1                        =           10   +/-   1.41421     \r\n",
      "p2                        =            0   +/-   1.41421     \r\n",
      "A                         =            1   +/-   1.41421     \r\n"
     ]
    },
    {
     "name": "stderr",
     "output_type": "stream",
     "text": [
      "Fit:0: RuntimeWarning: Abnormal termination of minimization.\n",
      "Info in <Minuit2>: Minuit2Minimizer::Minimize : Minimization did NOT converge, Hesse is not valid\r\n",
      "Info in <TCanvas::MakeDefCanvas>:  created default TCanvas with name c1\r\n"
     ]
    }
   ],
   "source": [
    "import ROOT\n",
    "\n",
    "h1 = ROOT.TH1D(\"h1\",\"h1\",100,-5,5)\n",
    "\n",
    "h1.FillRandom(\"gaus\",1000)\n",
    "\n",
    "f1 = ROOT.TF1(\"f1\",\"[A]*gaus\",-5,5)\n",
    "\n",
    "\n",
    "f1.SetParameters(10,10,0,1);\n",
    "\n",
    "ROOT.Math.MinimizerOptions.SetDefaultMinimizer(\"Minuit2\");\n",
    "\n",
    "result = h1.Fit(f1,\"S\");"
   ]
  },
  {
   "cell_type": "code",
   "execution_count": null,
   "metadata": {
    "collapsed": true
   },
   "outputs": [],
   "source": []
  }
 ],
 "metadata": {
  "kernelspec": {
   "display_name": "Python 2",
   "language": "python",
   "name": "python2"
  },
  "language_info": {
   "codemirror_mode": {
    "name": "ipython",
    "version": 2
   },
   "file_extension": ".py",
   "mimetype": "text/x-python",
   "name": "python",
   "nbconvert_exporter": "python",
   "pygments_lexer": "ipython2",
   "version": "2.7.10"
  }
 },
 "nbformat": 4,
 "nbformat_minor": 0
}
