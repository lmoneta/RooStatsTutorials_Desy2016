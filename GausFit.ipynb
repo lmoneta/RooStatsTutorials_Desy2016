{
 "cells": [
  {
   "cell_type": "markdown",
   "metadata": {},
   "source": [
    "### Simple Histogram Fitting Example in ROOT\n",
    "\n",
    "This example shows how to fit an histogram using ROOT "
   ]
  },
  {
   "cell_type": "markdown",
   "metadata": {},
   "source": [
    "Create First an empty histogram with 50 bins with range [-10,10]"
   ]
  },
  {
   "cell_type": "code",
   "execution_count": 1,
   "metadata": {
    "collapsed": false
   },
   "outputs": [
    {
     "name": "stdout",
     "output_type": "stream",
     "text": [
      "(TH1D &) Name: h1 Title: h1 NbinsX: 50\n"
     ]
    }
   ],
   "source": [
    "TH1D h1(\"h1\",\"h1\",50,-10,10);"
   ]
  },
  {
   "cell_type": "markdown",
   "metadata": {},
   "source": [
    "Fill the histogram with 10000 Gaussian Random number with mean=1 and sigma=2"
   ]
  },
  {
   "cell_type": "code",
   "execution_count": 2,
   "metadata": {
    "collapsed": false
   },
   "outputs": [],
   "source": [
    "for (int i = 0; i < 1000; ++i) { h1.Fill(gRandom->Gaus(1,2));}"
   ]
  },
  {
   "cell_type": "markdown",
   "metadata": {},
   "source": [
    "We could also use the function h1.FillRandom(\"gaus\"), but we need to set the right parameters of the Gaussian function before."
   ]
  },
  {
   "cell_type": "code",
   "execution_count": 3,
   "metadata": {
    "collapsed": false
   },
   "outputs": [
    {
     "name": "stderr",
     "output_type": "stream",
     "text": [
      "Info in <TCanvas::MakeDefCanvas>:  created default TCanvas with name c1\n"
     ]
    },
    {
     "data": {
      "image/png": "[encoded data removed]",
      "text/plain": [
       "<IPython.core.display.Image object>"
      ]
     },
     "metadata": {},
     "output_type": "display_data"
    }
   ],
   "source": [
    "h1.Draw(); gPad->Draw();"
   ]
  },
  {
   "cell_type": "markdown",
   "metadata": {},
   "source": [
    "Before Fitting we need to create the fitting function and set its initial parameter values. \n",
    "For a Gaussian function in reality is not needed, because they can be computed automatically. "
   ]
  },
  {
   "cell_type": "code",
   "execution_count": 4,
   "metadata": {
    "collapsed": false
   },
   "outputs": [],
   "source": [
    "// declare here some variables which will be used afterwards\n",
    "TF1 * f1 = nullptr; \n",
    "TFitResultPtr res; "
   ]
  },
  {
   "cell_type": "code",
   "execution_count": 5,
   "metadata": {
    "collapsed": false
   },
   "outputs": [],
   "source": [
    "f1 = new TF1(\"f1\",\"gaus\",-10,10);"
   ]
  },
  {
   "cell_type": "code",
   "execution_count": 6,
   "metadata": {
    "collapsed": false
   },
   "outputs": [],
   "source": [
    "f1->SetParameters(100,0,1);  "
   ]
  },
  {
   "cell_type": "markdown",
   "metadata": {},
   "source": [
    "We fit now the histogram using the Fit method in ROOT. By default the least-square method is used. \n",
    "For likelihood fits we need to use the option \"L\". \n",
    "The option \"S\" is used to create a TFitResult object that is returned to the user.\n",
    "If we want to compute the error using MINOS, we use the \"E\" option\n",
    "We want to change also the default Minimization engine. We will use Minuit2"
   ]
  },
  {
   "cell_type": "code",
   "execution_count": 7,
   "metadata": {
    "collapsed": false
   },
   "outputs": [],
   "source": [
    "ROOT::Math::MinimizerOptions::SetDefaultMinimizer(\"Minuit2\");"
   ]
  },
  {
   "cell_type": "code",
   "execution_count": 9,
   "metadata": {
    "collapsed": false
   },
   "outputs": [
    {
     "name": "stdout",
     "output_type": "stream",
     "text": [
      "\n",
      "****************************************\n",
      "Minimizer is Minuit2 / Migrad\n",
      "Chi2                      =      35.8313\n",
      "NDf                       =           29\n",
      "Edm                       =  1.53927e-06\n",
      "NCalls                    =           61\n",
      "Constant                  =      74.0249   +/-   3.02719     \n",
      "Mean                      =      1.02272   +/-   0.0685141   \n",
      "Sigma                     =      2.08778   +/-   0.0545989    \t (limited)\n",
      "(TFitResultPtr &) @0x7fff781fcc60\n"
     ]
    }
   ],
   "source": [
    "res = h1.Fit(f1, \"S  E\")"
   ]
  },
  {
   "cell_type": "code",
   "execution_count": 10,
   "metadata": {
    "collapsed": false
   },
   "outputs": [],
   "source": [
    "gStyle->SetOptFit(1);"
   ]
  },
  {
   "cell_type": "code",
   "execution_count": 10,
   "metadata": {
    "collapsed": false
   },
   "outputs": [
    {
     "data": {
      "image/png": "[encoded data removed]",
      "text/plain": [
       "<IPython.core.display.Image object>"
      ]
     },
     "metadata": {},
     "output_type": "display_data"
    }
   ],
   "source": [
    "gPad->SetLogy(true); // to set log scale in y\n",
    "gPad->Draw();"
   ]
  },
  {
   "cell_type": "markdown",
   "metadata": {},
   "source": [
    "We can now print the result of the Fit"
   ]
  },
  {
   "cell_type": "code",
   "execution_count": 11,
   "metadata": {
    "collapsed": false
   },
   "outputs": [
    {
     "name": "stdout",
     "output_type": "stream",
     "text": [
      "\n",
      "****************************************\n",
      "Minimizer is Minuit2 / Migrad\n",
      "Chi2                      =      35.8313\n",
      "NDf                       =           29\n",
      "Edm                       =  1.53927e-06\n",
      "NCalls                    =           61\n",
      "Constant                  =      74.0249   +/-   3.02719     \n",
      "Mean                      =      1.02272   +/-   0.0685141   \n",
      "Sigma                     =      2.08778   +/-   0.0545989    \t (limited)\n"
     ]
    }
   ],
   "source": [
    "res->Print();"
   ]
  },
  {
   "cell_type": "markdown",
   "metadata": {},
   "source": [
    "We now get the corre;ation matrix of the fit from the TFitResult class"
   ]
  },
  {
   "cell_type": "code",
   "execution_count": 12,
   "metadata": {
    "collapsed": false
   },
   "outputs": [],
   "source": [
    "auto corrMatrix = res->GetCorrelationMatrix(); "
   ]
  },
  {
   "cell_type": "code",
   "execution_count": 13,
   "metadata": {
    "collapsed": false
   },
   "outputs": [
    {
     "name": "stdout",
     "output_type": "stream",
     "text": [
      "\n",
      "3x3 matrix is as follows\n",
      "\n",
      "     |      0    |      1    |      2    |\n",
      "--------------------------------------------\n",
      "   0 |          1    0.007831     -0.6162 \n",
      "   1 |   0.007831           1    -0.02075 \n",
      "   2 |    -0.6162    -0.02075           1 \n",
      "\n"
     ]
    }
   ],
   "source": [
    "corrMatrix.Print(); "
   ]
  },
  {
   "cell_type": "code",
   "execution_count": 14,
   "metadata": {
    "collapsed": false
   },
   "outputs": [
    {
     "name": "stdout",
     "output_type": "stream",
     "text": [
      "Gaussian sigma = 2.08778  +/- 0.0545989\n"
     ]
    }
   ],
   "source": [
    "std::cout  << \"Gaussian sigma = \" << f1->GetParameter(\"Sigma\") << \"  +/- \" << f1->GetParError(f1->GetParNumber(\"Sigma\")) << std::endl;"
   ]
  },
  {
   "cell_type": "markdown",
   "metadata": {},
   "source": [
    "If we want to access the MINOS asymmetric error, we can get them from the FitResult object"
   ]
  },
  {
   "cell_type": "code",
   "execution_count": 15,
   "metadata": {
    "collapsed": false
   },
   "outputs": [
    {
     "name": "stdout",
     "output_type": "stream",
     "text": [
      "Gaussian sigma = 2.08778  + 0.0546934  -0.0545425\n"
     ]
    }
   ],
   "source": [
    "std::cout  << \"Gaussian sigma = \" << res->Parameter(2) << \"  + \" << res->UpperError(2) << \"  \" << res->LowerError(2) << std::endl;"
   ]
  },
  {
   "cell_type": "markdown",
   "metadata": {},
   "source": [
    "#### Part 2:  Fit Bias Study\n",
    "\n",
    "We study now the Fit Bias for the sigma parameter. We look at the difference obtained by using 3 different fit methods: \n",
    "\n",
    "1. Chisquare fit using the observed error (default case in ROOT) \n",
    "2. Chisquare fit using the expected error (option \"P\" - Pearson chi2)\n",
    "3. Binned maximum likelihood fit (option \"L\")"
   ]
  },
  {
   "cell_type": "code",
   "execution_count": 17,
   "metadata": {
    "collapsed": false
   },
   "outputs": [],
   "source": [
    "TH1 * hs = nullptr;"
   ]
  },
  {
   "cell_type": "code",
   "execution_count": 16,
   "metadata": {
    "collapsed": false
   },
   "outputs": [],
   "source": [
    "hs = new TH1D(\"hs\",\"Sigma pull distribution\",50,-4,4);"
   ]
  },
  {
   "cell_type": "code",
   "execution_count": 21,
   "metadata": {
    "collapsed": false
   },
   "outputs": [],
   "source": [
    "hs->Reset(); // in case we run a second time\n",
    "for (int iexp = 0; iexp < 1000; ++iexp) { \n",
    "    TH1D h0(\"h0\",\"h0\",50,-10,10);\n",
    "    for (int i = 0; i < 1000; ++i){\n",
    "        h0.Fill(gRandom->Gaus(0,2));\n",
    "    }\n",
    "    TF1 f1(\"f1\",\"gaus\",-10,10);\n",
    "    f1.SetParameters(100,0,1);\n",
    "    h0.Fit(&f1,\"Q  \");  // use Q option to avoid too much printing\n",
    "    hs->Fill( (f1.GetParameter(2)- 2)/f1.GetParError(2));  // to get sigma and its error\n",
    "    //std::cout << f1.GetParameter(2) << \" \" << f1.GetParError(2) << std::endl;\n",
    "}"
   ]
  },
  {
   "cell_type": "code",
   "execution_count": 22,
   "metadata": {
    "collapsed": false
   },
   "outputs": [
    {
     "data": {
      "image/png": "[encoded data removed]",
      "text/plain": [
       "<IPython.core.display.Image object>"
      ]
     },
     "metadata": {},
     "output_type": "display_data"
    },
    {
     "name": "stdout",
     "output_type": "stream",
     "text": [
      "\n",
      "****************************************\n",
      "Minimizer is Minuit2 / Migrad\n",
      "Chi2                      =       36.432\n",
      "NDf                       =           38\n",
      "Edm                       =  3.97241e-10\n",
      "NCalls                    =           61\n",
      "Constant                  =      57.7448   +/-   2.36571     \n",
      "Mean                      =    -0.688767   +/-   0.036018    \n",
      "Sigma                     =      1.06303   +/-   0.0275047    \t (limited)\n"
     ]
    }
   ],
   "source": [
    "hs->Fit(\"gaus\"); gPad->Draw();"
   ]
  },
  {
   "cell_type": "markdown",
   "metadata": {
    "collapsed": true
   },
   "source": [
    "#### Part 3:  Study the chi2 distribution\n",
    "\n",
    "Using the likelihood definition described in the Baker-Cousins paper we can use the likelihood at the minimum as a chi2. We study its distribution using pseudo-experiments.\n",
    "We can compare what we obtain if we use the likelihood-value or the emperical chi2 obtained from the data/function residuals. "
   ]
  },
  {
   "cell_type": "code",
   "execution_count": null,
   "metadata": {
    "collapsed": true
   },
   "outputs": [],
   "source": [
    "TH1 * hchi = nullptr;\n",
    "TF1 * fchi = nullptr; "
   ]
  },
  {
   "cell_type": "code",
   "execution_count": 1,
   "metadata": {
    "collapsed": false
   },
   "outputs": [],
   "source": [
    "hchi = new TH1D(\"hchi\",\"chi-squared distribution\",100,0,100);"
   ]
  },
  {
   "cell_type": "code",
   "execution_count": 2,
   "metadata": {
    "collapsed": false
   },
   "outputs": [
    {
     "name": "stderr",
     "output_type": "stream",
     "text": [
      "Info in <TCanvas::MakeDefCanvas>:  created default TCanvas with name c1\n"
     ]
    }
   ],
   "source": [
    "hchi->Reset(); // in case we run a second time\n",
    "for (int iexp = 0; iexp < 10000; ++iexp) { \n",
    "    TH1D h0(\"h0\",\"h0\",50,-10,10);\n",
    "    for (int i = 0; i < 1000; ++i){\n",
    "        h0.Fill(gRandom->Gaus(0,4));\n",
    "    }\n",
    "    TF1 f1(\"f1\",\"gaus\",-10,10);\n",
    "    f1.SetParameters(100,0,1);\n",
    "    auto r = h0.Fit(&f1,\"S Q L \");  // use Q option to avoid too much printing\n",
    "    hchi->Fill( 2.* r->MinFcnValue() );  // to get likelihood value from fit result\n",
    "    //hchi->Fill( r->Chi2 () );  //  get chi2 value from fit result\n",
    "}"
   ]
  },
  {
   "cell_type": "code",
   "execution_count": 5,
   "metadata": {
    "collapsed": false
   },
   "outputs": [
    {
     "data": {
      "image/png": "[encoded data removed]",
      "text/plain": [
       "<IPython.core.display.Image object>"
      ]
     },
     "metadata": {},
     "output_type": "display_data"
    }
   ],
   "source": [
    "hchi->Draw(); gPad->Draw();"
   ]
  },
  {
   "cell_type": "code",
   "execution_count": 6,
   "metadata": {
    "collapsed": true
   },
   "outputs": [],
   "source": [
    "fchi = new TF1(\"fchi\",\"[0]*ROOT::Math::chisquared_pdf(x,[1])\",0,100);\n",
    "fchi->SetParameters(hchi->GetEntries()*hchi->GetBinWidth(1), hchi->GetMean());"
   ]
  },
  {
   "cell_type": "code",
   "execution_count": 7,
   "metadata": {
    "collapsed": false
   },
   "outputs": [
    {
     "name": "stdout",
     "output_type": "stream",
     "text": [
      " FCN=40.9093 FROM MIGRAD    STATUS=CONVERGED      27 CALLS          28 TOTAL\n",
      "                     EDM=3.11097e-09    STRATEGY= 1      ERROR MATRIX ACCURATE \n",
      "  EXT PARAMETER                                   STEP         FIRST   \n",
      "  NO.   NAME      VALUE            ERROR          SIZE      DERIVATIVE \n",
      "   1  p0           1.00002e+04   1.00002e+02   4.44227e-01   1.67106e-07\n",
      "   2  p1           4.83005e+01   9.72822e-02   4.32282e-04  -5.47017e-04\n",
      "                               ERR DEF= 0.5\n"
     ]
    }
   ],
   "source": [
    "hchi->Fit(fchi,\"L\");"
   ]
  },
  {
   "cell_type": "code",
   "execution_count": 8,
   "metadata": {
    "collapsed": false
   },
   "outputs": [
    {
     "data": {
      "image/png": "[encoded data removed]",
      "text/plain": [
       "<IPython.core.display.Image object>"
      ]
     },
     "metadata": {},
     "output_type": "display_data"
    }
   ],
   "source": [
    "hchi->Draw(); gPad->Draw();"
   ]
  },
  {
   "cell_type": "code",
   "execution_count": null,
   "metadata": {
    "collapsed": true
   },
   "outputs": [],
   "source": []
  }
 ],
 "metadata": {
  "kernelspec": {
   "display_name": "ROOT C++",
   "language": "c++",
   "name": "root"
  },
  "language_info": {
   "codemirror_mode": "text/x-c++src",
   "file_extension": ".C",
   "mimetype": " text/x-c++src",
   "name": "c++"
  }
 },
 "nbformat": 4,
 "nbformat_minor": 0
}
