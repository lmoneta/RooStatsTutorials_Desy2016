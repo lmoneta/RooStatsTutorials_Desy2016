{
 "cells": [
  {
   "cell_type": "markdown",
   "metadata": {},
   "source": [
    "### Simple Fitting Examples in RooFit\n",
    "\n",
    "These examples show how to fit data using RooFit "
   ]
  },
  {
   "cell_type": "markdown",
   "metadata": {},
   "source": [
    "Create First an empty histogram with 50 bins with range [-10,10]"
   ]
  },
  {
   "cell_type": "code",
   "execution_count": 1,
   "metadata": {
    "collapsed": false
   },
   "outputs": [],
   "source": [
    "TH1D h1(\"h1\",\"h1\",50,-10,10);"
   ]
  },
  {
   "cell_type": "markdown",
   "metadata": {},
   "source": [
    "Fill the histogram with 10000 Gaussian Random number with mean=1 and sigma=2"
   ]
  },
  {
   "cell_type": "code",
   "execution_count": 2,
   "metadata": {
    "collapsed": false
   },
   "outputs": [],
   "source": [
    "for (int i = 0; i < 1000; ++i) { h1.Fill(gRandom->Gaus(1,2));}"
   ]
  },
  {
   "cell_type": "markdown",
   "metadata": {},
   "source": [
    "We could also use the function h1.FillRandom(\"gaus\"), but we need to set the right parameters of the Gaussian function before."
   ]
  },
  {
   "cell_type": "code",
   "execution_count": 3,
   "metadata": {
    "collapsed": false
   },
   "outputs": [
    {
     "data": {
      "image/png": "[encoded data removed]",
      "text/plain": [
       "<IPython.core.display.Image object>"
      ]
     },
     "metadata": {},
     "output_type": "display_data"
    },
    {
     "name": "stderr",
     "output_type": "stream",
     "text": [
      "Info in <TCanvas::MakeDefCanvas>:  created default TCanvas with name c1\n"
     ]
    }
   ],
   "source": [
    "h1.Draw(); gPad->Draw();"
   ]
  },
  {
   "cell_type": "markdown",
   "metadata": {},
   "source": [
    "Before Fitting we need to create the model using the RooFIt Workspace Factory.\n",
    "Note we need to create an Extended Pdf if we want to fit also the normalization"
   ]
  },
  {
   "cell_type": "code",
   "execution_count": 4,
   "metadata": {
    "collapsed": false
   },
   "outputs": [
    {
     "name": "stdout",
     "output_type": "stream",
     "text": [
      "\n",
      "\u001b[1mRooFit v3.60 -- Developed by Wouter Verkerke and David Kirkby\u001b[0m \n",
      "                Copyright (C) 2000-2013 NIKHEF, University of California & Stanford University\n",
      "                All rights reserved, please read http://roofit.sourceforge.net/license.txt\n",
      "\n"
     ]
    }
   ],
   "source": [
    "RooWorkspace w(\"w\");\n",
    "RooAbsData * data = nullptr; \n",
    "RooAbsPdf * pdf = nullptr; \n",
    "RooRealVar * x = nullptr; \n",
    "RooPlot * plot = nullptr; \n",
    "RooFitResult * res = nullptr; \n",
    "RooPlot * plot2 = nullptr; \n",
    "RooHist * rhist = nullptr;"
   ]
  },
  {
   "cell_type": "code",
   "execution_count": 5,
   "metadata": {
    "collapsed": false
   },
   "outputs": [],
   "source": [
    "w.factory(\"Gaussian::gaus_pdf(x[-10,10],mean[-10,10],sigma[2,0,10])\");\n",
    "w.factory(\"ExtendPdf:model(gaus_pdf,n[100,0,10000])\");  \n",
    "pdf = w.pdf(\"model\");\n",
    "x = w.var(\"x\");"
   ]
  },
  {
   "cell_type": "markdown",
   "metadata": {
    "collapsed": false
   },
   "source": [
    "Import the data (histogram) as a RooFit object\n",
    "We could eventually use data generated directly from RooFit and do un binned or unbinned fit"
   ]
  },
  {
   "cell_type": "code",
   "execution_count": 6,
   "metadata": {
    "collapsed": false
   },
   "outputs": [
    {
     "name": "stdout",
     "output_type": "stream",
     "text": [
      "[#1] INFO:DataHandling -- RooDataHist::adjustBinning(binData): fit range of variable x expanded to nearest bin boundaries: [-10,10] --> [-10,10]\n"
     ]
    }
   ],
   "source": [
    "w.var(\"x\")->setBins(50);   // set the number of bins for x that will be used for the RooDataHist\n",
    "data = new RooDataHist(\"binData\",\"binData\",*x,&h1);\n",
    "// use data generated by RooFit\n",
    "//data = w.pdf(\"gaus_pdf\")->generate(*x,1000);   // generate 1000 data points\n",
    "// generate directly in a binned data set\n",
    "//data = w.pdf(\"gaus_pdf\")->generateBinned(*x,1000); "
   ]
  },
  {
   "cell_type": "markdown",
   "metadata": {},
   "source": [
    "We fit now the histogram using RooFit. If we fit the binned data set we will do an unbinned likelihood fit otherwise a \n",
    "binned likelihood fit.\n",
    "We want to change also the default Minimization engine. We will use Minuit2\n",
    "We want to save also the FitResult"
   ]
  },
  {
   "cell_type": "code",
   "execution_count": 7,
   "metadata": {
    "collapsed": false
   },
   "outputs": [
    {
     "name": "stdout",
     "output_type": "stream",
     "text": [
      "[#1] INFO:Minization -- p.d.f. provides expected number of events, including extended term in likelihood.\n",
      "[#1] INFO:Minization -- RooMinimizer::optimizeConst: activating const optimization\n",
      "Minuit2Minimizer: Minimize with max-calls 1500 convergence for edm < 1 strategy 1\n",
      "MnSeedGenerator: for initial parameters FCN = -2216.005045527\n",
      "MnSeedGenerator: Initial state:   - FCN =  -2216.005045527 Edm =      890.712 NCalls =     13\n",
      "VariableMetric: start iterating until Edm is < 0.001\n",
      "VariableMetric: Initial state   - FCN =  -2216.005045527 Edm =      890.712 NCalls =     13\n",
      "VariableMetric: Iteration #   0 - FCN =  -2216.005045527 Edm =      890.712 NCalls =     13\n",
      "VariableMetric: Iteration #   1 - FCN =  -3572.267078507 Edm =      64.6826 NCalls =     27\n",
      "VariableMetric: Iteration #   2 - FCN =  -3738.341510674 Edm =      10.3122 NCalls =     36\n",
      "VariableMetric: Iteration #   3 - FCN =  -3758.936303919 Edm =   0.00879882 NCalls =     45\n",
      "VariableMetric: Iteration #   4 - FCN =  -3758.948316556 Edm =   0.00115613 NCalls =     53\n",
      "VariableMetric: Iteration #   5 - FCN =  -3758.950125568 Edm =  9.52784e-05 NCalls =     61\n",
      "VariableMetric: After Hessian   - FCN =  -3758.950125568 Edm =  7.85859e-05 NCalls =     77\n",
      "VariableMetric: Iteration #   6 - FCN =  -3758.950125568 Edm =  7.85859e-05 NCalls =     77\n",
      "Minuit2Minimizer : Valid minimum - status = 0\n",
      "FVAL  = -3758.95012556769507\n",
      "Edm   = 7.85858689510470702e-05\n",
      "Nfcn  = 77\n",
      "mean\t  = 1.05482\t +/-  0.0656381\t(limited)\n",
      "n\t  = 999.922\t +/-  31.6203\t(limited)\n",
      "sigma\t  = 2.0755\t +/-  0.0464605\t(limited)\n",
      "Minuit2Minimizer::GetMinosError for parameter 0  mean using max-calls 1500, tolerance 1\n",
      "MnFunctionCross: parameter 0 set to 0.989185\n",
      "MnSeedGenerator: for initial parameters FCN = -3758.455404987\n",
      "MnSeedGenerator: Initial state:   - FCN =  -3758.455404987 Edm =  6.96912e-05 NCalls =      5\n",
      "VariableMetric: start iterating until Edm is < 0.0005\n",
      "VariableMetric: Initial state   - FCN =  -3758.455404987 Edm =  6.96912e-05 NCalls =      5\n",
      "VariableMetric: Iteration #   0 - FCN =  -3758.455404987 Edm =  6.96912e-05 NCalls =      5\n",
      "VariableMetric: Iteration #   1 - FCN =  -3758.455474281 Edm =  6.99738e-11 NCalls =     10\n",
      "MnFunctionCross: parameter 0 set to 0.988831\n",
      "MnSeedGenerator: for initial parameters FCN = -3758.450098775\n",
      "MnSeedGenerator: Initial state:   - FCN =  -3758.450098775 Edm =  2.56036e-08 NCalls =      5\n",
      "VariableMetric: start iterating until Edm is < 0.0005\n",
      "VariableMetric: Initial state   - FCN =  -3758.450098775 Edm =  2.56036e-08 NCalls =      5\n",
      "VariableMetric: Iteration #   0 - FCN =  -3758.450098775 Edm =  2.56036e-08 NCalls =      5\n",
      "VariableMetric: Iteration #   1 - FCN =  -3758.450098794 Edm =  9.04169e-10 NCalls =     15\n",
      "MnFunctionCross: parameter 0 set to 1.12046\n",
      "MnSeedGenerator: for initial parameters FCN = -3758.444856822\n",
      "MnSeedGenerator: Initial state:   - FCN =  -3758.444856822 Edm =  6.53619e-05 NCalls =      5\n",
      "VariableMetric: start iterating until Edm is < 0.0005\n",
      "VariableMetric: Initial state   - FCN =  -3758.444856822 Edm =  6.53619e-05 NCalls =      5\n",
      "VariableMetric: Iteration #   0 - FCN =  -3758.444856822 Edm =  6.53619e-05 NCalls =      5\n",
      "VariableMetric: Iteration #   1 - FCN =  -3758.444921828 Edm =  2.32289e-11 NCalls =     10\n",
      "MnFunctionCross: parameter 0 set to 1.12012\n",
      "MnSeedGenerator: for initial parameters FCN = -3758.450096328\n",
      "MnSeedGenerator: Initial state:   - FCN =  -3758.450096328 Edm =  2.91196e-08 NCalls =      5\n",
      "VariableMetric: start iterating until Edm is < 0.0005\n",
      "VariableMetric: Initial state   - FCN =  -3758.450096328 Edm =  2.91196e-08 NCalls =      5\n",
      "VariableMetric: Iteration #   0 - FCN =  -3758.450096328 Edm =  2.91196e-08 NCalls =      5\n",
      "VariableMetric: Iteration #   1 - FCN =  -3758.450096363 Edm =  5.81627e-15 NCalls =     15\n",
      "Minos: Lower error for parameter mean  :  -0.0659902\n",
      "Minos: Upper error for parameter mean  :  0.0652972\n",
      "Minuit2Minimizer::GetMinosError for parameter 1  n using max-calls 1500, tolerance 1\n",
      "MnFunctionCross: parameter 0 set to 968.302\n",
      "MnSeedGenerator: for initial parameters FCN = -3758.436867365\n",
      "MnSeedGenerator: Initial state:   - FCN =  -3758.436867365 Edm =  7.52278e-05 NCalls =      5\n",
      "VariableMetric: start iterating until Edm is < 0.0005\n",
      "VariableMetric: Initial state   - FCN =  -3758.436867365 Edm =  7.52278e-05 NCalls =      5\n",
      "VariableMetric: Iteration #   0 - FCN =  -3758.436867365 Edm =  7.52278e-05 NCalls =      5\n",
      "VariableMetric: Iteration #   1 - FCN =  -3758.436942849 Edm =  3.62346e-11 NCalls =     10\n",
      "MnFunctionCross: parameter 0 set to 968.711\n",
      "MnSeedGenerator: for initial parameters FCN = -3758.45023536\n",
      "MnSeedGenerator: Initial state:   - FCN =   -3758.45023536 Edm =  3.61339e-11 NCalls =      5\n",
      "VariableMetric: start iterating until Edm is < 0.0005\n",
      "VariableMetric: Initial state   - FCN =   -3758.45023536 Edm =  3.61339e-11 NCalls =      5\n",
      "VariableMetric: Iteration #   0 - FCN =   -3758.45023536 Edm =  3.61339e-11 NCalls =      5\n",
      "VariableMetric: Iteration #   1 - FCN =   -3758.45023536 Edm =  3.61339e-11 NCalls =      6\n",
      "MnFunctionCross: parameter 0 set to 1031.54\n",
      "MnSeedGenerator: for initial parameters FCN = -3758.462885852\n",
      "MnSeedGenerator: Initial state:   - FCN =  -3758.462885852 Edm =  7.52276e-05 NCalls =      5\n",
      "VariableMetric: start iterating until Edm is < 0.0005\n",
      "VariableMetric: Initial state   - FCN =  -3758.462885852 Edm =  7.52276e-05 NCalls =      5\n",
      "VariableMetric: Iteration #   0 - FCN =  -3758.462885852 Edm =  7.52276e-05 NCalls =      5\n",
      "VariableMetric: Iteration #   1 - FCN =  -3758.462961335 Edm =  3.62346e-11 NCalls =     10\n",
      "MnFunctionCross: parameter 0 set to 1031.96\n",
      "MnSeedGenerator: for initial parameters FCN = -3758.45022602\n",
      "MnSeedGenerator: Initial state:   - FCN =   -3758.45022602 Edm =  3.61327e-11 NCalls =      5\n",
      "VariableMetric: start iterating until Edm is < 0.0005\n",
      "VariableMetric: Initial state   - FCN =   -3758.45022602 Edm =  3.61327e-11 NCalls =      5\n",
      "VariableMetric: Iteration #   0 - FCN =   -3758.45022602 Edm =  3.61327e-11 NCalls =      5\n",
      "VariableMetric: Iteration #   1 - FCN =   -3758.45022602 Edm =  3.61327e-11 NCalls =      6\n",
      "Minos: Lower error for parameter n  :  -31.2149\n",
      "Minos: Upper error for parameter n  :  32.0374\n",
      "Minuit2Minimizer::GetMinosError for parameter 2  sigma using max-calls 1500, tolerance 1\n",
      "MnFunctionCross: parameter 0 set to 2.02904\n",
      "MnSeedGenerator: for initial parameters FCN = -3758.441961812\n",
      "MnSeedGenerator: Initial state:   - FCN =  -3758.441961812 Edm =  1.55282e-05 NCalls =      5\n",
      "VariableMetric: start iterating until Edm is < 0.0005\n",
      "VariableMetric: Initial state   - FCN =  -3758.441961812 Edm =  1.55282e-05 NCalls =      5\n",
      "VariableMetric: Iteration #   0 - FCN =  -3758.441961812 Edm =  1.55282e-05 NCalls =      5\n",
      "VariableMetric: Iteration #   1 - FCN =   -3758.44197675 Edm =   2.6847e-08 NCalls =     10\n",
      "MnFunctionCross: parameter 0 set to 2.02942\n",
      "MnSeedGenerator: for initial parameters FCN = -3758.450372166\n",
      "MnSeedGenerator: Initial state:   - FCN =  -3758.450372166 Edm =  2.63269e-08 NCalls =      5\n",
      "VariableMetric: start iterating until Edm is < 0.0005\n",
      "VariableMetric: Initial state   - FCN =  -3758.450372166 Edm =  2.63269e-08 NCalls =      5\n",
      "VariableMetric: Iteration #   0 - FCN =  -3758.450372166 Edm =  2.63269e-08 NCalls =      5\n",
      "VariableMetric: Iteration #   1 - FCN =  -3758.450372192 Edm =  3.65127e-13 NCalls =     10\n",
      "MnFunctionCross: parameter 0 set to 2.12196\n",
      "MnSeedGenerator: for initial parameters FCN = -3758.457301802\n",
      "MnSeedGenerator: Initial state:   - FCN =  -3758.457301802 Edm =  1.74537e-05 NCalls =      5\n",
      "VariableMetric: start iterating until Edm is < 0.0005\n",
      "VariableMetric: Initial state   - FCN =  -3758.457301802 Edm =  1.74537e-05 NCalls =      5\n",
      "VariableMetric: Iteration #   0 - FCN =  -3758.457301802 Edm =  1.74537e-05 NCalls =      5\n",
      "VariableMetric: Iteration #   1 - FCN =  -3758.457319869 Edm =  2.71035e-08 NCalls =     10\n",
      "MnFunctionCross: parameter 0 set to 2.1223\n",
      "MnSeedGenerator: for initial parameters FCN = -3758.450336955\n",
      "MnSeedGenerator: Initial state:   - FCN =  -3758.450336955 Edm =  2.70638e-08 NCalls =      5\n",
      "VariableMetric: start iterating until Edm is < 0.0005\n",
      "VariableMetric: Initial state   - FCN =  -3758.450336955 Edm =  2.70638e-08 NCalls =      5\n",
      "VariableMetric: Iteration #   0 - FCN =  -3758.450336955 Edm =  2.70638e-08 NCalls =      5\n",
      "VariableMetric: Iteration #   1 - FCN =  -3758.450336983 Edm =  3.01251e-13 NCalls =     10\n",
      "Minos: Lower error for parameter sigma  :  -0.0460974\n",
      "Minos: Upper error for parameter sigma  :  0.0468086\n",
      "[#1] INFO:Minization -- RooMinimizer::optimizeConst: deactivating const optimization\n"
     ]
    },
    {
     "name": "stderr",
     "output_type": "stream",
     "text": [
      "Info in <Minuit2>: Minuit2Minimizer::Hesse : Hesse is valid - matrix is accurate\n",
      "Info in <Minuit2>: VariableMetricBuilder: no improvement in line search\n",
      "Info in <Minuit2>: VariableMetricBuilder: no improvement in line search\n"
     ]
    }
   ],
   "source": [
    "res = pdf->fitTo(*data, RooFit::Minimizer(\"Minuit2\"),RooFit::Save(true), RooFit::Minos(true));"
   ]
  },
  {
   "cell_type": "code",
   "execution_count": 8,
   "metadata": {
    "collapsed": false
   },
   "outputs": [
    {
     "data": {
      "image/png": "[encoded data removed]",
      "text/plain": [
       "<IPython.core.display.Image object>"
      ]
     },
     "metadata": {},
     "output_type": "display_data"
    }
   ],
   "source": [
    "// create a RooPlot object and plot the data and then the fitted function\n",
    "plot = x->frame(); \n",
    "data->plotOn(plot); \n",
    "pdf->plotOn(plot);\n",
    "// plot also the fit parameters\n",
    "pdf->paramOn(plot, RooFit::Layout(0.6,0.9,0.85));\n",
    "plot->Draw(); \n",
    "gPad->Draw(); "
   ]
  },
  {
   "cell_type": "code",
   "execution_count": 9,
   "metadata": {
    "collapsed": false
   },
   "outputs": [
    {
     "data": {
      "image/png": "[encoded data removed]",
      "text/plain": [
       "<IPython.core.display.Image object>"
      ]
     },
     "metadata": {},
     "output_type": "display_data"
    }
   ],
   "source": [
    "gPad->SetLogy(true); // to set log scale in y\n",
    "gPad->Draw();"
   ]
  },
  {
   "cell_type": "markdown",
   "metadata": {},
   "source": [
    "We can now print the result of the Fit"
   ]
  },
  {
   "cell_type": "code",
   "execution_count": 10,
   "metadata": {
    "collapsed": false
   },
   "outputs": [
    {
     "name": "stdout",
     "output_type": "stream",
     "text": [
      "\n",
      "  RooFitResult: minimized FCN value: -3758.95, estimated distance to minimum: 7.85519e-05\n",
      "                covariance matrix quality: Full, accurate covariance matrix\n",
      "                Status : MINIMIZE=0 HESSE=0 MINOS=0 \n",
      "\n",
      "    Floating Parameter    FinalValue +/-  Error   \n",
      "  --------------------  --------------------------\n",
      "                  mean    1.0548e+00 +/-  6.56e-02\n",
      "                     n    9.9992e+02 +/-  3.16e+01\n",
      "                 sigma    2.0755e+00 +/-  4.65e-02\n",
      "\n"
     ]
    }
   ],
   "source": [
    "res->Print();"
   ]
  },
  {
   "cell_type": "markdown",
   "metadata": {},
   "source": [
    "We now get the corre;ation matrix of the fit from the TFitResult class"
   ]
  },
  {
   "cell_type": "code",
   "execution_count": 11,
   "metadata": {
    "collapsed": false
   },
   "outputs": [],
   "source": [
    "auto corrMatrix = res->correlationMatrix(); "
   ]
  },
  {
   "cell_type": "code",
   "execution_count": 12,
   "metadata": {
    "collapsed": false
   },
   "outputs": [
    {
     "name": "stdout",
     "output_type": "stream",
     "text": [
      "\n",
      "3x3 matrix is as follows\n",
      "\n",
      "     |      0    |      1    |      2    |\n",
      "--------------------------------------------\n",
      "   0 |          1  -6.341e-09   0.0009332 \n",
      "   1 | -6.341e-09           1  -6.338e-09 \n",
      "   2 |  0.0009332  -6.338e-09           1 \n",
      "\n"
     ]
    }
   ],
   "source": [
    "corrMatrix.Print(); "
   ]
  },
  {
   "cell_type": "code",
   "execution_count": 13,
   "metadata": {
    "collapsed": false
   },
   "outputs": [
    {
     "name": "stdout",
     "output_type": "stream",
     "text": [
      "Gaussian sigma = 2.0755  +/- 0.0464605\n"
     ]
    }
   ],
   "source": [
    "auto sigma = (RooRealVar*) res->floatParsFinal().find(\"sigma\");\n",
    "std::cout  << \"Gaussian sigma = \" << sigma->getVal() << \"  +/- \" << sigma->getError() << std::endl;"
   ]
  },
  {
   "cell_type": "markdown",
   "metadata": {},
   "source": [
    "If we want to access the MINOS asymmetric error, we can get still them from the RooRealVar object"
   ]
  },
  {
   "cell_type": "code",
   "execution_count": 14,
   "metadata": {
    "collapsed": false
   },
   "outputs": [
    {
     "name": "stdout",
     "output_type": "stream",
     "text": [
      "Gaussian sigma = 2.0755  + 0.0468086 - -0.0460974\n"
     ]
    }
   ],
   "source": [
    "std::cout  << \"Gaussian sigma = \" << sigma->getVal() << \"  + \" << sigma->getAsymErrorHi() << \" - \" << sigma->getAsymErrorLo() << std::endl;"
   ]
  },
  {
   "cell_type": "markdown",
   "metadata": {},
   "source": [
    "RooFit can also plot the residuals from the function and the data "
   ]
  },
  {
   "cell_type": "code",
   "execution_count": 15,
   "metadata": {
    "collapsed": false
   },
   "outputs": [
    {
     "data": {
      "image/png": "[encoded data removed]",
      "text/plain": [
       "<IPython.core.display.Image object>"
      ]
     },
     "metadata": {},
     "output_type": "display_data"
    }
   ],
   "source": [
    "rhist = plot->pullHist();\n",
    "//auto pullHist  = plot->pullHist();\n",
    "// Create a new frame to draw the residual distribution and add the distribution to the frame\n",
    "plot2 = x->frame() ;\n",
    "plot2->addPlotable(rhist,\"P\") ;\n",
    "plot2->Draw();\n",
    "gPad->SetLogy(false);\n",
    "gPad->Draw();"
   ]
  },
  {
   "cell_type": "code",
   "execution_count": 16,
   "metadata": {
    "collapsed": false
   },
   "outputs": [
    {
     "name": "stdout",
     "output_type": "stream",
     "text": [
      "Chi-square from RooFit = 0.99601\n"
     ]
    }
   ],
   "source": [
    "// we compute now also the normalized chi-squared\n",
    "std::cout << \"Chi-square from RooFit = \" << plot->chiSquare() << std::endl;"
   ]
  },
  {
   "cell_type": "markdown",
   "metadata": {},
   "source": [
    "#### Part 2:  Fit Bias Study\n",
    "\n",
    "We study now the Fit Bias for the sigma parameter. We look at the difference obtained by using 3 different fit methods: \n",
    "\n",
    "1. Chisquare fit using the observed error (default case in ROOT) \n",
    "2. Chisquare fit using the expected error (option \"P\" - Pearson chi2)\n",
    "3. Binned maximum likelihood fit (option \"L\")"
   ]
  },
  {
   "cell_type": "code",
   "execution_count": 17,
   "metadata": {
    "collapsed": false
   },
   "outputs": [],
   "source": [
    "TH1 * hs = nullptr;"
   ]
  },
  {
   "cell_type": "code",
   "execution_count": 18,
   "metadata": {
    "collapsed": false
   },
   "outputs": [],
   "source": [
    "hs = new TH1D(\"hs\",\"Sigma pull distribution\",50,-4,4);"
   ]
  },
  {
   "cell_type": "code",
   "execution_count": 19,
   "metadata": {
    "collapsed": false
   },
   "outputs": [
    {
     "name": "stdout",
     "output_type": "stream",
     "text": [
      "generated 1000 experiments - <Sigma> = -0.0747356 +/- 0.030804\n"
     ]
    }
   ],
   "source": [
    "hs->Reset(); // in case we run a second time\n",
    "for (int iexp = 0; iexp < 1000; ++iexp) { \n",
    "    w.var(\"mean\")->setVal(0);\n",
    "    w.var(\"sigma\")->setVal(2);\n",
    "    //RooDataSet * data = pdf->generate(*x,1000);\n",
    "    RooDataHist * data = pdf->generateBinned(*x,1000);\n",
    "    pdf->fitTo(*data,RooFit::PrintLevel(-1),RooFit::Extended(true));\n",
    "    //w.pdf(\"gaus_pdf\")->chi2FitTo(*data,RooFit::PrintLevel(-1));  // need to use non-extended pdf in GausFit\n",
    "    hs->Fill( (w.var(\"sigma\")->getVal()- 2)/w.var(\"sigma\")->getError() );  // to get sigma and its error\n",
    "    delete data;\n",
    "}\n",
    "std::cout << \"generated 1000 experiments - <Sigma> = \" << hs->GetMean() << \" +/- \" << hs->GetMeanError() << std::endl; "
   ]
  },
  {
   "cell_type": "code",
   "execution_count": 20,
   "metadata": {
    "collapsed": false
   },
   "outputs": [
    {
     "data": {
      "image/png": "[encoded data removed]",
      "text/plain": [
       "<IPython.core.display.Image object>"
      ]
     },
     "metadata": {},
     "output_type": "display_data"
    },
    {
     "name": "stdout",
     "output_type": "stream",
     "text": [
      " FCN=49.0154 FROM MIGRAD    STATUS=CONVERGED      59 CALLS          60 TOTAL\n",
      "                     EDM=1.10214e-06    STRATEGY= 1      ERROR MATRIX ACCURATE \n",
      "  EXT PARAMETER                                   STEP         FIRST   \n",
      "  NO.   NAME      VALUE            ERROR          SIZE      DERIVATIVE \n",
      "   1  Constant     6.27274e+01   2.58583e+00   7.02614e-03  -6.51842e-04\n",
      "   2  Mean        -5.20430e-02   3.25289e-02   1.11089e-04   1.86570e-02\n",
      "   3  Sigma        9.71969e-01   2.57302e-02   2.38005e-05  -1.40775e-01\n"
     ]
    }
   ],
   "source": [
    "hs->Fit(\"gaus\"); \n",
    "gPad->Draw();"
   ]
  },
  {
   "cell_type": "code",
   "execution_count": null,
   "metadata": {
    "collapsed": true
   },
   "outputs": [],
   "source": []
  }
 ],
 "metadata": {
  "kernelspec": {
   "display_name": "ROOT C++",
   "language": "c++",
   "name": "root"
  },
  "language_info": {
   "codemirror_mode": "text/x-c++src",
   "file_extension": ".C",
   "mimetype": " text/x-c++src",
   "name": "c++"
  }
 },
 "nbformat": 4,
 "nbformat_minor": 0
}
