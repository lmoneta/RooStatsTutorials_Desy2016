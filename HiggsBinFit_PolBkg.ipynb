{
 "cells": [
  {
   "cell_type": "markdown",
   "metadata": {},
   "source": [
    "### Higgs Fit\n",
    "\n",
    "RooFit example on fitting the 2-photon invariant mass to determine the number of Higgs signal events.\n",
    "\n",
    "We rea dthe data set consisting of ~ 3000 2-photon invariant mass values from a tetx file (Hgg.txt) which should be in the current directory. \n",
    "Otherwise it can be downloaded from here: https://twiki.cern.ch/twiki/pub/Main/ROOTRioTutorial/Hgg.txt"
   ]
  },
  {
   "cell_type": "code",
   "execution_count": 1,
   "metadata": {
    "collapsed": false
   },
   "outputs": [
    {
     "name": "stdout",
     "output_type": "stream",
     "text": [
      "Read 30770 from the file \n"
     ]
    }
   ],
   "source": [
    "   TTree tree(\"tree\",\"tree\");\n",
    "   int nevt = tree.ReadFile(\"Hgg.txt\",\"x\");\n",
    "   if (nevt <= 0) {\n",
    "      Error(\"fitHgg\",\"Error reading data from input file \");\n",
    "   }\n",
    "   std::cout << \"Read \" << nevt << \" from the file \" << std::endl;"
   ]
  },
  {
   "cell_type": "markdown",
   "metadata": {
    "collapsed": true
   },
   "source": [
    "We make now the RooFit model using the RooWorkspace Factory "
   ]
  },
  {
   "cell_type": "code",
   "execution_count": 2,
   "metadata": {
    "collapsed": false
   },
   "outputs": [
    {
     "name": "stdout",
     "output_type": "stream",
     "text": [
      "\n",
      "\u001b[1mRooFit v3.60 -- Developed by Wouter Verkerke and David Kirkby\u001b[0m \n",
      "                Copyright (C) 2000-2013 NIKHEF, University of California & Stanford University\n",
      "                All rights reserved, please read http://roofit.sourceforge.net/license.txt\n",
      "\n"
     ]
    }
   ],
   "source": [
    " RooWorkspace w(\"w\");\n",
    "   w.factory(\"x[110,160]\");  // invariant mass\n",
    "   \n",
    "   w.factory(\"nbackground[10000, 0, 10000]\");\n",
    "   //w.factory(\"Exponential::z1(x, a1[-1,-10,0])\");\n",
    "   w.var(\"nbackground\")->setVal(nevt);\n",
    "   w.var(\"nbackground\")->setMin(0.1*nevt);\n",
    "   w.var(\"nbackground\")->setMax(10*nevt);\n",
    "\n",
    "   // create exponential model as two components\n",
    "   w.factory(\"a1[ 7.5, -500, 500]\");\n",
    "   w.factory(\"a2[-1.5, -500, 500]\");\n",
    "   w.factory(\"expr::z('-(a1*x/100 + a2*(x/100)^2)', a1, a2, x)\");\n",
    "   w.factory(\"Exponential::bmodel(z, 1)\");\n",
    "\n",
    "   // create background model as polynomial\n",
    "   w.factory(\"b0[0, -500, 500]\");\n",
    "   w.factory(\"b1[0, -500, 500]\");\n",
    "   w.factory(\"b2[0, -500, 500]\");\n",
    "   w.factory(\"Chebychev::bmodel_pol(x,{b0,b1,b2})\"); \n",
    "\n",
    "   // signal model   \n",
    "   w.factory(\"nsignal[100, 0.0, 1000.0]\");\n",
    "   //w.factory(\"mass[%f, %f, %f]' % (massguess, massmin, massmax))\n",
    "   w.factory(\"mass[130, 110, 150]\");\n",
    "   w.factory(\"width[1, 0.5, 5]\");\n",
    "   w.factory(\"Gaussian::smodel(x, mass, width)\");\n",
    "   RooAbsPdf * smodel = w.pdf(\"smodel\");\n",
    "\n",
    "   w.factory(\"SUM::model(nbackground*bmodel_pol, nsignal*smodel)\");\n",
    "   RooAbsPdf * model = w.pdf(\"model\");\n",
    "   RooRealVar * x = w.var(\"x\");"
   ]
  },
  {
   "cell_type": "code",
   "execution_count": 3,
   "metadata": {
    "collapsed": false
   },
   "outputs": [
    {
     "name": "stdout",
     "output_type": "stream",
     "text": [
      "\n",
      "RooWorkspace(w) w contents\n",
      "\n",
      "variables\n",
      "---------\n",
      "(a1,a2,b0,b1,b2,mass,nbackground,nsignal,width,x)\n",
      "\n",
      "p.d.f.s\n",
      "-------\n",
      "RooExponential::bmodel[ x=z c=1 ] = 0.000616625\n",
      "RooChebychev::bmodel_pol[ x=x coefList=(b0,b1,b2) ] = 1\n",
      "RooAddPdf::model[ nbackground * bmodel_pol + nsignal * smodel ] = 0.990099\n",
      "RooGaussian::smodel[ x=x mean=mass sigma=width ] = 3.72665e-06\n",
      "\n",
      "functions\n",
      "--------\n",
      "RooFormulaVar::z[ actualVars=(a1,a2,x) formula=\"-(a1*x/100+a2*(x/100)^2)\" ] = -7.39125\n",
      "\n"
     ]
    }
   ],
   "source": [
    "w.Print();"
   ]
  },
  {
   "cell_type": "markdown",
   "metadata": {},
   "source": [
    "We create now the RooFit data set importing the data from the ROOT tree.\n",
    "We import also the data set in the workspace.\n",
    "We now bin the data in an histogram and we create a RooFit data set from the histogram "
   ]
  },
  {
   "cell_type": "code",
   "execution_count": 4,
   "metadata": {
    "collapsed": false
   },
   "outputs": [
    {
     "data": {
      "image/png": "[encoded data removed]",
      "text/plain": [
       "<IPython.core.display.Image object>"
      ]
     },
     "metadata": {},
     "output_type": "display_data"
    },
    {
     "name": "stderr",
     "output_type": "stream",
     "text": [
      "Info in <TCanvas::MakeDefCanvas>:  created default TCanvas with name c1\n"
     ]
    }
   ],
   "source": [
    "tree.Draw(\"x >> h1(100,110,160)\");\n",
    "h1->Draw(); gPad->Draw();"
   ]
  },
  {
   "cell_type": "code",
   "execution_count": 5,
   "metadata": {
    "collapsed": false
   },
   "outputs": [
    {
     "name": "stdout",
     "output_type": "stream",
     "text": [
      "[#1] INFO:DataHandling -- RooDataHist::adjustBinning(bindata): fit range of variable x expanded to nearest bin boundaries: [110,160] --> [110,160]\n",
      "[#1] INFO:ObjectHandling -- RooWorkspace::import(w) importing dataset bindata\n"
     ]
    }
   ],
   "source": [
    "RooDataHist data(\"bindata\",\"data\",*w.var(\"x\"),h1);\n",
    "w.import(data);"
   ]
  },
  {
   "cell_type": "markdown",
   "metadata": {},
   "source": [
    "we now fit the data"
   ]
  },
  {
   "cell_type": "code",
   "execution_count": 6,
   "metadata": {
    "collapsed": false
   },
   "outputs": [],
   "source": [
    "RooFitResult * r = nullptr;\n",
    "RooPlot * plot = nullptr;"
   ]
  },
  {
   "cell_type": "code",
   "execution_count": 16,
   "metadata": {
    "collapsed": true
   },
   "outputs": [],
   "source": [
    "plot = w.var(\"x\")->frame();\n",
    "data.plotOn(plot);"
   ]
  },
  {
   "cell_type": "code",
   "execution_count": 8,
   "metadata": {
    "collapsed": false
   },
   "outputs": [
    {
     "data": {
      "image/png": "[encoded data removed]",
      "text/plain": [
       "<IPython.core.display.Image object>"
      ]
     },
     "metadata": {},
     "output_type": "display_data"
    }
   ],
   "source": [
    "plot->Draw(); c1->Draw();"
   ]
  },
  {
   "cell_type": "code",
   "execution_count": 20,
   "metadata": {
    "collapsed": false
   },
   "outputs": [
    {
     "name": "stdout",
     "output_type": "stream",
     "text": [
      "[#1] INFO:Minization -- p.d.f. provides expected number of events, including extended term in likelihood.\n",
      "[#1] INFO:Minization -- RooMinimizer::optimizeConst: activating const optimization\n",
      "[#1] INFO:Minization --  The following expressions will be evaluated in cache-and-track mode: (bmodel_pol,smodel)\n",
      "Minuit2Minimizer: Minimize with max-calls 3500 convergence for edm < 1 strategy 1\n",
      "[#1] INFO:Minization -- RooNLLVar::evaluatePartition(nll_model_bindata) first = 0 last = 100 Likelihood offset now set to -170094\n",
      "MnSeedGenerator: for initial parameters FCN = 0\n",
      "MnSeedGenerator: Initial state:   - FCN =                0 Edm =      16.0886 NCalls =     29\n",
      "MnSeedGenerator: Negative G2 found - new state:   - FCN =  -9.152328892407 Edm =      7.31778 NCalls =     92\n",
      "VariableMetric: start iterating until Edm is < 0.001\n",
      "VariableMetric: Initial state   - FCN =  -9.152328892407 Edm =      7.31778 NCalls =     92\n",
      "VariableMetric: Iteration #   0 - FCN =  -9.152328892407 Edm =      7.31778 NCalls =     92\n",
      "VariableMetric: Iteration #   1 - FCN =  -14.70124824971 Edm =      2.36095 NCalls =    112\n",
      "VariableMetric: Iteration #   2 - FCN =  -17.79557659404 Edm =      0.84753 NCalls =    130\n",
      "VariableMetric: Iteration #   3 - FCN =  -18.59400269875 Edm =     0.268295 NCalls =    147\n",
      "VariableMetric: Iteration #   4 - FCN =  -18.71579201854 Edm =    0.0247174 NCalls =    163\n",
      "VariableMetric: Iteration #   5 - FCN =  -18.73953517937 Edm =   0.00159642 NCalls =    179\n",
      "VariableMetric: Iteration #   6 - FCN =  -18.74203309356 Edm =   0.00114874 NCalls =    195\n",
      "VariableMetric: Iteration #   7 - FCN =  -18.74439124591 Edm =  0.000194455 NCalls =    211\n",
      "VariableMetric: After Hessian   - FCN =  -18.74439124591 Edm =  0.000170729 NCalls =    261\n",
      "VariableMetric: Iteration #   8 - FCN =  -18.74439124591 Edm =  0.000170729 NCalls =    261\n",
      "Minuit2Minimizer : Valid minimum - status = 0\n",
      "FVAL  = -18.7443912459129933\n",
      "Edm   = 0.00017072930783745431\n",
      "Nfcn  = 261\n",
      "b0\t  = -0.753688\t +/-  0.00968819\t(limited)\n",
      "b1\t  = 0.197547\t +/-  0.00884875\t(limited)\n",
      "b2\t  = -0.0366379\t +/-  0.00949821\t(limited)\n",
      "mass\t  = 124.19\t +/-  0.576299\t(limited)\n",
      "nbackground\t  = 30531.2\t +/-  199.756\t(limited)\n",
      "nsignal\t  = 239.792\t +/-  97.166\t(limited)\n",
      "width\t  = 1.3588\t +/-  0.537892\t(limited)\n",
      "[#1] INFO:Minization -- RooMinimizer::optimizeConst: deactivating const optimization\n"
     ]
    },
    {
     "name": "stderr",
     "output_type": "stream",
     "text": [
      "Info in <Minuit2>: Minuit2Minimizer::Hesse : Hesse is valid - matrix is accurate\n"
     ]
    }
   ],
   "source": [
    "w.var(\"mass\")->setMin(120);\n",
    "r = w.pdf(\"model\")->fitTo(data, RooFit::Minimizer(\"Minuit2\"),RooFit::Save(true), RooFit::Offset(true),RooFit::PrintLevel(1));"
   ]
  },
  {
   "cell_type": "raw",
   "metadata": {},
   "source": [
    "Plot of the fit result"
   ]
  },
  {
   "cell_type": "code",
   "execution_count": 21,
   "metadata": {
    "collapsed": false,
    "scrolled": true
   },
   "outputs": [
    {
     "data": {
      "image/png": "[encoded data removed]",
      "text/plain": [
       "<IPython.core.display.Image object>"
      ]
     },
     "metadata": {},
     "output_type": "display_data"
    },
    {
     "name": "stdout",
     "output_type": "stream",
     "text": [
      "[#1] INFO:Plotting -- RooAbsPdf::plotOn(model) directly selected PDF components: (bmodel_pol)\n",
      "[#1] INFO:Plotting -- RooAbsPdf::plotOn(model) indirectly selected PDF components: ()\n",
      "[#1] INFO:Plotting -- RooAbsPdf::plotOn(model) directly selected PDF components: (smodel)\n",
      "[#1] INFO:Plotting -- RooAbsPdf::plotOn(model) indirectly selected PDF components: ()\n"
     ]
    }
   ],
   "source": [
    "\n",
    "model->plotOn(plot);\n",
    "//w.pdf(\"bmodel_pol\")->plotOn(plot);\n",
    "model->plotOn(plot, RooFit::Components(\"bmodel_pol\"),RooFit::LineStyle(kDashed));\n",
    "model->plotOn(plot, RooFit::Components(\"smodel\"),RooFit::LineColor(kRed));\n",
    "model->paramOn(plot);\n",
    "\n",
    "plot->Draw();\n",
    "c1->Draw();"
   ]
  },
  {
   "cell_type": "markdown",
   "metadata": {},
   "source": [
    "Before saving the workspace we create the RooStats model config object which is needed for the RooStats tools."
   ]
  },
  {
   "cell_type": "code",
   "execution_count": null,
   "metadata": {
    "collapsed": false
   },
   "outputs": [],
   "source": [
    "RooStats::ModelConfig mc(\"ModelConfig\",&w);\n",
    "mc.SetPdf(*w.pdf(\"model\"));\n",
    "mc.SetParametersOfInterest(*w.var(\"nsignal\"));\n",
    "mc.SetObservables(*w.var(\"x\"));\n",
    "// define set of nuisance parameters\n",
    "w.defineSet(\"nuisParams\",\"a1,a2,nbackground\");\n",
    "\n",
    "mc.SetNuisanceParameters(*w.set(\"nuisParams\"));\n",
    "mc.Print();"
   ]
  },
  {
   "cell_type": "markdown",
   "metadata": {},
   "source": [
    "We want to semplify the H->gg model (for speeding-up ) the RooStats calculations, by assuming that the mass and the sigma of the signal are known and do not vary in the fits. We set them to constant"
   ]
  },
  {
   "cell_type": "code",
   "execution_count": null,
   "metadata": {
    "collapsed": false
   },
   "outputs": [],
   "source": [
    "w.var(\"mass\")->setConstant(true);\n",
    "w.var(\"width\")->setConstant(true);\n",
    "w.import(mc);"
   ]
  },
  {
   "cell_type": "code",
   "execution_count": null,
   "metadata": {
    "collapsed": false
   },
   "outputs": [],
   "source": [
    "w.writeToFile(\"HiggsBinModel.root\",true);\n",
    "w.Print();"
   ]
  },
  {
   "cell_type": "code",
   "execution_count": null,
   "metadata": {
    "collapsed": true
   },
   "outputs": [],
   "source": []
  }
 ],
 "metadata": {
  "kernelspec": {
   "display_name": "ROOT C++",
   "language": "c++",
   "name": "root"
  },
  "language_info": {
   "codemirror_mode": "text/x-c++src",
   "file_extension": ".C",
   "mimetype": " text/x-c++src",
   "name": "c++"
  }
 },
 "nbformat": 4,
 "nbformat_minor": 0
}
