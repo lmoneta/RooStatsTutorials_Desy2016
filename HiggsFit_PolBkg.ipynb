{
 "cells": [
  {
   "cell_type": "markdown",
   "metadata": {},
   "source": [
    "### Higgs Fit\n",
    "\n",
    "RooFit example on fitting the 2-photon invariant mass to determine the number of Higgs signal events.\n",
    "\n",
    "We rea dthe data set consisting of ~ 3000 2-photon invariant mass values from a tetx file (Hgg.txt) which should be in the current directory. \n",
    "Otherwise it can be downloaded from here: https://twiki.cern.ch/twiki/pub/Main/ROOTRioTutorial/Hgg.txt"
   ]
  },
  {
   "cell_type": "code",
   "execution_count": 1,
   "metadata": {
    "collapsed": false
   },
   "outputs": [
    {
     "name": "stdout",
     "output_type": "stream",
     "text": [
      "Read 30770 from the file \n"
     ]
    }
   ],
   "source": [
    "   TTree tree(\"tree\",\"tree\");\n",
    "   int nevt = tree.ReadFile(\"Hgg.txt\",\"x\");\n",
    "   if (nevt <= 0) {\n",
    "      Error(\"fitHgg\",\"Error reading data from input file \");\n",
    "   }\n",
    "   std::cout << \"Read \" << nevt << \" from the file \" << std::endl;"
   ]
  },
  {
   "cell_type": "markdown",
   "metadata": {
    "collapsed": true
   },
   "source": [
    "We make now the RooFit model using the RooWorkspace Factory "
   ]
  },
  {
   "cell_type": "code",
   "execution_count": 2,
   "metadata": {
    "collapsed": false
   },
   "outputs": [
    {
     "name": "stdout",
     "output_type": "stream",
     "text": [
      "\n",
      "\u001b[1mRooFit v3.60 -- Developed by Wouter Verkerke and David Kirkby\u001b[0m \n",
      "                Copyright (C) 2000-2013 NIKHEF, University of California & Stanford University\n",
      "                All rights reserved, please read http://roofit.sourceforge.net/license.txt\n",
      "\n"
     ]
    }
   ],
   "source": [
    " RooWorkspace w(\"w\");\n",
    "   w.factory(\"x[110,160]\");  // invariant mass\n",
    "   \n",
    "   w.factory(\"nbackground[10000, 0, 10000]\");\n",
    "   //w.factory(\"Exponential::z1(x, a1[-1,-10,0])\");\n",
    "   w.var(\"nbackground\")->setVal(nevt);\n",
    "   w.var(\"nbackground\")->setMin(0.1*nevt);\n",
    "   w.var(\"nbackground\")->setMax(10*nevt);\n",
    "\n",
    "   // create exponential model as two components\n",
    "   w.factory(\"a1[ 7.5, -500, 500]\");\n",
    "   w.factory(\"a2[-1.5, -500, 500]\");\n",
    "   w.factory(\"expr::z('-(a1*x/100 + a2*(x/100)^2)', a1, a2, x)\");\n",
    "   w.factory(\"Exponential::bmodel(z, 1)\");\n",
    "  \n",
    "   w.factory(\"b0[0, -10, 10]\");\n",
    "   w.factory(\"b1[0, -10, 10]\");\n",
    "   w.factory(\"b2[0, -10, 10]\");\n",
    "   w.factory(\"Chebychev::bmodel_pol(x,{b0,b1,b2})\"); \n",
    "\n",
    "   // signal model   \n",
    "   w.factory(\"nsignal[100, 0.0, 1000.0]\");\n",
    "   //w.factory(\"mass[%f, %f, %f]' % (massguess, massmin, massmax))\n",
    "   w.factory(\"mass[130, 110, 150]\");\n",
    "   w.factory(\"width[1, 0.5, 5]\");\n",
    "   w.factory(\"Gaussian::smodel(x, mass, width)\");\n",
    "   RooAbsPdf * smodel = w.pdf(\"smodel\");\n",
    " \n",
    "   w.factory(\"SUM::model(nbackground*bmodel_pol, nsignal*smodel)\");\n",
    "   RooAbsPdf * model = w.pdf(\"model\");\n",
    "   RooRealVar * x = w.var(\"x\");"
   ]
  },
  {
   "cell_type": "code",
   "execution_count": null,
   "metadata": {
    "collapsed": false
   },
   "outputs": [],
   "source": [
    "w.Print();"
   ]
  },
  {
   "cell_type": "markdown",
   "metadata": {},
   "source": [
    "We create now the RooFit data set importing the data from the ROOT tree.\n",
    "We import also the data set in the workspace"
   ]
  },
  {
   "cell_type": "code",
   "execution_count": 3,
   "metadata": {
    "collapsed": false
   },
   "outputs": [
    {
     "name": "stdout",
     "output_type": "stream",
     "text": [
      "[#1] INFO:Eval -- RooAbsReal::attachToTree(x) TTree Float_t branch x will be converted to double precision\n",
      "[#1] INFO:ObjectHandling -- RooWorkspace::import(w) importing dataset data\n"
     ]
    }
   ],
   "source": [
    "RooDataSet data(\"data\",\"data\",*w.var(\"x\"),RooFit::Import(tree) );\n",
    "w.import(data);"
   ]
  },
  {
   "cell_type": "markdown",
   "metadata": {},
   "source": [
    "we now fit the data"
   ]
  },
  {
   "cell_type": "code",
   "execution_count": 4,
   "metadata": {
    "collapsed": false
   },
   "outputs": [],
   "source": [
    "RooFitResult * r = nullptr;\n",
    "RooPlot * plot = nullptr;"
   ]
  },
  {
   "cell_type": "code",
   "execution_count": 5,
   "metadata": {
    "collapsed": true
   },
   "outputs": [],
   "source": [
    "plot = w.var(\"x\")->frame();\n",
    "data.plotOn(plot);"
   ]
  },
  {
   "cell_type": "code",
   "execution_count": null,
   "metadata": {
    "collapsed": false
   },
   "outputs": [],
   "source": [
    "plot->Draw(); c1->Draw();"
   ]
  },
  {
   "cell_type": "code",
   "execution_count": 6,
   "metadata": {
    "collapsed": false
   },
   "outputs": [
    {
     "name": "stdout",
     "output_type": "stream",
     "text": [
      "[#1] INFO:Minization -- RooMinimizer::optimizeConst: activating const optimization\n",
      "Minuit2Minimizer: Minimize with max-calls 1500 convergence for edm < 1 strategy 1\n",
      "[#1] INFO:Minization -- RooNLLVar::evaluatePartition(nll_bmodel_pol_data) first = 0 last = 30770 Likelihood offset now set to 120373\n",
      "MnSeedGenerator: for initial parameters FCN = 0\n",
      "MnSeedGenerator: Initial state:   - FCN =                0 Edm =      3798.85 NCalls =     13\n",
      "VariableMetric: start iterating until Edm is < 0.001\n",
      "VariableMetric: Initial state   - FCN =                0 Edm =      3798.85 NCalls =     13\n",
      "VariableMetric: Iteration #   0 - FCN =                0 Edm =      3798.85 NCalls =     13\n",
      "VariableMetric: Iteration #   1 - FCN =  -2819.219586589 Edm =      223.616 NCalls =     21\n",
      "VariableMetric: Iteration #   2 - FCN =  -3232.110389616 Edm =      39.8529 NCalls =     30\n",
      "VariableMetric: Iteration #   3 - FCN =  -3265.443433725 Edm =     0.758509 NCalls =     38\n",
      "VariableMetric: Iteration #   4 - FCN =  -3266.031019854 Edm =  0.000753926 NCalls =     46\n",
      "VariableMetric: Iteration #   5 - FCN =  -3266.031726068 Edm =  6.45551e-08 NCalls =     54\n",
      "VariableMetric: After Hessian   - FCN =  -3266.031726068 Edm =  6.18919e-08 NCalls =     70\n",
      "VariableMetric: Iteration #   6 - FCN =  -3266.031726068 Edm =  6.18919e-08 NCalls =     70\n",
      "Minuit2Minimizer : Valid minimum - status = 0\n",
      "FVAL  = -3266.03172606759472\n",
      "Edm   = 6.18919433066274896e-08\n",
      "Nfcn  = 70\n",
      "b0\t  = -0.752901\t +/-  0.00966075\t(limited)\n",
      "b1\t  = 0.191695\t +/-  0.0085725\t(limited)\n",
      "b2\t  = -0.0257334\t +/-  0.00842655\t(limited)\n",
      "[#1] INFO:Minization -- RooMinimizer::optimizeConst: deactivating const optimization\n"
     ]
    },
    {
     "name": "stderr",
     "output_type": "stream",
     "text": [
      "Info in <Minuit2>: Minuit2Minimizer::Hesse : Hesse is valid - matrix is accurate\n"
     ]
    }
   ],
   "source": [
    "r = w.pdf(\"bmodel_pol\")->fitTo(data, RooFit::Minimizer(\"Minuit2\"),RooFit::Save(true), RooFit::Offset(true),RooFit::PrintLevel(1));"
   ]
  },
  {
   "cell_type": "code",
   "execution_count": 7,
   "metadata": {
    "collapsed": false
   },
   "outputs": [
    {
     "name": "stdout",
     "output_type": "stream",
     "text": [
      "[#1] INFO:Minization -- p.d.f. provides expected number of events, including extended term in likelihood.\n",
      "[#1] INFO:Minization -- RooMinimizer::optimizeConst: activating const optimization\n",
      "[#1] INFO:Minization --  The following expressions will be evaluated in cache-and-track mode: (bmodel_pol,smodel)\n",
      "Minuit2Minimizer: Minimize with max-calls 3500 convergence for edm < 1 strategy 1\n",
      "[#1] INFO:Minization -- RooNLLVar::evaluatePartition(nll_model_data) first = 0 last = 30770 Likelihood offset now set to -156470\n",
      "MnSeedGenerator: for initial parameters FCN = 0\n",
      "MnSeedGenerator: Initial state:   - FCN =                0 Edm =      13019.6 NCalls =     29\n",
      "MnSeedGenerator: Negative G2 found - new state:   - FCN =   -393.175930295 Edm =      14594.3 NCalls =    127\n",
      "VariableMetric: start iterating until Edm is < 0.001\n",
      "VariableMetric: Initial state   - FCN =   -393.175930295 Edm =      14594.3 NCalls =    127\n",
      "VariableMetric: Iteration #   0 - FCN =   -393.175930295 Edm =      14594.3 NCalls =    127\n",
      "VariableMetric: Iteration #   1 - FCN =  -13571.26091269 Edm =      68.9789 NCalls =    149\n",
      "VariableMetric: Iteration #   2 - FCN =  -13638.45518693 Edm =      5.68838 NCalls =    167\n",
      "VariableMetric: Iteration #   3 - FCN =  -13643.22565839 Edm =      0.13897 NCalls =    183\n",
      "VariableMetric: Iteration #   4 - FCN =  -13643.89129262 Edm =     0.338363 NCalls =    201\n",
      "VariableMetric: Iteration #   5 - FCN =  -13644.36689475 Edm =    0.0635665 NCalls =    220\n",
      "VariableMetric: Iteration #   6 - FCN =  -13644.44574204 Edm =    0.0328791 NCalls =    236\n",
      "VariableMetric: Iteration #   7 - FCN =  -13644.49958472 Edm =   0.00823196 NCalls =    252\n",
      "VariableMetric: Iteration #   8 - FCN =  -13644.53477146 Edm =    0.0221805 NCalls =    268\n",
      "VariableMetric: Iteration #   9 - FCN =  -13644.60707803 Edm =   0.00116336 NCalls =    284\n",
      "VariableMetric: Iteration #  10 - FCN =  -13644.60809007 Edm =  3.00063e-06 NCalls =    300\n",
      "VariableMetric: After Hessian   - FCN =  -13644.60809007 Edm =  5.54334e-06 NCalls =    356\n",
      "VariableMetric: Iteration #  11 - FCN =  -13644.60809007 Edm =  5.54334e-06 NCalls =    356\n",
      "Minuit2Minimizer : Valid minimum - status = 0\n",
      "FVAL  = -13644.6080900709494\n",
      "Edm   = 5.54334306069375372e-06\n",
      "Nfcn  = 356\n",
      "b0\t  = -0.754022\t +/-  0.00968151\t(limited)\n",
      "b1\t  = 0.197638\t +/-  0.00882466\t(limited)\n",
      "b2\t  = -0.0369914\t +/-  0.00935551\t(limited)\n",
      "mass\t  = 124.121\t +/-  0.529578\t(limited)\n",
      "nbackground\t  = 30528.6\t +/-  195.864\t(limited)\n",
      "nsignal\t  = 241.436\t +/-  89.3915\t(limited)\n",
      "width\t  = 1.38185\t +/-  0.45455\t(limited)\n",
      "[#1] INFO:Minization -- RooMinimizer::optimizeConst: deactivating const optimization\n"
     ]
    },
    {
     "name": "stderr",
     "output_type": "stream",
     "text": [
      "Info in <Minuit2>: Minuit2Minimizer::Hesse : Hesse is valid - matrix is accurate\n"
     ]
    }
   ],
   "source": [
    "r = model->fitTo(data, RooFit::Minimizer(\"Minuit2\"),RooFit::Save(true), RooFit::Offset(true));"
   ]
  },
  {
   "cell_type": "markdown",
   "metadata": {},
   "source": [
    "Plot of the fit result"
   ]
  },
  {
   "cell_type": "code",
   "execution_count": 8,
   "metadata": {
    "collapsed": false,
    "scrolled": true
   },
   "outputs": [
    {
     "data": {
      "image/png": "[encoded data removed]",
      "text/plain": [
       "<IPython.core.display.Image object>"
      ]
     },
     "metadata": {},
     "output_type": "display_data"
    },
    {
     "name": "stdout",
     "output_type": "stream",
     "text": [
      "[#0] ERROR:Plotting -- RooAbsPdf::plotOn(model) ERROR: component selection expression 'bmodel' does not select any components of p.d.f.\n",
      "[#1] INFO:Plotting -- RooAbsPdf::plotOn(model) directly selected PDF components: (smodel)\n",
      "[#1] INFO:Plotting -- RooAbsPdf::plotOn(model) indirectly selected PDF components: ()\n"
     ]
    },
    {
     "name": "stderr",
     "output_type": "stream",
     "text": [
      "Info in <TCanvas::MakeDefCanvas>:  created default TCanvas with name c1\n"
     ]
    }
   ],
   "source": [
    "\n",
    "model->plotOn(plot);\n",
    "model->plotOn(plot, RooFit::Components(\"bmodel\"),RooFit::LineStyle(kDashed));\n",
    "model->plotOn(plot, RooFit::Components(\"smodel\"),RooFit::LineColor(kRed));\n",
    "model->paramOn(plot);\n",
    "\n",
    "plot->Draw();\n",
    "c1->Draw();"
   ]
  },
  {
   "cell_type": "markdown",
   "metadata": {},
   "source": [
    "Before saving the workspace we create the RooStats model config object which is needed for the RooStats tools."
   ]
  },
  {
   "cell_type": "code",
   "execution_count": 9,
   "metadata": {
    "collapsed": false
   },
   "outputs": [
    {
     "name": "stdout",
     "output_type": "stream",
     "text": [
      "\n",
      "=== Using the following for ModelConfig ===\n",
      "Observables:             RooArgSet:: = (x)\n",
      "Parameters of Interest:  RooArgSet:: = (nsignal)\n",
      "Nuisance Parameters:     RooArgSet:: = (a1,a2,nbackground)\n",
      "PDF:                     RooAddPdf::model[ nbackground * bmodel_pol + nsignal * smodel ] = 0.796066\n",
      "\n"
     ]
    }
   ],
   "source": [
    "RooStats::ModelConfig mc(\"ModelConfig\",&w);\n",
    "mc.SetPdf(*w.pdf(\"model\"));\n",
    "mc.SetParametersOfInterest(*w.var(\"nsignal\"));\n",
    "mc.SetObservables(*w.var(\"x\"));\n",
    "// define set of nuisance parameters\n",
    "w.defineSet(\"nuisParams\",\"a1,a2,nbackground\");\n",
    "\n",
    "mc.SetNuisanceParameters(*w.set(\"nuisParams\"));\n",
    "mc.Print();"
   ]
  },
  {
   "cell_type": "markdown",
   "metadata": {},
   "source": [
    "We want to semplify the H->gg model (for speeding-up ) the RooStats calculations, by assuming that the mass and the sigma of the signal are known and do not vary in the fits. We set them to constant"
   ]
  },
  {
   "cell_type": "code",
   "execution_count": 10,
   "metadata": {
    "collapsed": false
   },
   "outputs": [],
   "source": [
    "w.var(\"mass\")->setConstant(true);\n",
    "w.var(\"width\")->setConstant(true);\n",
    "w.import(mc);"
   ]
  },
  {
   "cell_type": "code",
   "execution_count": 11,
   "metadata": {
    "collapsed": false
   },
   "outputs": [
    {
     "name": "stdout",
     "output_type": "stream",
     "text": [
      "\n",
      "RooWorkspace(w) w contents\n",
      "\n",
      "variables\n",
      "---------\n",
      "(a1,a2,b0,b1,b2,mass,nbackground,nsignal,width,x)\n",
      "\n",
      "p.d.f.s\n",
      "-------\n",
      "RooExponential::bmodel[ x=z c=1 ] = 0.000616625\n",
      "RooChebychev::bmodel_pol[ x=x coefList=(b0,b1,b2) ] = 0.802362\n",
      "RooAddPdf::model[ nbackground * bmodel_pol + nsignal * smodel ] = 0.796066\n",
      "RooGaussian::smodel[ x=x mean=mass sigma=width ] = 3.47579e-14\n",
      "\n",
      "functions\n",
      "--------\n",
      "RooFormulaVar::z[ actualVars=(a1,a2,x) formula=\"-(a1*x/100+a2*(x/100)^2)\" ] = -7.39125\n",
      "\n",
      "datasets\n",
      "--------\n",
      "RooDataSet::data(x)\n",
      "\n",
      "named sets\n",
      "----------\n",
      "ModelConfig_NuisParams:(a1,a2,nbackground)\n",
      "ModelConfig_Observables:(x)\n",
      "ModelConfig_POI:(nsignal)\n",
      "nuisParams:(a1,a2,nbackground)\n",
      "\n",
      "generic objects\n",
      "---------------\n",
      "RooStats::ModelConfig::ModelConfig\n",
      "\n"
     ]
    }
   ],
   "source": [
    "w.writeToFile(\"HiggsModel_polbkg.root\",true);\n",
    "w.Print();"
   ]
  },
  {
   "cell_type": "code",
   "execution_count": null,
   "metadata": {
    "collapsed": true
   },
   "outputs": [],
   "source": []
  }
 ],
 "metadata": {
  "kernelspec": {
   "display_name": "ROOT C++",
   "language": "c++",
   "name": "root"
  },
  "language_info": {
   "codemirror_mode": "text/x-c++src",
   "file_extension": ".C",
   "mimetype": " text/x-c++src",
   "name": "c++"
  }
 },
 "nbformat": 4,
 "nbformat_minor": 0
}
