{
 "cells": [
  {
   "cell_type": "markdown",
   "metadata": {},
   "source": [
    "## Example of Limit/Interval Estimation Using Hypothesis Test Inversion "
   ]
  },
  {
   "cell_type": "code",
   "execution_count": 1,
   "metadata": {
    "collapsed": false
   },
   "outputs": [],
   "source": [
    "using namespace RooStats;\n",
    "HypoTestInverter * calc = nullptr;\n",
    "HypoTestInverterResult * result = nullptr; \n",
    "HypoTestInverterPlot * plot = nullptr; \n",
    "RooStats::TestStatistic * testStat = nullptr; \n",
    "RooStats::ToyMCSampler * toymcs = nullptr; \n",
    "RooStats::SamplingDistPlot * distplot = nullptr;\n",
    "TCanvas * c1 = nullptr; \n",
    "TCanvas * c2 = nullptr; "
   ]
  },
  {
   "cell_type": "markdown",
   "metadata": {},
   "source": [
    "First part is just to access the workspace file and retrieve the model and the data "
   ]
  },
  {
   "cell_type": "code",
   "execution_count": 2,
   "metadata": {
    "collapsed": false
   },
   "outputs": [],
   "source": [
    "TString fileName = \"CountingModel.root\";\n",
    "TString workspaceName = \"w\";\n",
    "TString modelConfigName = \"ModelConfig\";\n",
    "TString dataName = \"data\";\n",
    "TString integrationType = \"\";  \n",
    "// Use Minuit2 for minimization\n",
    "ROOT::Math::MinimizerOptions::SetDefaultMinimizer(\"Minuit2\");"
   ]
  },
  {
   "cell_type": "code",
   "execution_count": 3,
   "metadata": {
    "collapsed": false
   },
   "outputs": [
    {
     "name": "stdout",
     "output_type": "stream",
     "text": [
      "\n",
      "\u001b[1mRooFit v3.60 -- Developed by Wouter Verkerke and David Kirkby\u001b[0m \n",
      "                Copyright (C) 2000-2013 NIKHEF, University of California & Stanford University\n",
      "                All rights reserved, please read http://roofit.sourceforge.net/license.txt\n",
      "\n"
     ]
    }
   ],
   "source": [
    "auto file = TFile::Open(fileName);"
   ]
  },
  {
   "cell_type": "code",
   "execution_count": 4,
   "metadata": {
    "collapsed": false
   },
   "outputs": [
    {
     "name": "stdout",
     "output_type": "stream",
     "text": [
      "\n",
      "RooWorkspace(w) w contents\n",
      "\n",
      "variables\n",
      "---------\n",
      "(b,b0,nobs,s,sigmab)\n",
      "\n",
      "p.d.f.s\n",
      "-------\n",
      "RooGaussian::constraint[ x=b0 mean=b sigma=sigmab ] = 1\n",
      "RooProdPdf::model[ pdf * constraint ] = 0.195367\n",
      "RooPoisson::pdf[ x=nobs mean=nexp ] = 0.195367\n",
      "\n",
      "functions\n",
      "--------\n",
      "RooAddition::nexp[ s + b ] = 4\n",
      "\n",
      "datasets\n",
      "--------\n",
      "RooDataSet::data(nobs)\n",
      "\n",
      "parameter snapshots\n",
      "-------------------\n",
      "ModelConfig__snapshot = (s=3)\n",
      "\n",
      "named sets\n",
      "----------\n",
      "ModelConfig_GlobalObservables:(b0)\n",
      "ModelConfig_NuisParams:(b)\n",
      "ModelConfig_Observables:(nobs)\n",
      "ModelConfig_POI:(s)\n",
      "ModelConfig__snapshot:(s)\n",
      "\n",
      "generic objects\n",
      "---------------\n",
      "RooStats::ModelConfig::ModelConfig\n",
      "\n"
     ]
    }
   ],
   "source": [
    "auto w =  (RooWorkspace*) file->Get(workspaceName);\n",
    "w->Print();\n",
    "auto sbModel = (RooStats::ModelConfig*) w->obj(modelConfigName);\n",
    "auto  data = w->data(dataName);\n",
    "auto poi = (RooRealVar*) sbModel->GetParametersOfInterest()->first();"
   ]
  },
  {
   "cell_type": "markdown",
   "metadata": {},
   "source": [
    "##### Make the b Model by cloning the b model and use a value = 0 for the parameter of interest"
   ]
  },
  {
   "cell_type": "code",
   "execution_count": 5,
   "metadata": {
    "collapsed": false
   },
   "outputs": [
    {
     "name": "stdout",
     "output_type": "stream",
     "text": [
      "  1) RooRealVar:: s = 3\n"
     ]
    }
   ],
   "source": [
    "sbModel->GetSnapshot()->Print(\"V\");"
   ]
  },
  {
   "cell_type": "code",
   "execution_count": 6,
   "metadata": {
    "collapsed": false
   },
   "outputs": [
    {
     "name": "stdout",
     "output_type": "stream",
     "text": [
      "  1) RooRealVar:: s = 3\n"
     ]
    }
   ],
   "source": [
    "sbModel->SetName(\"S+B Model\");\n",
    "auto bModel = (RooStats::ModelConfig*) sbModel->Clone(\"B Model\");\n",
    "poi->setVal(0);\n",
    "bModel->SetSnapshot( *poi  );\n",
    "sbModel->GetSnapshot()->Print(\"V\");"
   ]
  },
  {
   "cell_type": "markdown",
   "metadata": {},
   "source": [
    "Create the Hypothesis test calculator. Note that in this case the NULL model is the S+B model. "
   ]
  },
  {
   "cell_type": "code",
   "execution_count": 7,
   "metadata": {
    "collapsed": false
   },
   "outputs": [
    {
     "name": "stdout",
     "output_type": "stream",
     "text": [
      "[#0] PROGRESS:Eval -- AsymptoticCalculator::Initialize....\n",
      "[#0] PROGRESS:Eval -- AsymptoticCalculator::Initialize - Find  best unconditional NLL on observed data\n",
      "AsymptoticCalculator::EvaluateNLL  ........ using Minuit2 / Migrad with strategy  1 and tolerance 1\n",
      "Minuit2Minimizer: Minimize with max-calls 1000 convergence for edm < 1 strategy 1\n",
      "Minuit2Minimizer : Valid minimum - status = 0\n",
      "FVAL  = 0.805423551781029756\n",
      "Edm   = 6.14471779887919668e-07\n",
      "Nfcn  = 42\n",
      "b\t  = 1.00005\t +/-  0.199847\t(limited)\n",
      "s\t  = 2.00182\t +/-  1.71048\t(limited)\n",
      "AsymptoticCalculator::EvaluateNLL -  value = 0.805424\tfit time : Real time 0:00:00, CP time 0.060\n",
      "[#0] PROGRESS:Eval -- Best fitted POI value = 2.00182 +/- 1.71048\n",
      "[#0] PROGRESS:Eval -- AsymptoticCalculator: Building Asimov data Set\n",
      "[#1] INFO:InputArguments -- AsymptoticCalculator: Asimov data will be generated using fitted nuisance parameter values\n",
      "MakeAsimov: Setting poi s to a constant value = 0\n",
      "MakeAsimov: doing a conditional fit for finding best nuisance values \n",
      "Minuit2Minimizer: Minimize with max-calls 500 convergence for edm < 1 strategy 1\n",
      "Minuit2Minimizer : Valid minimum - status = 0\n",
      "FVAL  = 2.02960761410109347\n",
      "Edm   = 0.000125905645952552672\n",
      "Nfcn  = 13\n",
      "b\t  = 1.07497\t +/-  0.190123\t(limited)\n",
      "fit time Real time 0:00:00, CP time 0.000\n",
      "Generated Asimov data for observables RooArgSet:: = (nobs)\n",
      "Generated Asimov data for global observables RooArgSet:: = (b0)\n",
      "[#0] PROGRESS:Eval -- AsymptoticCalculator::Initialize Find  best conditional NLL on ASIMOV data set for given alt POI ( s ) = 0\n",
      "AsymptoticCalculator::EvaluateNLL  ........ using Minuit2 / Migrad with strategy  1 and tolerance 1\n",
      "Minuit2Minimizer: Minimize with max-calls 500 convergence for edm < 1 strategy 1\n",
      "Minuit2Minimizer : Valid minimum - status = 0\n",
      "FVAL  = 0.340237965857925984\n",
      "Edm   = 1.55114698245134715e-21\n",
      "Nfcn  = 13\n",
      "b\t  = 1.07497\t +/-  0.196248\t(limited)\n",
      "AsymptoticCalculator::EvaluateNLL -  value = 0.340238 for poi fixed at = 0\tfit time : Real time 0:00:00, CP time 0.000\n"
     ]
    },
    {
     "name": "stderr",
     "output_type": "stream",
     "text": [
      "Info in <Minuit2>: VariableMetricBuilder: no improvement in line search\n"
     ]
    }
   ],
   "source": [
    "// RooStats::AsymptoticCalculator::SetPrintLevel(-1);  // to switch off print level \n",
    "RooStats::AsymptoticCalculator  asymCalc(*data, *bModel, *sbModel);"
   ]
  },
  {
   "cell_type": "code",
   "execution_count": 8,
   "metadata": {
    "collapsed": true
   },
   "outputs": [],
   "source": [
    "asymCalc.SetOneSided(true);  // for one-side test (compute a limit)\n",
    "//asymCalc.SetPrintLevel(-1);  // to suppress print level "
   ]
  },
  {
   "cell_type": "markdown",
   "metadata": {},
   "source": [
    "Create the HypoTestInverter calculator and configure it "
   ]
  },
  {
   "cell_type": "code",
   "execution_count": 9,
   "metadata": {
    "collapsed": false
   },
   "outputs": [
    {
     "name": "stdout",
     "output_type": "stream",
     "text": [
      "[#1] INFO:InputArguments -- HypoTestInverter ---- Input models: \n",
      "\t\t using as S+B (null) model     : S+B Model\n",
      "\t\t using as B (alternate) model  : B Model\n",
      "\n"
     ]
    }
   ],
   "source": [
    "calc = new RooStats::HypoTestInverter(asymCalc); "
   ]
  },
  {
   "cell_type": "markdown",
   "metadata": {},
   "source": [
    "Configure the calculator"
   ]
  },
  {
   "cell_type": "code",
   "execution_count": 10,
   "metadata": {
    "collapsed": false
   },
   "outputs": [],
   "source": [
    "calc->SetConfidenceLevel(0.95);\n",
    "calc->UseCLs(true); \n",
    "calc->SetVerbose(false);\n",
    "\n",
    "calc->SetFixedScan(10,0.0,20.0); // set number of points , xmin and xmax \n",
    "\n",
    "asymCalc.SetOneSided(true);  // for one-side test (compute a limit)\n",
    "asymCalc.SetPrintLevel(-1); "
   ]
  },
  {
   "cell_type": "markdown",
   "metadata": {},
   "source": [
    "Run now the calculator to compute the interval "
   ]
  },
  {
   "cell_type": "code",
   "execution_count": 11,
   "metadata": {
    "collapsed": false
   },
   "outputs": [
    {
     "name": "stdout",
     "output_type": "stream",
     "text": [
      "[#1] INFO:Eval -- HypoTestInverter::GetInterval - run a fixed scan\n",
      "[#0] WARNING:InputArguments -- HypoTestInverter::RunFixedScan - xMax > upper bound, use xmax = 15\n",
      "[#1] INFO:InputArguments -- Minimum of POI is 0 corresponds to alt  snapshot   - using qtilde asymptotic formulae  \n",
      "[#1] INFO:Eval -- Using one-sided qmu - setting qmu to zero  muHat = 2.00182 muTest = 0\n",
      "[#1] INFO:ObjectHandling -- RooWorkspace::saveSnaphot(w) replacing previous snapshot with name S+B Model__snapshot\n",
      "[#1] INFO:Eval -- Using one-sided qmu - setting qmu to zero  muHat = 2.00182 muTest = 1.66667\n",
      "[#1] INFO:ObjectHandling -- RooWorkspace::saveSnaphot(w) replacing previous snapshot with name S+B Model__snapshot\n",
      "[#1] INFO:ObjectHandling -- RooWorkspace::saveSnaphot(w) replacing previous snapshot with name S+B Model__snapshot\n",
      "[#1] INFO:ObjectHandling -- RooWorkspace::saveSnaphot(w) replacing previous snapshot with name S+B Model__snapshot\n",
      "[#1] INFO:ObjectHandling -- RooWorkspace::saveSnaphot(w) replacing previous snapshot with name S+B Model__snapshot\n",
      "[#1] INFO:ObjectHandling -- RooWorkspace::saveSnaphot(w) replacing previous snapshot with name S+B Model__snapshot\n",
      "[#1] INFO:ObjectHandling -- RooWorkspace::saveSnaphot(w) replacing previous snapshot with name S+B Model__snapshot\n",
      "[#1] INFO:ObjectHandling -- RooWorkspace::saveSnaphot(w) replacing previous snapshot with name S+B Model__snapshot\n",
      "[#1] INFO:ObjectHandling -- RooWorkspace::saveSnaphot(w) replacing previous snapshot with name S+B Model__snapshot\n"
     ]
    }
   ],
   "source": [
    "result = calc->GetInterval();"
   ]
  },
  {
   "cell_type": "code",
   "execution_count": 12,
   "metadata": {
    "collapsed": false
   },
   "outputs": [
    {
     "name": "stdout",
     "output_type": "stream",
     "text": [
      "95% interval is : [0, 6.22563] \n",
      "The computed upper limit is: 6.22563\n",
      "Expected upper limits, using the B (alternate) model : \n",
      " expected limit (median) 3.60858\n",
      " expected limit (-1 sig) 2.62137\n",
      " expected limit (+1 sig) 5.92498\n",
      " expected limit (-2 sig) 1.64381\n",
      " expected limit (+2 sig) 9.2754\n"
     ]
    }
   ],
   "source": [
    "cout << 100*calc->ConfidenceLevel() << \"% interval is : [\"<< result->LowerLimit() << \", \"<< result->UpperLimit() <<\"] \"<<endl;\n",
    "\n",
    "std::cout << \"The computed upper limit is: \" << result->UpperLimit() << std::endl;\n",
    "  \n",
    "  // compute expected limit\n",
    "  std::cout << \"Expected upper limits, using the B (alternate) model : \" << std::endl;\n",
    "  std::cout << \" expected limit (median) \" << result->GetExpectedUpperLimit(0) << std::endl;\n",
    "  std::cout << \" expected limit (-1 sig) \" << result->GetExpectedUpperLimit(-1) << std::endl;\n",
    "  std::cout << \" expected limit (+1 sig) \" << result->GetExpectedUpperLimit(1) << std::endl;\n",
    "  std::cout << \" expected limit (-2 sig) \" << result->GetExpectedUpperLimit(-2) << std::endl;\n",
    "  std::cout << \" expected limit (+2 sig) \" << result->GetExpectedUpperLimit(2) << std::endl;"
   ]
  },
  {
   "cell_type": "markdown",
   "metadata": {},
   "source": [
    "Plot now the result of the scan of the hypothesis tests"
   ]
  },
  {
   "cell_type": "code",
   "execution_count": 13,
   "metadata": {
    "collapsed": false
   },
   "outputs": [
    {
     "data": {
      "image/png": "[encoded data removed]",
      "text/plain": [
       "<IPython.core.display.Image object>"
      ]
     },
     "metadata": {},
     "output_type": "display_data"
    },
    {
     "name": "stderr",
     "output_type": "stream",
     "text": [
      "Info in <TCanvas::MakeDefCanvas>:  created default TCanvas with name c1\n"
     ]
    }
   ],
   "source": [
    "plot = new RooStats::HypoTestInverterPlot(\"HTI_Result_Plot\",\"HypoTest Scan Result\",result);\n",
    "plot->Draw(\"CLb 2CL\");  // plot also CLb and CLs+b \n",
    "gPad->Draw();"
   ]
  },
  {
   "cell_type": "markdown",
   "metadata": {
    "collapsed": true
   },
   "source": [
    "### Frequentist Calculator\n",
    "\n",
    "We run now on the same model the FrequentistCalculator. The Frequentist Calculator uses the test statistic distributions obtained with pseudo-experiments."
   ]
  },
  {
   "cell_type": "code",
   "execution_count": 14,
   "metadata": {
    "collapsed": false
   },
   "outputs": [],
   "source": [
    "RooStats::FrequentistCalculator   fc(*data, *bModel, *sbModel);"
   ]
  },
  {
   "cell_type": "markdown",
   "metadata": {
    "collapsed": false
   },
   "source": [
    "We configure the Frequentist calculator by specifying the number of toys for the two hypothesis "
   ]
  },
  {
   "cell_type": "code",
   "execution_count": 15,
   "metadata": {
    "collapsed": true
   },
   "outputs": [],
   "source": [
    "fc.SetToys(1000,500);    // 1000 for null (S+B) and 500 for alt (B) "
   ]
  },
  {
   "cell_type": "markdown",
   "metadata": {
    "collapsed": false
   },
   "source": [
    "We need also to specify the test statistics type. Here are some possible test statistics to use "
   ]
  },
  {
   "cell_type": "code",
   "execution_count": 16,
   "metadata": {
    "collapsed": false
   },
   "outputs": [],
   "source": [
    "testStat = new RooStats::ProfileLikelihoodTestStat(*sbModel->GetPdf());\n",
    "// needed for PL test statistics\n",
    "if (dynamic_cast<RooStats::ProfileLikelihoodTestStat *>(testStat))\n",
    "   ((RooStats::ProfileLikelihoodTestStat *)testStat)->SetOneSided(false);"
   ]
  },
  {
   "cell_type": "code",
   "execution_count": 17,
   "metadata": {
    "collapsed": false
   },
   "outputs": [],
   "source": [
    "toymcs = (RooStats::ToyMCSampler*)fc.GetTestStatSampler();\n",
    "toymcs->SetTestStatistic(testStat);"
   ]
  },
  {
   "cell_type": "code",
   "execution_count": 18,
   "metadata": {
    "collapsed": false
   },
   "outputs": [],
   "source": [
    "// for number counting experiments (i.e. when we have only one event per toy)\n",
    "// in general shape cases are extended model\n",
    "if (!sbModel->GetPdf()->canBeExtended())\n",
    "    toymcs->SetNEventsPerToy(1);"
   ]
  },
  {
   "cell_type": "markdown",
   "metadata": {},
   "source": [
    "Run now the calculator. It can take some time... be patient "
   ]
  },
  {
   "cell_type": "code",
   "execution_count": 34,
   "metadata": {
    "collapsed": false
   },
   "outputs": [
    {
     "name": "stdout",
     "output_type": "stream",
     "text": [
      "[#1] INFO:InputArguments -- HypoTestInverter ---- Input models: \n",
      "\t\t using as S+B (null) model     : S+B Model\n",
      "\t\t using as B (alternate) model  : B Model\n",
      "\n",
      "[#1] INFO:Eval -- HypoTestInverter::GetInterval - run a fixed scan\n",
      "[#1] INFO:ObjectHandling -- RooWorkspace::saveSnaphot(w) replacing previous snapshot with name S+B Model__snapshot\n",
      "\n",
      "=== Using the following for S+B Model ===\n",
      "Observables:             RooArgSet:: = (nobs)\n",
      "Parameters of Interest:  RooArgSet:: = (s)\n",
      "Nuisance Parameters:     RooArgSet:: = (b)\n",
      "Global Observables:      RooArgSet:: = (b0)\n",
      "PDF:                     RooProdPdf::model[ pdf * constraint ] = 0.349091\n",
      "Snapshot:                \n",
      "  1) 0x7fd431952c50 RooRealVar:: s = 0  L(0 - 15)  \"s\"\n",
      "\n",
      "\n",
      "=== Using the following for B Model ===\n",
      "Observables:             RooArgSet:: = (nobs)\n",
      "Parameters of Interest:  RooArgSet:: = (s)\n",
      "Nuisance Parameters:     RooArgSet:: = (b)\n",
      "Global Observables:      RooArgSet:: = (b0)\n",
      "PDF:                     RooProdPdf::model[ pdf * constraint ] = 0.349091\n",
      "Snapshot:                \n",
      "  1) 0x7fd431952c50 RooRealVar:: s = 0  L(0 - 15)  \"s\"\n",
      "\n",
      "[#0] PROGRESS:Generation -- Test Statistic on data: 0\n",
      "[#1] INFO:InputArguments -- Profiling conditional MLEs for Null.\n",
      "[#1] INFO:InputArguments -- Using a ToyMCSampler. Now configuring for Null.\n",
      "[#0] PROGRESS:Generation -- generated toys: 500 / 1000\n",
      "[#1] INFO:InputArguments -- Profiling conditional MLEs for Alt.\n",
      "[#1] INFO:InputArguments -- Using a ToyMCSampler. Now configuring for Alt.\n",
      "[#1] INFO:ObjectHandling -- RooWorkspace::saveSnaphot(w) replacing previous snapshot with name S+B Model__snapshot\n",
      "\n",
      "=== Using the following for S+B Model ===\n",
      "Observables:             RooArgSet:: = (nobs)\n",
      "Parameters of Interest:  RooArgSet:: = (s)\n",
      "Nuisance Parameters:     RooArgSet:: = (b)\n",
      "Global Observables:      RooArgSet:: = (b0)\n",
      "PDF:                     RooProdPdf::model[ pdf * constraint ] = 0.250854\n",
      "Snapshot:                \n",
      "  1) 0x7fd431846d60 RooRealVar:: s = 1.11111  L(0 - 15)  \"s\"\n",
      "\n",
      "\n",
      "=== Using the following for B Model ===\n",
      "Observables:             RooArgSet:: = (nobs)\n",
      "Parameters of Interest:  RooArgSet:: = (s)\n",
      "Nuisance Parameters:     RooArgSet:: = (b)\n",
      "Global Observables:      RooArgSet:: = (b0)\n",
      "PDF:                     RooProdPdf::model[ pdf * constraint ] = 0.250854\n",
      "Snapshot:                \n",
      "  1) 0x7fd43183b790 RooRealVar:: s = 0  L(0 - 15)  \"s\"\n",
      "\n",
      "[#0] PROGRESS:Generation -- Test Statistic on data: 0\n",
      "[#1] INFO:InputArguments -- Profiling conditional MLEs for Null.\n",
      "[#1] INFO:InputArguments -- Using a ToyMCSampler. Now configuring for Null.\n",
      "[#0] PROGRESS:Generation -- generated toys: 500 / 1000\n",
      "[#1] INFO:InputArguments -- Profiling conditional MLEs for Alt.\n",
      "[#1] INFO:InputArguments -- Using a ToyMCSampler. Now configuring for Alt.\n",
      "[#1] INFO:ObjectHandling -- RooWorkspace::saveSnaphot(w) replacing previous snapshot with name S+B Model__snapshot\n",
      "\n",
      "=== Using the following for S+B Model ===\n",
      "Observables:             RooArgSet:: = (nobs)\n",
      "Parameters of Interest:  RooArgSet:: = (s)\n",
      "Nuisance Parameters:     RooArgSet:: = (b)\n",
      "Global Observables:      RooArgSet:: = (b0)\n",
      "PDF:                     RooProdPdf::model[ pdf * constraint ] = 0.12918\n",
      "Snapshot:                \n",
      "  1) 0x7fd43193be20 RooRealVar:: s = 2.22222  L(0 - 15)  \"s\"\n",
      "\n",
      "\n",
      "=== Using the following for B Model ===\n",
      "Observables:             RooArgSet:: = (nobs)\n",
      "Parameters of Interest:  RooArgSet:: = (s)\n",
      "Nuisance Parameters:     RooArgSet:: = (b)\n",
      "Global Observables:      RooArgSet:: = (b0)\n",
      "PDF:                     RooProdPdf::model[ pdf * constraint ] = 0.12918\n",
      "Snapshot:                \n",
      "  1) 0x7fd43193be20 RooRealVar:: s = 0  L(0 - 15)  \"s\"\n",
      "\n",
      "[#0] PROGRESS:Generation -- Test Statistic on data: 0.00764004\n",
      "[#1] INFO:InputArguments -- Profiling conditional MLEs for Null.\n",
      "[#1] INFO:InputArguments -- Using a ToyMCSampler. Now configuring for Null.\n",
      "[#0] PROGRESS:Generation -- generated toys: 500 / 1000\n",
      "[#1] INFO:InputArguments -- Profiling conditional MLEs for Alt.\n",
      "[#1] INFO:InputArguments -- Using a ToyMCSampler. Now configuring for Alt.\n",
      "[#1] INFO:ObjectHandling -- RooWorkspace::saveSnaphot(w) replacing previous snapshot with name S+B Model__snapshot\n",
      "\n",
      "=== Using the following for S+B Model ===\n",
      "Observables:             RooArgSet:: = (nobs)\n",
      "Parameters of Interest:  RooArgSet:: = (s)\n",
      "Nuisance Parameters:     RooArgSet:: = (b)\n",
      "Global Observables:      RooArgSet:: = (b0)\n",
      "PDF:                     RooProdPdf::model[ pdf * constraint ] = 0.0582705\n",
      "Snapshot:                \n",
      "  1) 0x7fd4307c41f0 RooRealVar:: s = 3.33333  L(0 - 15)  \"s\"\n",
      "\n",
      "\n",
      "=== Using the following for B Model ===\n",
      "Observables:             RooArgSet:: = (nobs)\n",
      "Parameters of Interest:  RooArgSet:: = (s)\n",
      "Nuisance Parameters:     RooArgSet:: = (b)\n",
      "Global Observables:      RooArgSet:: = (b0)\n",
      "PDF:                     RooProdPdf::model[ pdf * constraint ] = 0.0582705\n",
      "Snapshot:                \n",
      "  1) 0x7fd4307c41f0 RooRealVar:: s = 0  L(0 - 15)  \"s\"\n",
      "\n",
      "[#0] PROGRESS:Generation -- Test Statistic on data: 0.227953\n",
      "[#1] INFO:InputArguments -- Profiling conditional MLEs for Null.\n",
      "[#1] INFO:InputArguments -- Using a ToyMCSampler. Now configuring for Null.\n",
      "[#0] PROGRESS:Generation -- generated toys: 500 / 1000\n",
      "[#1] INFO:InputArguments -- Profiling conditional MLEs for Alt.\n",
      "[#1] INFO:InputArguments -- Using a ToyMCSampler. Now configuring for Alt.\n",
      "[#1] INFO:ObjectHandling -- RooWorkspace::saveSnaphot(w) replacing previous snapshot with name S+B Model__snapshot\n",
      "\n",
      "=== Using the following for S+B Model ===\n",
      "Observables:             RooArgSet:: = (nobs)\n",
      "Parameters of Interest:  RooArgSet:: = (s)\n",
      "Nuisance Parameters:     RooArgSet:: = (b)\n",
      "Global Observables:      RooArgSet:: = (b0)\n",
      "PDF:                     RooProdPdf::model[ pdf * constraint ] = 0.0244662\n",
      "Snapshot:                \n",
      "  1) 0x7fd4306503e0 RooRealVar:: s = 4.44444  L(0 - 15)  \"s\"\n",
      "\n",
      "\n",
      "=== Using the following for B Model ===\n",
      "Observables:             RooArgSet:: = (nobs)\n",
      "Parameters of Interest:  RooArgSet:: = (s)\n",
      "Nuisance Parameters:     RooArgSet:: = (b)\n",
      "Global Observables:      RooArgSet:: = (b0)\n",
      "PDF:                     RooProdPdf::model[ pdf * constraint ] = 0.0244662\n",
      "Snapshot:                \n",
      "  1) 0x7fd4306503e0 RooRealVar:: s = 0  L(0 - 15)  \"s\"\n",
      "\n",
      "[#0] PROGRESS:Generation -- Test Statistic on data: 0.652473\n",
      "[#1] INFO:InputArguments -- Profiling conditional MLEs for Null.\n",
      "[#1] INFO:InputArguments -- Using a ToyMCSampler. Now configuring for Null.\n",
      "[#0] PROGRESS:Generation -- generated toys: 500 / 1000\n",
      "[#1] INFO:InputArguments -- Profiling conditional MLEs for Alt.\n",
      "[#1] INFO:InputArguments -- Using a ToyMCSampler. Now configuring for Alt.\n",
      "[#1] INFO:ObjectHandling -- RooWorkspace::saveSnaphot(w) replacing previous snapshot with name S+B Model__snapshot\n",
      "\n",
      "=== Using the following for S+B Model ===\n",
      "Observables:             RooArgSet:: = (nobs)\n",
      "Parameters of Interest:  RooArgSet:: = (s)\n",
      "Nuisance Parameters:     RooArgSet:: = (b)\n",
      "Global Observables:      RooArgSet:: = (b0)\n",
      "PDF:                     RooProdPdf::model[ pdf * constraint ] = 0.00982031\n",
      "Snapshot:                \n",
      "  1) 0x7fd43193be20 RooRealVar:: s = 5.55556  L(0 - 15)  \"s\"\n",
      "\n",
      "\n",
      "=== Using the following for B Model ===\n",
      "Observables:             RooArgSet:: = (nobs)\n",
      "Parameters of Interest:  RooArgSet:: = (s)\n",
      "Nuisance Parameters:     RooArgSet:: = (b)\n",
      "Global Observables:      RooArgSet:: = (b0)\n",
      "PDF:                     RooProdPdf::model[ pdf * constraint ] = 0.00982031\n",
      "Snapshot:                \n",
      "  1) 0x7fd43193be20 RooRealVar:: s = 0  L(0 - 15)  \"s\"\n",
      "\n",
      "[#0] PROGRESS:Generation -- Test Statistic on data: 1.20459\n",
      "[#1] INFO:InputArguments -- Profiling conditional MLEs for Null.\n",
      "[#1] INFO:InputArguments -- Using a ToyMCSampler. Now configuring for Null.\n",
      "[#0] PROGRESS:Generation -- generated toys: 500 / 1000\n",
      "[#1] INFO:InputArguments -- Profiling conditional MLEs for Alt.\n",
      "[#1] INFO:InputArguments -- Using a ToyMCSampler. Now configuring for Alt.\n",
      "[#1] INFO:ObjectHandling -- RooWorkspace::saveSnaphot(w) replacing previous snapshot with name S+B Model__snapshot\n",
      "\n",
      "=== Using the following for S+B Model ===\n",
      "Observables:             RooArgSet:: = (nobs)\n",
      "Parameters of Interest:  RooArgSet:: = (s)\n",
      "Nuisance Parameters:     RooArgSet:: = (b)\n",
      "Global Observables:      RooArgSet:: = (b0)\n",
      "PDF:                     RooProdPdf::model[ pdf * constraint ] = 0.00382163\n",
      "Snapshot:                \n",
      "  1) 0x7fd43184a310 RooRealVar:: s = 6.66667  L(0 - 15)  \"s\"\n",
      "\n",
      "\n",
      "=== Using the following for B Model ===\n",
      "Observables:             RooArgSet:: = (nobs)\n",
      "Parameters of Interest:  RooArgSet:: = (s)\n",
      "Nuisance Parameters:     RooArgSet:: = (b)\n",
      "Global Observables:      RooArgSet:: = (b0)\n",
      "PDF:                     RooProdPdf::model[ pdf * constraint ] = 0.00382163\n",
      "Snapshot:                \n",
      "  1) 0x7fd43184a310 RooRealVar:: s = 0  L(0 - 15)  \"s\"\n",
      "\n",
      "[#0] PROGRESS:Generation -- Test Statistic on data: 1.84438\n",
      "[#1] INFO:InputArguments -- Profiling conditional MLEs for Null.\n",
      "[#1] INFO:InputArguments -- Using a ToyMCSampler. Now configuring for Null.\n",
      "[#0] PROGRESS:Generation -- generated toys: 500 / 1000\n",
      "[#1] INFO:InputArguments -- Profiling conditional MLEs for Alt.\n",
      "[#1] INFO:InputArguments -- Using a ToyMCSampler. Now configuring for Alt.\n",
      "[#1] INFO:ObjectHandling -- RooWorkspace::saveSnaphot(w) replacing previous snapshot with name S+B Model__snapshot\n",
      "\n",
      "=== Using the following for S+B Model ===\n",
      "Observables:             RooArgSet:: = (nobs)\n",
      "Parameters of Interest:  RooArgSet:: = (s)\n",
      "Nuisance Parameters:     RooArgSet:: = (b)\n",
      "Global Observables:      RooArgSet:: = (b0)\n",
      "PDF:                     RooProdPdf::model[ pdf * constraint ] = 0.00145401\n",
      "Snapshot:                \n",
      "  1) 0x7fd431849e40 RooRealVar:: s = 7.77778  L(0 - 15)  \"s\"\n",
      "\n",
      "\n",
      "=== Using the following for B Model ===\n",
      "Observables:             RooArgSet:: = (nobs)\n",
      "Parameters of Interest:  RooArgSet:: = (s)\n",
      "Nuisance Parameters:     RooArgSet:: = (b)\n",
      "Global Observables:      RooArgSet:: = (b0)\n",
      "PDF:                     RooProdPdf::model[ pdf * constraint ] = 0.00145401\n",
      "Snapshot:                \n",
      "  1) 0x7fd431849e40 RooRealVar:: s = 0  L(0 - 15)  \"s\"\n",
      "\n",
      "[#0] PROGRESS:Generation -- Test Statistic on data: 2.54824\n",
      "[#1] INFO:InputArguments -- Profiling conditional MLEs for Null.\n",
      "[#1] INFO:InputArguments -- Using a ToyMCSampler. Now configuring for Null.\n",
      "[#0] PROGRESS:Generation -- generated toys: 500 / 1000\n",
      "[#1] INFO:InputArguments -- Profiling conditional MLEs for Alt.\n",
      "[#1] INFO:InputArguments -- Using a ToyMCSampler. Now configuring for Alt.\n",
      "[#1] INFO:ObjectHandling -- RooWorkspace::saveSnaphot(w) replacing previous snapshot with name S+B Model__snapshot\n",
      "\n",
      "=== Using the following for S+B Model ===\n",
      "Observables:             RooArgSet:: = (nobs)\n",
      "Parameters of Interest:  RooArgSet:: = (s)\n",
      "Nuisance Parameters:     RooArgSet:: = (b)\n",
      "Global Observables:      RooArgSet:: = (b0)\n",
      "PDF:                     RooProdPdf::model[ pdf * constraint ] = 0.000543773\n",
      "Snapshot:                \n",
      "  1) 0x7fd4307c41f0 RooRealVar:: s = 8.88889  L(0 - 15)  \"s\"\n",
      "\n",
      "\n",
      "=== Using the following for B Model ===\n",
      "Observables:             RooArgSet:: = (nobs)\n",
      "Parameters of Interest:  RooArgSet:: = (s)\n",
      "Nuisance Parameters:     RooArgSet:: = (b)\n",
      "Global Observables:      RooArgSet:: = (b0)\n",
      "PDF:                     RooProdPdf::model[ pdf * constraint ] = 0.000543773\n",
      "Snapshot:                \n",
      "  1) 0x7fd4307c41f0 RooRealVar:: s = 0  L(0 - 15)  \"s\"\n",
      "\n",
      "[#0] PROGRESS:Generation -- Test Statistic on data: 3.30077\n",
      "[#1] INFO:InputArguments -- Profiling conditional MLEs for Null.\n",
      "[#1] INFO:InputArguments -- Using a ToyMCSampler. Now configuring for Null.\n",
      "[#0] PROGRESS:Generation -- generated toys: 500 / 1000\n",
      "[#1] INFO:InputArguments -- Profiling conditional MLEs for Alt.\n",
      "[#1] INFO:InputArguments -- Using a ToyMCSampler. Now configuring for Alt.\n",
      "[#1] INFO:ObjectHandling -- RooWorkspace::saveSnaphot(w) replacing previous snapshot with name S+B Model__snapshot\n",
      "\n",
      "=== Using the following for S+B Model ===\n",
      "Observables:             RooArgSet:: = (nobs)\n",
      "Parameters of Interest:  RooArgSet:: = (s)\n",
      "Nuisance Parameters:     RooArgSet:: = (b)\n",
      "Global Observables:      RooArgSet:: = (b0)\n",
      "PDF:                     RooProdPdf::model[ pdf * constraint ] = 0.000200625\n",
      "Snapshot:                \n",
      "  1) 0x7fd431845f00 RooRealVar:: s = 10  L(0 - 15)  \"s\"\n",
      "\n",
      "\n",
      "=== Using the following for B Model ===\n",
      "Observables:             RooArgSet:: = (nobs)\n",
      "Parameters of Interest:  RooArgSet:: = (s)\n",
      "Nuisance Parameters:     RooArgSet:: = (b)\n",
      "Global Observables:      RooArgSet:: = (b0)\n",
      "PDF:                     RooProdPdf::model[ pdf * constraint ] = 0.000200625\n",
      "Snapshot:                \n",
      "  1) 0x7fd43184a190 RooRealVar:: s = 0  L(0 - 15)  \"s\"\n",
      "\n",
      "[#0] PROGRESS:Generation -- Test Statistic on data: 4.09156\n",
      "[#1] INFO:InputArguments -- Profiling conditional MLEs for Null.\n",
      "[#1] INFO:InputArguments -- Using a ToyMCSampler. Now configuring for Null.\n",
      "    ----> Doing a re-scan first\n"
     ]
    },
    {
     "name": "stderr",
     "output_type": "stream",
     "text": [
      "Info in <Minuit2>: Minuit2Minimizer::Minimize : Minimization did NOT converge, Reached call limit\n"
     ]
    },
    {
     "name": "stdout",
     "output_type": "stream",
     "text": [
      "[#0] PROGRESS:Generation -- generated toys: 500 / 1000\n",
      "    ----> Doing a re-scan first\n"
     ]
    },
    {
     "name": "stderr",
     "output_type": "stream",
     "text": [
      "Info in <Minuit2>: Minuit2Minimizer::Minimize : Minimization did NOT converge, Reached call limit\n"
     ]
    },
    {
     "name": "stdout",
     "output_type": "stream",
     "text": [
      "    ----> Doing a re-scan first\n"
     ]
    },
    {
     "name": "stderr",
     "output_type": "stream",
     "text": [
      "Info in <Minuit2>: Minuit2Minimizer::Minimize : Minimization did NOT converge, Reached call limit\n"
     ]
    },
    {
     "name": "stdout",
     "output_type": "stream",
     "text": [
      "[#1] INFO:InputArguments -- Profiling conditional MLEs for Alt.\n",
      "[#1] INFO:InputArguments -- Using a ToyMCSampler. Now configuring for Alt.\n"
     ]
    }
   ],
   "source": [
    "calc = new RooStats::HypoTestInverter(fc);\n",
    "calc->UseCLs(true);\n",
    "calc->SetConfidenceLevel(0.95);  \n",
    "calc->SetFixedScan(10,0.0,10.0); // set number of points , xmin and xmax \n",
    "// needed for PL test statistics\n",
    "if (dynamic_cast<RooStats::ProfileLikelihoodTestStat *>(testStat))\n",
    "   ((RooStats::ProfileLikelihoodTestStat *)testStat)->SetOneSided(true);\n",
    "result = calc->GetInterval();"
   ]
  },
  {
   "cell_type": "code",
   "execution_count": 30,
   "metadata": {
    "collapsed": false
   },
   "outputs": [
    {
     "name": "stdout",
     "output_type": "stream",
     "text": [
      "95% interval is : [1.22257e-16, 7.21923] \n",
      "The computed upper limit is: 7.21923\n",
      "Expected upper limits, using the B (alternate) model : \n",
      " expected limit (median) 4.34312\n",
      " expected limit (-1 sig) 3.9335\n",
      " expected limit (+1 sig) 5.4776\n",
      " expected limit (-2 sig) 3.69355\n",
      " expected limit (+2 sig) 8.0223\n"
     ]
    }
   ],
   "source": [
    "cout << 100*calc->ConfidenceLevel() << \"% interval is : [\"<< result->LowerLimit() << \", \"<< result->UpperLimit() <<\"] \"<<endl;\n",
    "\n",
    "std::cout << \"The computed upper limit is: \" << result->UpperLimit() << std::endl;\n",
    "  \n",
    "  // compute expected limit\n",
    "  std::cout << \"Expected upper limits, using the B (alternate) model : \" << std::endl;\n",
    "  std::cout << \" expected limit (median) \" << result->GetExpectedUpperLimit(0) << std::endl;\n",
    "  std::cout << \" expected limit (-1 sig) \" << result->GetExpectedUpperLimit(-1) << std::endl;\n",
    "  std::cout << \" expected limit (+1 sig) \" << result->GetExpectedUpperLimit(1) << std::endl;\n",
    "  std::cout << \" expected limit (-2 sig) \" << result->GetExpectedUpperLimit(-2) << std::endl;\n",
    "  std::cout << \" expected limit (+2 sig) \" << result->GetExpectedUpperLimit(2) << std::endl;"
   ]
  },
  {
   "cell_type": "code",
   "execution_count": 35,
   "metadata": {
    "collapsed": false
   },
   "outputs": [
    {
     "data": {
      "image/png": "[encoded data removed]",
      "text/plain": [
       "<IPython.core.display.Image object>"
      ]
     },
     "metadata": {},
     "output_type": "display_data"
    },
    {
     "name": "stderr",
     "output_type": "stream",
     "text": [
      "Warning in <TCanvas::Constructor>: Deleting canvas with same name: c1\n"
     ]
    }
   ],
   "source": [
    "c1 = new TCanvas(\"c1\",\"HypoTest Scan Result\");\n",
    "plot = new RooStats::HypoTestInverterPlot(\"HTI_Result_Plot\",\"HypoTest Scan Result\",result);\n",
    "plot->Draw(\"CLb 2CL\");  // plot also CLb and CLs+b \n",
    "c1->SetLogy(0);\n",
    "c1->Draw();"
   ]
  },
  {
   "cell_type": "markdown",
   "metadata": {},
   "source": [
    "Plot now the test statistics distributions for some of the scanned points"
   ]
  },
  {
   "cell_type": "code",
   "execution_count": 28,
   "metadata": {
    "collapsed": false
   },
   "outputs": [
    {
     "data": {
      "image/png": "[encoded data removed]",
      "text/plain": [
       "<IPython.core.display.Image object>"
      ]
     },
     "metadata": {},
     "output_type": "display_data"
    },
    {
     "name": "stderr",
     "output_type": "stream",
     "text": [
      "Warning in <TCanvas::Constructor>: Deleting canvas with same name: c2\n"
     ]
    }
   ],
   "source": [
    "c2 = new TCanvas(\"c2\",\"Test Statistic Distributions\");\n",
    "c2->Divide(2,2);\n",
    "for (int i = 1; i < 5 && i < result->ArraySize(); ++i){\n",
    "    c2->cd(i);\n",
    "    distplot = plot->MakeTestStatPlot(i);\n",
    "    distplot->SetLogYaxis(true);\n",
    "    distplot->Draw();\n",
    "}\n",
    "c2->Draw()"
   ]
  },
  {
   "cell_type": "code",
   "execution_count": 23,
   "metadata": {
    "collapsed": false
   },
   "outputs": [
    {
     "name": "stderr",
     "output_type": "stream",
     "text": [
      "Info in <TCanvas::Print>: ps file c2.ps has been created\n"
     ]
    }
   ],
   "source": []
  },
  {
   "cell_type": "code",
   "execution_count": 25,
   "metadata": {
    "collapsed": false
   },
   "outputs": [],
   "source": []
  },
  {
   "cell_type": "code",
   "execution_count": 26,
   "metadata": {
    "collapsed": false
   },
   "outputs": [
    {
     "data": {
      "image/png": "[encoded data removed]",
      "text/plain": [
       "<IPython.core.display.Image object>"
      ]
     },
     "metadata": {},
     "output_type": "display_data"
    }
   ],
   "source": []
  },
  {
   "cell_type": "code",
   "execution_count": null,
   "metadata": {
    "collapsed": true
   },
   "outputs": [],
   "source": []
  }
 ],
 "metadata": {
  "kernelspec": {
   "display_name": "ROOT C++",
   "language": "c++",
   "name": "root"
  },
  "language_info": {
   "codemirror_mode": "text/x-c++src",
   "file_extension": ".C",
   "mimetype": " text/x-c++src",
   "name": "c++"
  }
 },
 "nbformat": 4,
 "nbformat_minor": 0
}
