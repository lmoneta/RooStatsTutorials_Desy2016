{
 "cells": [
  {
   "cell_type": "code",
   "execution_count": 1,
   "metadata": {
    "collapsed": false
   },
   "outputs": [],
   "source": [
    " TTree * tree = new TTree(\"tree\",\"tree\");"
   ]
  },
  {
   "cell_type": "markdown",
   "metadata": {},
   "source": [
    "We define now the branches we want to read"
   ]
  },
  {
   "cell_type": "code",
   "execution_count": 2,
   "metadata": {
    "collapsed": false
   },
   "outputs": [],
   "source": [
    " TString branchDescription(\"Type/C:RunNo/I:EvNo/I:E1/F:px1:py1:pz1:pt1:eta1:phi1:Q1/I:E2/F:px2:py2:pz2:pt2:eta2:phi2:Q2/I:M/F\");"
   ]
  },
  {
   "cell_type": "markdown",
   "metadata": {
    "collapsed": true
   },
   "source": [
    "Read the tree from the text file"
   ]
  },
  {
   "cell_type": "code",
   "execution_count": 3,
   "metadata": {
    "collapsed": false
   },
   "outputs": [],
   "source": [
    "tree->ReadFile(\"dimuon_2-5Gev.csv\",branchDescription,',');"
   ]
  },
  {
   "cell_type": "code",
   "execution_count": 4,
   "metadata": {
    "collapsed": false
   },
   "outputs": [
    {
     "name": "stdout",
     "output_type": "stream",
     "text": [
      "******************************************************************************\n",
      "*Tree    :tree      : tree                                                   *\n",
      "*Entries :     2000 : Total =          178697 bytes  File  Size =          0 *\n",
      "*        :          : Tree compression factor =   1.00                       *\n",
      "******************************************************************************\n",
      "*Br    0 :Type      : Type/C                                                 *\n",
      "*Entries :     2000 : Total  Size=      14632 bytes  One basket in memory    *\n",
      "*Baskets :        0 : Basket Size=      32000 bytes  Compression=   1.00     *\n",
      "*............................................................................*\n",
      "*Br    1 :RunNo     : RunNo/I                                                *\n",
      "*Entries :     2000 : Total  Size=       8634 bytes  One basket in memory    *\n",
      "*Baskets :        0 : Basket Size=      32000 bytes  Compression=   1.00     *\n",
      "*............................................................................*\n",
      "*Br    2 :EvNo      : EvNo/I                                                 *\n",
      "*Entries :     2000 : Total  Size=       8628 bytes  One basket in memory    *\n",
      "*Baskets :        0 : Basket Size=      32000 bytes  Compression=   1.00     *\n",
      "*............................................................................*\n",
      "*Br    3 :E1        : E1/F                                                   *\n",
      "*Entries :     2000 : Total  Size=       8616 bytes  One basket in memory    *\n",
      "*Baskets :        0 : Basket Size=      32000 bytes  Compression=   1.00     *\n",
      "*............................................................................*\n",
      "*Br    4 :px1       : px1/F                                                  *\n",
      "*Entries :     2000 : Total  Size=       8622 bytes  One basket in memory    *\n",
      "*Baskets :        0 : Basket Size=      32000 bytes  Compression=   1.00     *\n",
      "*............................................................................*\n",
      "*Br    5 :py1       : py1/F                                                  *\n",
      "*Entries :     2000 : Total  Size=       8622 bytes  One basket in memory    *\n",
      "*Baskets :        0 : Basket Size=      32000 bytes  Compression=   1.00     *\n",
      "*............................................................................*\n",
      "*Br    6 :pz1       : pz1/F                                                  *\n",
      "*Entries :     2000 : Total  Size=       8622 bytes  One basket in memory    *\n",
      "*Baskets :        0 : Basket Size=      32000 bytes  Compression=   1.00     *\n",
      "*............................................................................*\n",
      "*Br    7 :pt1       : pt1/F                                                  *\n",
      "*Entries :     2000 : Total  Size=       8622 bytes  One basket in memory    *\n",
      "*Baskets :        0 : Basket Size=      32000 bytes  Compression=   1.00     *\n",
      "*............................................................................*\n",
      "*Br    8 :eta1      : eta1/F                                                 *\n",
      "*Entries :     2000 : Total  Size=       8628 bytes  One basket in memory    *\n",
      "*Baskets :        0 : Basket Size=      32000 bytes  Compression=   1.00     *\n",
      "*............................................................................*\n",
      "*Br    9 :phi1      : phi1/F                                                 *\n",
      "*Entries :     2000 : Total  Size=       8628 bytes  One basket in memory    *\n",
      "*Baskets :        0 : Basket Size=      32000 bytes  Compression=   1.00     *\n",
      "*............................................................................*\n",
      "*Br   10 :Q1        : Q1/I                                                   *\n",
      "*Entries :     2000 : Total  Size=       8616 bytes  One basket in memory    *\n",
      "*Baskets :        0 : Basket Size=      32000 bytes  Compression=   1.00     *\n",
      "*............................................................................*\n",
      "*Br   11 :E2        : E2/F                                                   *\n",
      "*Entries :     2000 : Total  Size=       8616 bytes  One basket in memory    *\n",
      "*Baskets :        0 : Basket Size=      32000 bytes  Compression=   1.00     *\n",
      "*............................................................................*\n",
      "*Br   12 :px2       : px2/F                                                  *\n",
      "*Entries :     2000 : Total  Size=       8622 bytes  One basket in memory    *\n",
      "*Baskets :        0 : Basket Size=      32000 bytes  Compression=   1.00     *\n",
      "*............................................................................*\n",
      "*Br   13 :py2       : py2/F                                                  *\n",
      "*Entries :     2000 : Total  Size=       8622 bytes  One basket in memory    *\n",
      "*Baskets :        0 : Basket Size=      32000 bytes  Compression=   1.00     *\n",
      "*............................................................................*\n",
      "*Br   14 :pz2       : pz2/F                                                  *\n",
      "*Entries :     2000 : Total  Size=       8622 bytes  One basket in memory    *\n",
      "*Baskets :        0 : Basket Size=      32000 bytes  Compression=   1.00     *\n",
      "*............................................................................*\n",
      "*Br   15 :pt2       : pt2/F                                                  *\n",
      "*Entries :     2000 : Total  Size=       8622 bytes  One basket in memory    *\n",
      "*Baskets :        0 : Basket Size=      32000 bytes  Compression=   1.00     *\n",
      "*............................................................................*\n",
      "*Br   16 :eta2      : eta2/F                                                 *\n",
      "*Entries :     2000 : Total  Size=       8628 bytes  One basket in memory    *\n",
      "*Baskets :        0 : Basket Size=      32000 bytes  Compression=   1.00     *\n",
      "*............................................................................*\n",
      "*Br   17 :phi2      : phi2/F                                                 *\n",
      "*Entries :     2000 : Total  Size=       8628 bytes  One basket in memory    *\n",
      "*Baskets :        0 : Basket Size=      32000 bytes  Compression=   1.00     *\n",
      "*............................................................................*\n",
      "*Br   18 :Q2        : Q2/I                                                   *\n",
      "*Entries :     2000 : Total  Size=       8616 bytes  One basket in memory    *\n",
      "*Baskets :        0 : Basket Size=      32000 bytes  Compression=   1.00     *\n",
      "*............................................................................*\n",
      "*Br   19 :M         : M/F                                                    *\n",
      "*Entries :     2000 : Total  Size=       8610 bytes  One basket in memory    *\n",
      "*Baskets :        0 : Basket Size=      32000 bytes  Compression=   1.00     *\n",
      "*............................................................................*\n"
     ]
    }
   ],
   "source": [
    "tree->Print()"
   ]
  },
  {
   "cell_type": "markdown",
   "metadata": {},
   "source": [
    "We make now the histogram which we are going to fill with the tree data"
   ]
  },
  {
   "cell_type": "code",
   "execution_count": 5,
   "metadata": {
    "collapsed": false
   },
   "outputs": [],
   "source": [
    "h1 = new TH1D(\"h1\",\"h1\",60,2,5);"
   ]
  },
  {
   "cell_type": "markdown",
   "metadata": {},
   "source": [
    "We will now the histogram using TTree::Draw with the invariant mass variable"
   ]
  },
  {
   "cell_type": "code",
   "execution_count": 6,
   "metadata": {
    "collapsed": false
   },
   "outputs": [
    {
     "name": "stderr",
     "output_type": "stream",
     "text": [
      "Info in <TCanvas::MakeDefCanvas>:  created default TCanvas with name c1\n"
     ]
    }
   ],
   "source": [
    "tree->Draw(\"M >> h1\");"
   ]
  },
  {
   "cell_type": "code",
   "execution_count": 7,
   "metadata": {
    "collapsed": false
   },
   "outputs": [
    {
     "data": {
      "image/png": "[encoded data removed]",
      "text/plain": [
       "<IPython.core.display.Image object>"
      ]
     },
     "metadata": {},
     "output_type": "display_data"
    }
   ],
   "source": [
    "gPad->Draw()"
   ]
  },
  {
   "cell_type": "markdown",
   "metadata": {},
   "source": [
    "We do first a Gaussian fit and then a background fit "
   ]
  },
  {
   "cell_type": "code",
   "execution_count": 8,
   "metadata": {
    "collapsed": false
   },
   "outputs": [
    {
     "name": "stdout",
     "output_type": "stream",
     "text": [
      " FCN=30.5527 FROM MIGRAD    STATUS=CONVERGED      90 CALLS          91 TOTAL\n",
      "                     EDM=1.47351e-08    STRATEGY= 1  ERROR MATRIX UNCERTAINTY   2.5 per cent\n",
      "  EXT PARAMETER                                   STEP         FIRST   \n",
      "  NO.   NAME      VALUE            ERROR          SIZE      DERIVATIVE \n",
      "   1  Constant     5.64163e+01   3.30924e+00   9.59492e-03  -3.98835e-05\n",
      "   2  Mean         2.96243e+00   3.07218e-02   2.42690e-05   4.63756e-03\n",
      "   3  Sigma        3.05245e-01   4.90781e-02  -1.88765e-04   2.20343e-03\n"
     ]
    }
   ],
   "source": [
    "r1 = h1->Fit(\"gaus\",\"S\",\"\",2.7,3.3);"
   ]
  },
  {
   "cell_type": "code",
   "execution_count": 9,
   "metadata": {
    "collapsed": false
   },
   "outputs": [
    {
     "name": "stdout",
     "output_type": "stream",
     "text": [
      " FCN=146.856 FROM MIGRAD    STATUS=CONVERGED      49 CALLS          50 TOTAL\n",
      "                     EDM=3.25003e-09    STRATEGY= 1      ERROR MATRIX ACCURATE \n",
      "  EXT PARAMETER                                   STEP         FIRST   \n",
      "  NO.   NAME      VALUE            ERROR          SIZE      DERIVATIVE \n",
      "   1  Constant     6.11909e+00   8.60254e-02   1.37918e-04   3.36869e-03\n",
      "   2  Slope       -8.40199e-01   2.82765e-02   4.53331e-05   1.05539e-02\n"
     ]
    }
   ],
   "source": [
    "r2 = h1->Fit(\"expo\",\"S +\"); // use option + do add the bkg function to the plot"
   ]
  },
  {
   "cell_type": "code",
   "execution_count": 10,
   "metadata": {
    "collapsed": false
   },
   "outputs": [
    {
     "data": {
      "image/png": "[encoded data removed]",
      "text/plain": [
       "<IPython.core.display.Image object>"
      ]
     },
     "metadata": {},
     "output_type": "display_data"
    }
   ],
   "source": [
    "gPad->Draw();"
   ]
  },
  {
   "cell_type": "markdown",
   "metadata": {},
   "source": [
    "we create the global fit function"
   ]
  },
  {
   "cell_type": "code",
   "execution_count": 11,
   "metadata": {
    "collapsed": false
   },
   "outputs": [],
   "source": [
    "f1 = new TF1(\"fitFunc\",\"gaus(0)+expo(3)\");"
   ]
  },
  {
   "cell_type": "markdown",
   "metadata": {},
   "source": [
    "We set the initial function parameters"
   ]
  },
  {
   "cell_type": "code",
   "execution_count": 12,
   "metadata": {
    "collapsed": false
   },
   "outputs": [],
   "source": [
    "// parameters of first gaussian\n",
    "f1->SetParameter(0,r1->Parameter(0));\n",
    "f1->SetParameter(1,r1->Parameter(1));\n",
    "f1->SetParameter(2,r1->Parameter(2));\n",
    "// parameters of the exponential \n",
    "f1->SetParameter(3,r2->Parameter(0));\n",
    "f1->SetParameter(4,r2->Parameter(1));\n",
    "// set the parameter names\n",
    "f1->SetParNames(\"A\",\"Mean\",\"Sigma\",\"B\",\"Slope\");"
   ]
  },
  {
   "cell_type": "markdown",
   "metadata": {},
   "source": [
    "now we do the global fit using Minuit2"
   ]
  },
  {
   "cell_type": "code",
   "execution_count": 13,
   "metadata": {
    "collapsed": false,
    "scrolled": true
   },
   "outputs": [
    {
     "name": "stdout",
     "output_type": "stream",
     "text": [
      "\n",
      "****************************************\n",
      "Minimizer is Minuit2 / Migrad\n",
      "MinFCN                    =      39.0937\n",
      "Chi2                      =      84.4604\n",
      "NDf                       =           55\n",
      "Edm                       =   5.7256e-08\n",
      "NCalls                    =          222\n",
      "A                         =       45.829   +/-   7.53359     \n",
      "Mean                      =       3.0894   +/-   0.0101223   \n",
      "Sigma                     =    0.0597861   +/-   0.0111565   \n",
      "B                         =      6.10053   +/-   0.093544    \n",
      "Slope                     =     -0.83212   +/-   0.0309807   \n",
      "\n",
      "****************************************\n",
      "Minimizer is Minuit2 / Migrad\n",
      "MinFCN                    =      39.0937\n",
      "Chi2                      =      84.4604\n",
      "NDf                       =           55\n",
      "Edm                       =   5.7256e-08\n",
      "NCalls                    =          222\n",
      "A                         =       45.829   +/-   7.53359     \n",
      "Mean                      =       3.0894   +/-   0.0101223   \n",
      "Sigma                     =    0.0597861   +/-   0.0111565   \n",
      "B                         =      6.10053   +/-   0.093544    \n",
      "Slope                     =     -0.83212   +/-   0.0309807   \n",
      "\n",
      "Covariance Matrix:\n",
      "\n",
      "            \t           A        Mean       Sigma           B       Slope\n",
      "A           \t      56.755     0.01127   -0.052433   0.0035872  -0.0023379\n",
      "Mean        \t     0.01127  0.00010246 -3.1935e-05  3.2507e-05 -4.1676e-06\n",
      "Sigma       \t   -0.052433 -3.1935e-05  0.00012447 -2.4439e-05 -1.4866e-05\n",
      "B           \t   0.0035872  3.2507e-05 -2.4439e-05   0.0087505  -0.0027927\n",
      "Slope       \t  -0.0023379 -4.1676e-06 -1.4866e-05  -0.0027927  0.00095981\n",
      "\n",
      "Correlation Matrix:\n",
      "\n",
      "            \t           A        Mean       Sigma           B       Slope\n",
      "A           \t           1     0.14778    -0.62384   0.0050903   -0.010017\n",
      "Mean        \t     0.14778           1    -0.28279     0.03433    -0.01329\n",
      "Sigma       \t    -0.62384    -0.28279           1   -0.023418   -0.043012\n",
      "B           \t   0.0050903     0.03433   -0.023418           1    -0.96364\n",
      "Slope       \t   -0.010017    -0.01329   -0.043012    -0.96364           1\n"
     ]
    }
   ],
   "source": [
    "ROOT::Math::MinimizerOptions::SetDefaultMinimizer(\"Minuit2\");\n",
    "auto result = h1->Fit(f1,\"S L\"); \n",
    "result->Print(\"V\");"
   ]
  },
  {
   "cell_type": "code",
   "execution_count": 14,
   "metadata": {
    "collapsed": false
   },
   "outputs": [
    {
     "data": {
      "image/png": "[encoded data removed]",
      "text/plain": [
       "<IPython.core.display.Image object>"
      ]
     },
     "metadata": {},
     "output_type": "display_data"
    }
   ],
   "source": [
    "gPad->Draw()"
   ]
  },
  {
   "cell_type": "markdown",
   "metadata": {},
   "source": [
    "Now we want to compute the number of signal events. We can do this by using error propagation from the Fit parameters.\n",
    "Let's define first a function for the signal events "
   ]
  },
  {
   "cell_type": "code",
   "execution_count": 15,
   "metadata": {
    "collapsed": false
   },
   "outputs": [],
   "source": [
    "TF1 * peakFunc = new TF1(\"peakFunc\",\"gaus\");"
   ]
  },
  {
   "cell_type": "code",
   "execution_count": 16,
   "metadata": {
    "collapsed": false
   },
   "outputs": [],
   "source": [
    "peakFunc->SetParameter(0, f1->GetParameter(0));\n",
    "peakFunc->SetParameter(1, f1->GetParameter(1));\n",
    "peakFunc->SetParameter(2, f1->GetParameter(2));"
   ]
  },
  {
   "cell_type": "markdown",
   "metadata": {},
   "source": [
    "We get now the correlation matrix for the peak function parameter from the global correlation matrix from the fit"
   ]
  },
  {
   "cell_type": "code",
   "execution_count": 17,
   "metadata": {
    "collapsed": false
   },
   "outputs": [],
   "source": [
    "fitCovMatrix = result->GetCovarianceMatrix(); \n",
    "peakCovMatrix = fitCovMatrix.GetSub(0,2,0,2);"
   ]
  },
  {
   "cell_type": "markdown",
   "metadata": {},
   "source": [
    "We can then call TF1::Integral to get the number of signal events and the TF1::IntegralError  to get the corresponding error"
   ]
  },
  {
   "cell_type": "code",
   "execution_count": 18,
   "metadata": {
    "collapsed": false
   },
   "outputs": [
    {
     "name": "stdout",
     "output_type": "stream",
     "text": [
      "number of signal events = 137.36\n"
     ]
    }
   ],
   "source": [
    "nsignal = peakFunc->Integral(0,10) / h1->GetBinWidth(1);\n",
    "std::cout << \"number of signal events = \" << nsignal << std::endl;"
   ]
  },
  {
   "cell_type": "code",
   "execution_count": 19,
   "metadata": {
    "collapsed": false
   },
   "outputs": [
    {
     "name": "stdout",
     "output_type": "stream",
     "text": [
      "\n",
      "3x3 matrix is as follows\n",
      "\n",
      "     |      0    |      1    |      2    |\n",
      "--------------------------------------------\n",
      "   0 |      56.76     0.01127    -0.05243 \n",
      "   1 |    0.01127   0.0001025  -3.193e-05 \n",
      "   2 |   -0.05243  -3.193e-05   0.0001245 \n",
      "\n"
     ]
    }
   ],
   "source": [
    "peakCovMatrix.Print()"
   ]
  },
  {
   "cell_type": "code",
   "execution_count": 20,
   "metadata": {
    "collapsed": false
   },
   "outputs": [
    {
     "name": "stdout",
     "output_type": "stream",
     "text": [
      "Formula based function:     peakFunc \n",
      "             peakFunc : gaus Ndim= 1, Npar= 3, Number= 100 \n",
      " Formula expression: \n",
      "\t[Constant]*exp(-0.5*((x-[Mean])/[Sigma])*((x-[Mean])/[Sigma])) \n"
     ]
    }
   ],
   "source": [
    "peakFunc->Print()"
   ]
  },
  {
   "cell_type": "code",
   "execution_count": 21,
   "metadata": {
    "collapsed": false
   },
   "outputs": [],
   "source": [
    "double * params  = peakFunc->GetParameters();\n",
    "double * covArray = peakCovMatrix.GetMatrixArray();"
   ]
  },
  {
   "cell_type": "code",
   "execution_count": 22,
   "metadata": {
    "collapsed": false
   },
   "outputs": [
    {
     "name": "stdout",
     "output_type": "stream",
     "text": [
      "number of signal events = 137.36 +/- 21.0888\n"
     ]
    }
   ],
   "source": [
    "nsignalError = peakFunc->IntegralError(0,10,params,covArray)/h1->GetBinWidth(2);\n",
    "std::cout << \"number of signal events = \" << nsignal << \" +/- \" << nsignalError << std::endl;    "
   ]
  },
  {
   "cell_type": "markdown",
   "metadata": {},
   "source": [
    "Now we do the same thing but using a new feature of ROOT, the TF1NormSum class which allows to sum two function using its normalization. \n",
    "By doing this the number of signal events are a parameter of the fit"
   ]
  },
  {
   "cell_type": "code",
   "execution_count": 23,
   "metadata": {
    "collapsed": false
   },
   "outputs": [],
   "source": [
    "TF1NormSum fnorm(\"gaus+expo\",0,10);"
   ]
  },
  {
   "cell_type": "code",
   "execution_count": 24,
   "metadata": {
    "collapsed": false
   },
   "outputs": [],
   "source": [
    "fsum = new TF1(\"fsum\", fnorm, 0, 10, fnorm.GetNpar());"
   ]
  },
  {
   "cell_type": "code",
   "execution_count": 25,
   "metadata": {
    "collapsed": false
   },
   "outputs": [],
   "source": [
    "// first parameters are the number of events: signal (gaussian) and backgorund (exponential)\n",
    "fsum->SetParameter(0,100);\n",
    "fsum->SetParameter(1,1000);                   \n",
    "// shape parameters of first gaussian\n",
    "fsum->SetParameter(2,r1->Parameter(1));\n",
    "fsum->SetParameter(3,r1->Parameter(2));\n",
    "// shape parameters of the exponential \n",
    "fsum->SetParameter(4,r2->Parameter(1));\n",
    "fsum->SetParNames(\"Nsig\",\"Nbkg\",\"Mean\",\"Sigma\",\"Slope\");"
   ]
  },
  {
   "cell_type": "code",
   "execution_count": 26,
   "metadata": {
    "collapsed": false
   },
   "outputs": [
    {
     "data": {
      "image/png": "[encoded data removed]",
      "text/plain": [
       "<IPython.core.display.Image object>"
      ]
     },
     "metadata": {},
     "output_type": "display_data"
    }
   ],
   "source": [
    "fsum->Draw(); gPad->Draw();"
   ]
  },
  {
   "cell_type": "code",
   "execution_count": 27,
   "metadata": {
    "collapsed": false
   },
   "outputs": [
    {
     "name": "stdout",
     "output_type": "stream",
     "text": [
      "\n",
      "****************************************\n",
      "Minimizer is Minuit2 / Migrad\n",
      "MinFCN                    =      39.0937\n",
      "Chi2                      =      84.4625\n",
      "NDf                       =           55\n",
      "Edm                       =  3.68862e-07\n",
      "NCalls                    =          382\n",
      "Nsig                      =      6.86788   +/-   1.05433     \n",
      "Nbkg                      =      535.955   +/-   31.4058     \n",
      "Mean                      =       3.0894   +/-   0.0101129   \n",
      "Sigma                     =    0.0597901   +/-   0.0111573   \n",
      "Slope                     =    -0.832107   +/-   0.0309828   \n"
     ]
    }
   ],
   "source": [
    "auto result2 = h1->Fit(fsum,\"L S\");"
   ]
  },
  {
   "cell_type": "code",
   "execution_count": 28,
   "metadata": {
    "collapsed": false
   },
   "outputs": [
    {
     "data": {
      "image/png": "[encoded data removed]",
      "text/plain": [
       "<IPython.core.display.Image object>"
      ]
     },
     "metadata": {},
     "output_type": "display_data"
    }
   ],
   "source": [
    "gPad->Draw();"
   ]
  },
  {
   "cell_type": "code",
   "execution_count": 29,
   "metadata": {
    "collapsed": false
   },
   "outputs": [
    {
     "name": "stdout",
     "output_type": "stream",
     "text": [
      "Number of signal events = 137.358 +/- 21.0865\n"
     ]
    }
   ],
   "source": [
    "std::cout << \"Number of signal events = \" << result2->Parameter(0)/h1->GetBinWidth(1) << \" +/- \" << result2->Error(0)/h1->GetBinWidth(1) << std::endl;"
   ]
  },
  {
   "cell_type": "markdown",
   "metadata": {},
   "source": [
    "Perform now a background only fit to compute the significance of the peak"
   ]
  },
  {
   "cell_type": "code",
   "execution_count": null,
   "metadata": {
    "collapsed": true
   },
   "outputs": [],
   "source": [
    "fsum->SetParameter(0,0);\n",
    "fsum->FixParameter(0,0);"
   ]
  },
  {
   "cell_type": "code",
   "execution_count": null,
   "metadata": {
    "collapsed": false
   },
   "outputs": [
    {
     "name": "stderr",
     "output_type": "stream",
     "text": [
      "Info in <Minuit2>: Minuit2Minimizer::Minimize : Minimization did NOT converge, Hesse is not valid\n",
      "\n",
      " *** Break *** segmentation violation\n",
      " Generating stack trace...\n",
      " 0x0000000109d4a134 in PyErr_WarnExplicit (in Python) + 143\n",
      " 0x000000010b35ac87 in ErrorHandler (in libCore.so) (TError.cxx:251)\n",
      " 0x000000010b35ad6b in Warning(char const*, char const*, ...) (in libCore.so) (TError.cxx:336)\n",
      " 0x000000011c74d2dc in TFitResultPtr HFit::Fit<TH1>(TH1*, TF1*, Foption_t&, ROOT::Math::MinimizerOptions const&, char const*, ROOT::Fit::DataRange&) (in libHist.so) (memory:3954)\n",
      " 0x000000011c74c2ee in ROOT::Fit::FitObject(TH1*, TF1*, Foption_t&, ROOT::Math::MinimizerOptions const&, char const*, ROOT::Fit::DataRange&) (in libHist.so) (HFitImpl.cxx:951)\n",
      " 0x000000011c7f353f in TH1::Fit(TF1*, char const*, char const*, double, double) (in libHist.so) (TH1.cxx:3895)\n",
      " 0x000000011fa8f070 in <unknown function>\n",
      " 0x000000011fa8f0c0 in <unknown function>\n",
      " 0x000000010ba8bc7e in cling::IncrementalExecutor::runStaticInitializersOnce(cling::Transaction const&) (in libCling.so) + 510\n",
      " 0x000000010ba98007 in cling::Interpreter::executeTransaction(cling::Transaction&) (in libCling.so) + 167\n",
      " 0x000000010ba914a8 in cling::IncrementalParser::commitTransaction(llvm::PointerIntPair<cling::Transaction*, 2u, cling::IncrementalParser::EParseResult, llvm::PointerLikeTypeTraits<cling::Transaction*> >) (in libCling.so) +\n",
      " 0x000000010ba91dda in cling::IncrementalParser::Compile(llvm::StringRef, cling::CompilationOptions const&) (in libCling.so) + 154\n",
      " 0x000000010ba97882 in cling::Interpreter::EvaluateInternal(std::__1::basic_string<char, std::__1::char_traits<char>, std::__1::allocator<char> > const&, cling::CompilationOptions, cling::Value*, cling::Transaction**) (in l\n",
      " 0x000000010ba972f4 in cling::Interpreter::process(std::__1::basic_string<char, std::__1::char_traits<char>, std::__1::allocator<char> > const&, cling::Value*, cling::Transaction**) (in libCling.so) + 100\n",
      " 0x000000010bad334f in cling::MetaProcessor::process(char const*, cling::Interpreter::CompilationResult&, cling::Value*) (in libCling.so) + 415\n",
      " 0x000000010b9ad07c in HandleInterpreterException(cling::MetaProcessor*, char const*, cling::Interpreter::CompilationResult&, cling::Value*) (in libCling.so) (TCling.cxx:1843)\n",
      " 0x000000010b9acd4a in TCling::ProcessLine(char const*, TInterpreter::EErrorCode*) (in libCling.so) (TCling.cxx:1999)\n",
      " 0x000000011b550a7b in JupyROOTExecutorImpl(char const*) (in libJupyROOT.so) (IOHandler.cxx:120)\n",
      " 0x000000011b550b29 in JupyROOTExecutor (in libJupyROOT.so) (IOHandler.cxx:152)\n",
      " 0x00007fff935d9f14 in ffi_call_unix64 (in libffi.dylib) + 76\n",
      " 0x0000700000e12150 in <unknown function>\n"
     ]
    }
   ],
   "source": [
    "auto result3 = h1->Fit(fsum,\"L S\");"
   ]
  },
  {
   "cell_type": "code",
   "execution_count": null,
   "metadata": {
    "collapsed": true
   },
   "outputs": [],
   "source": []
  }
 ],
 "metadata": {
  "kernelspec": {
   "display_name": "ROOT C++",
   "language": "c++",
   "name": "root"
  },
  "language_info": {
   "codemirror_mode": "text/x-c++src",
   "file_extension": ".C",
   "mimetype": " text/x-c++src",
   "name": "c++"
  }
 },
 "nbformat": 4,
 "nbformat_minor": 0
}
