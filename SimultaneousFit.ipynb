{
 "cells": [
  {
   "cell_type": "markdown",
   "metadata": {},
   "source": [
    "### Simultaneous Fit in RooFit"
   ]
  },
  {
   "cell_type": "markdown",
   "metadata": {},
   "source": [
    "We start creating the model"
   ]
  },
  {
   "cell_type": "code",
   "execution_count": 1,
   "metadata": {
    "collapsed": false
   },
   "outputs": [
    {
     "name": "stdout",
     "output_type": "stream",
     "text": [
      "\n",
      "\u001b[1mRooFit v3.60 -- Developed by Wouter Verkerke and David Kirkby\u001b[0m \n",
      "                Copyright (C) 2000-2013 NIKHEF, University of California & Stanford University\n",
      "                All rights reserved, please read http://roofit.sourceforge.net/license.txt\n",
      "\n"
     ]
    }
   ],
   "source": [
    "using namespace RooFit; \n",
    "RooFitResult * r = nullptr; \n",
    "\n",
    "RooWorkspace w(\"w\"); \n",
    "w.factory(\"Exponential:bkg1_pdf(x[0,10], a1[-0.5,-2,-0.2])\");\n",
    "w.factory(\"Gaussian:sig_pdf(x, mass[2], sigma[0.3])\");\n",
    "   \n",
    "w.factory(\"prod:nsig1(mu[1,0,5],xsec1[50])\");\n",
    "\n",
    "w.factory(\"SUM:model1(nsig1*sig_pdf, nbkg1[1000,0,10000]*bkg1_pdf)\");  // for extended model\n",
    "\n",
    "w.factory(\"Exponential:bkg2_pdf(x, a2[-0.25,-2,-0.2])\");\n",
    "\n",
    "w.factory(\"prod:nsig2(mu,xsec2[30])\");\n",
    "w.factory(\"SUM:model2(nsig2*sig_pdf, nbkg2[100,0,10000]*bkg2_pdf)\");  // for extended model\n",
    "\n",
    "// Create discrete observable to label channels\n",
    "w.factory(\"index[channel1,channel2]\");\n",
    "\n",
    "// Create joint pdf (RooSimultaneous)\n",
    "w.factory(\"SIMUL:jointModel(index,channel1=model1,channel2=model2)\");\n",
    "\n",
    "RooAbsPdf * pdf = w.pdf(\"jointModel\");\n",
    "RooRealVar * x = w.var(\"x\");  // the observable\n",
    "RooCategory * catIndex = w.cat(\"index\");  // the category\n"
   ]
  },
  {
   "cell_type": "markdown",
   "metadata": {},
   "source": [
    "Generate the data using the model PDF"
   ]
  },
  {
   "cell_type": "code",
   "execution_count": 2,
   "metadata": {
    "collapsed": false
   },
   "outputs": [
    {
     "name": "stdout",
     "output_type": "stream",
     "text": [
      "[#1] INFO:ObjectHandling -- RooWorkspace::import(w) importing dataset data\n",
      "RooDataSet::data[x,index] = 1180 entries\n"
     ]
    }
   ],
   "source": [
    " // use fixed random numbers for reproducibility\n",
    "   // use 0 for changing every time\n",
    "RooRandom::randomGenerator()->SetSeed(111);\n",
    "   // generate binned \n",
    "   // plot the generate data in 50 bins (default is 100) \n",
    "x->setBins(50);\n",
    "\n",
    "   // generate events of joint model \n",
    "   // NB need to add also category as observable\n",
    "RooDataSet * data = pdf->generate( RooArgSet(*x,*catIndex));  // will generate accordint to total S+B events\n",
    "data->SetName(\"data\");\n",
    "w.import(*data);\n",
    "\n",
    "data->Print(); \n"
   ]
  },
  {
   "cell_type": "markdown",
   "metadata": {},
   "source": [
    "Plot the data"
   ]
  },
  {
   "cell_type": "code",
   "execution_count": 3,
   "metadata": {
    "collapsed": false
   },
   "outputs": [
    {
     "name": "stdout",
     "output_type": "stream",
     "text": [
      "[#1] INFO:Plotting -- RooTreeData::plotOn: plotting 1041 events out of 1180 total events\n",
      "[#1] INFO:Plotting -- RooTreeData::plotOn: plotting 139 events out of 1180 total events\n"
     ]
    }
   ],
   "source": [
    "RooPlot * plot1 = x->frame(RooFit::Title(\"Channel 1\"));\n",
    "RooPlot * plot2 = x->frame(RooFit::Title(\"Channel 2\"));\n",
    "data->plotOn(plot1,RooFit::Cut(\"index==index::channel1\"));\n",
    "data->plotOn(plot2,RooFit::Cut(\"index==index::channel2\"));\n",
    "// plot in a Canvas\n",
    "TCanvas * c1 = new TCanvas();\n",
    "c1->Divide(1,2);\n",
    "c1->cd(1); plot1->Draw(); \n",
    "c1->cd(2); plot2->Draw();"
   ]
  },
  {
   "cell_type": "code",
   "execution_count": 7,
   "metadata": {
    "collapsed": false
   },
   "outputs": [
    {
     "data": {
      "image/png": "[encoded data removed]",
      "text/plain": [
       "<IPython.core.display.Image object>"
      ]
     },
     "metadata": {},
     "output_type": "display_data"
    }
   ],
   "source": [
    "c1->Draw();"
   ]
  },
  {
   "cell_type": "markdown",
   "metadata": {},
   "source": [
    "Fit and display the result"
   ]
  },
  {
   "cell_type": "code",
   "execution_count": 14,
   "metadata": {
    "collapsed": false
   },
   "outputs": [
    {
     "name": "stdout",
     "output_type": "stream",
     "text": [
      "[#1] INFO:Minization -- p.d.f. provides expected number of events, including extended term in likelihood.\n",
      "[#1] INFO:Minization -- RooMinimizer::optimizeConst: activating const optimization\n",
      "RooAbsTestStatistic::initSimMode: creating slave calculator #0 for state channel1 (1041 dataset entries)\n",
      "RooAbsTestStatistic::initSimMode: creating slave calculator #1 for state channel2 (139 dataset entries)\n",
      "[#1] INFO:Fitting -- RooAbsTestStatistic::initSimMode: created 2 slave calculators.\n",
      "[#1] INFO:Minization --  The following expressions have been identified as constant and will be precalculated and cached: (sig_pdf)\n",
      "[#1] INFO:Minization --  The following expressions will be evaluated in cache-and-track mode: (bkg1_pdf)\n",
      "[#1] INFO:Minization --  The following expressions have been identified as constant and will be precalculated and cached: (sig_pdf)\n",
      "[#1] INFO:Minization --  The following expressions will be evaluated in cache-and-track mode: (bkg2_pdf)\n",
      "Minuit2Minimizer: Minimize with max-calls 2500 convergence for edm < 1 strategy 1\n",
      "MnSeedGenerator: for initial parameters FCN = -3922.699633059\n",
      "MnSeedGenerator: Initial state:   - FCN =  -3922.699633059 Edm =  9.45175e-09 NCalls =     11\n",
      "VariableMetric: start iterating until Edm is < 0.001\n",
      "VariableMetric: Initial state   - FCN =  -3922.699633059 Edm =  9.45175e-09 NCalls =     11\n",
      "VariableMetric: Iteration #   0 - FCN =  -3922.699633059 Edm =  9.45175e-09 NCalls =     11\n",
      "VariableMetric: Iteration #   1 - FCN =  -3922.699633059 Edm =   5.5211e-09 NCalls =     25\n",
      "VariableMetric: After Hessian   - FCN =  -3922.699633059 Edm =  1.55485e-08 NCalls =     66\n",
      "VariableMetric: Iteration #   2 - FCN =  -3922.699633059 Edm =  1.55485e-08 NCalls =     66\n",
      "Minuit2Minimizer : Valid minimum - status = 0\n",
      "FVAL  = -3922.69963305931424\n",
      "Edm   = 1.55485106022190628e-08\n",
      "Nfcn  = 66\n",
      "a1\t  = -0.482509\t +/-  0.0171591\t(limited)\n",
      "a2\t  = -0.282747\t +/-  0.0417102\t(limited)\n",
      "mu\t  = 1.25201\t +/-  0.216163\t(limited)\n",
      "nbkg1\t  = 977.271\t +/-  33.2472\t(limited)\n",
      "nbkg2\t  = 102.569\t +/-  11.2201\t(limited)\n",
      "[#1] INFO:Minization -- RooMinimizer::optimizeConst: deactivating const optimization\n",
      "\n",
      "  RooFitResult: minimized FCN value: -3922.7, estimated distance to minimum: 1.55935e-08\n",
      "                covariance matrix quality: Full, accurate covariance matrix\n",
      "                Status : MINIMIZE=0 HESSE=0 \n",
      "\n",
      "    Floating Parameter    FinalValue +/-  Error   \n",
      "  --------------------  --------------------------\n",
      "                    a1   -4.8251e-01 +/-  1.72e-02\n",
      "                    a2   -2.8275e-01 +/-  4.17e-02\n",
      "                    mu    1.2520e+00 +/-  2.16e-01\n",
      "                 nbkg1    9.7727e+02 +/-  3.33e+01\n",
      "                 nbkg2    1.0257e+02 +/-  1.12e+01\n",
      "\n",
      "[#1] INFO:Plotting -- RooSimultaneous::plotOn(jointModel) plot on x represents a slice in the index category (index)\n",
      "[#1] INFO:Plotting -- RooAbsReal::plotOn(model1) slice variable index was not projected anyway\n",
      "[#1] INFO:Plotting -- RooSimultaneous::plotOn(jointModel) plot on x represents a slice in the index category (index)\n",
      "[#1] INFO:Plotting -- RooAbsReal::plotOn(model2) slice variable index was not projected anyway\n"
     ]
    },
    {
     "name": "stderr",
     "output_type": "stream",
     "text": [
      "Info in <Minuit2>: Minuit2Minimizer::Hesse : Hesse is valid - matrix is accurate\n"
     ]
    }
   ],
   "source": [
    "r = pdf->fitTo(*data, RooFit::Save(true), RooFit::Minimizer(\"Minuit2\",\"Migrad\"));\n",
    "r->Print();\n",
    "\n",
    "pdf->plotOn(plot1,RooFit::ProjWData(*data),RooFit::Slice(*w.cat(\"index\"),\"channel1\"));\n",
    "pdf->plotOn(plot2,RooFit::ProjWData(*data),RooFit::Slice(*w.cat(\"index\"),\"channel2\"));\n",
    "  //draw the two separate pdf's\n",
    "pdf->paramOn(plot1,RooFit::Layout(0.55,0.85,0.85),RooFit::Parameters(RooArgSet(*w.var(\"a1\"),*w.var(\"nbkg1\"))));\n",
    "pdf->paramOn(plot2,RooFit::Layout(0.55,0.85,0.85),RooFit::Parameters(RooArgSet(*w.var(\"a2\"),*w.var(\"nbkg2\"))));\n",
    "pdf->paramOn(plot2,RooFit::Layout(0.55,0.85,0.7),RooFit::Parameters(RooArgSet(*w.var(\"mu\"))));"
   ]
  },
  {
   "cell_type": "code",
   "execution_count": 15,
   "metadata": {
    "collapsed": false
   },
   "outputs": [
    {
     "data": {
      "image/png": "[encoded data removed]",
      "text/plain": [
       "<IPython.core.display.Image object>"
      ]
     },
     "metadata": {},
     "output_type": "display_data"
    }
   ],
   "source": [
    "c1->cd(1); plot1->Draw(); \n",
    "c1->cd(2); plot2->Draw();\n",
    "c1->Draw();"
   ]
  },
  {
   "cell_type": "code",
   "execution_count": null,
   "metadata": {
    "collapsed": true
   },
   "outputs": [],
   "source": []
  }
 ],
 "metadata": {
  "kernelspec": {
   "display_name": "ROOT C++",
   "language": "c++",
   "name": "root"
  },
  "language_info": {
   "codemirror_mode": "text/x-c++src",
   "file_extension": ".C",
   "mimetype": " text/x-c++src",
   "name": "c++"
  }
 },
 "nbformat": 4,
 "nbformat_minor": 0
}
