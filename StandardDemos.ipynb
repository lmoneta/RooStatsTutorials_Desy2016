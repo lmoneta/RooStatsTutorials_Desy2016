{
 "cells": [
  {
   "cell_type": "markdown",
   "metadata": {},
   "source": [
    "# RooStats Standard  Macros \n",
    "\n",
    "This notebook shows how to run the Standard RooStats macro\n",
    "\n",
    "Tutorials we can use  (available in tutorials/roostats directory) are:\n",
    "* StandardProfileLikelihoodDemo.C\n",
    "* StandardBayesianNumericalDemo.C\n",
    "* StandardBayesianMCMCDemo.C\n",
    "* StandardHypoTestDemo.C\n",
    "* StandardHypoTestInvDemo.C\n",
    "\n"
   ]
  },
  {
   "cell_type": "markdown",
   "metadata": {},
   "source": [
    "#### Common Parameter passed to the macro \n",
    "\n",
    "\n",
    "**Standard..XXX...Demo** ( `filename, workspace, model config, data` )\n",
    "\n",
    "you can also change some other parameters like the confidenceLevel or the number of points to scan. \n",
    "These variables are defined as global variables that you can change before running the macro "
   ]
  },
  {
   "cell_type": "markdown",
   "metadata": {},
   "source": [
    "#### 1. Running the ProfileLikelihood Demo"
   ]
  },
  {
   "cell_type": "code",
   "execution_count": 1,
   "metadata": {
    "collapsed": false
   },
   "outputs": [
    {
     "name": "stdout",
     "output_type": "stream",
     "text": [
      "\n",
      "\u001b[1mRooFit v3.60 -- Developed by Wouter Verkerke and David Kirkby\u001b[0m \n",
      "                Copyright (C) 2000-2013 NIKHEF, University of California & Stanford University\n",
      "                All rights reserved, please read http://roofit.sourceforge.net/license.txt\n",
      "\n"
     ]
    }
   ],
   "source": [
    ".L /opt/root/tutorials/roostats/StandardProfileLikelihoodDemo.C"
   ]
  },
  {
   "cell_type": "code",
   "execution_count": 3,
   "metadata": {
    "collapsed": false
   },
   "outputs": [],
   "source": [
    "optPL.confLevel = 0.68; \n",
    "optPL.nScanPoints = 50; \n",
    "//optPL.plotAsTF1 = true;  \n",
    "//if (optPL.plotAsTF1) { poiMinPlot = 0; poiMaxPlot = 10;  }\n",
    "optPL.doHypoTest = true;  // for doing an hypothesis test (default is for null poi value = 0)"
   ]
  },
  {
   "cell_type": "code",
   "execution_count": 4,
   "metadata": {
    "collapsed": false
   },
   "outputs": [
    {
     "name": "stdout",
     "output_type": "stream",
     "text": [
      "[#1] INFO:Minization --  Including the following contraint terms in minimization: (constraint)\n",
      "[#0] PROGRESS:Minization -- ProfileLikelihoodCalcultor::DoGLobalFit - find MLE \n",
      "[#0] PROGRESS:Minization -- ProfileLikelihoodCalcultor::DoMinimizeNLL - using Minuit / Migrad with strategy 1\n",
      "[#1] INFO:Fitting -- RooAddition::defaultErrorLevel(nll_model_data_with_constr) Summation contains a RooNLLVar, using its error level\n",
      "[#1] INFO:Minization -- RooMinimizer::optimizeConst: activating const optimization\n",
      "[#1] INFO:Minization --  The following expressions will be evaluated in cache-and-track mode: (pdf)\n"
     ]
    },
    {
     "data": {
      "image/png": "[encoded data removed]",
      "text/plain": [
       "<IPython.core.display.Image object>"
      ]
     },
     "metadata": {},
     "output_type": "display_data"
    },
    {
     "name": "stdout",
     "output_type": "stream",
     "text": [
      "[#1] INFO:Minization -- \n",
      "  RooFitResult: minimized FCN value: 0.309508, estimated distance to minimum: 1.00104e-05\n",
      "                covariance matrix quality: Full, accurate covariance matrix\n",
      "                Status : MINIMIZE=0 \n",
      "\n",
      "    Floating Parameter    FinalValue +/-  Error   \n",
      "  --------------------  --------------------------\n",
      "                     b    9.9989e-01 +/-  1.99e-01\n",
      "                     s    3.9499e-03 +/-  1.49e+01\n",
      "\n",
      "\n",
      ">>>> RESULT : 68% interval on s is : [Warning: lower value for s is at limit 0\n",
      "0, 1.35953]\n",
      " \n",
      "making a plot of the profile likelihood function ....(if it is taking a lot of time use less points or the TF1 drawing option)\n",
      "[#1] INFO:Minization -- RooProfileLL::evaluate(nll_model_data_with_constr_Profile[s]) Creating instance of MINUIT\n",
      "[#1] INFO:Fitting -- RooAddition::defaultErrorLevel(nll_model_data_with_constr) Summation contains a RooNLLVar, using its error level\n",
      "[#1] INFO:Minization -- RooProfileLL::evaluate(nll_model_data_with_constr_Profile[s]) determining minimum likelihood for current configurations w.r.t all observable\n",
      "[#1] INFO:Minization -- RooProfileLL::evaluate(nll_model_data_with_constr_Profile[s]) minimum found at (s=0.000445177)\n",
      ".\n",
      "[#1] INFO:Minization -- RooProfileLL::evaluate(nll_model_data_with_constr_Profile[s]) Creating instance of MINUIT\n",
      "[#1] INFO:Fitting -- RooAddition::defaultErrorLevel(nll_model_data_with_constr) Summation contains a RooNLLVar, using its error level\n",
      "[#1] INFO:Minization -- RooProfileLL::evaluate(nll_model_data_with_constr_Profile[s]) determining minimum likelihood for current configurations w.r.t all observable\n",
      "[#0] ERROR:InputArguments -- RooArgSet::checkForDup: ERROR argument with name s is already in this set\n",
      "[#1] INFO:Minization -- RooProfileLL::evaluate(nll_model_data_with_constr_Profile[s]) minimum found at (s=0.000249792)\n",
      "......................................................................................................Perform Test of Hypothesis : null Hypothesis is s0\n",
      "\n",
      "[#1] INFO:Minization --  Including the following contraint terms in minimization: (constraint)\n",
      "[#0] PROGRESS:Minization -- ProfileLikelihoodCalcultor::DoGLobalFit - find MLE \n",
      "[#0] PROGRESS:Minization -- ProfileLikelihoodCalcultor::DoMinimizeNLL - using Minuit / Migrad with strategy 1\n",
      "[#1] INFO:Fitting -- RooAddition::defaultErrorLevel(nll_model_data_with_constr) Summation contains a RooNLLVar, using its error level\n",
      "[#1] INFO:Minization -- RooMinimizer::optimizeConst: activating const optimization\n",
      "[#1] INFO:Minization --  The following expressions will be evaluated in cache-and-track mode: (pdf)\n",
      "[#1] INFO:Minization -- \n",
      "  RooFitResult: minimized FCN value: 0.309501, estimated distance to minimum: 5.95371e-07\n",
      "                covariance matrix quality: Full, accurate covariance matrix\n",
      "                Status : MINIMIZE=0 \n",
      "\n",
      "    Floating Parameter    FinalValue +/-  Error   \n",
      "  --------------------  --------------------------\n",
      "                     b    9.9985e-01 +/-  2.02e-01\n",
      "                     s    2.5911e-04 +/-  9.03e+00\n",
      "\n",
      "[#0] PROGRESS:Minization -- ProfileLikelihoodCalcultor::GetHypoTest - do conditional fit \n",
      "[#0] PROGRESS:Minization -- ProfileLikelihoodCalcultor::DoMinimizeNLL - using Minuit / Migrad with strategy 1\n",
      "[#1] INFO:Fitting -- RooAddition::defaultErrorLevel(nll_model_data_with_constr) Summation contains a RooNLLVar, using its error level\n",
      "[#1] INFO:Minization -- RooMinimizer::optimizeConst: activating const optimization\n",
      "[#1] INFO:Minization -- \n",
      "  RooFitResult: minimized FCN value: 0.3095, estimated distance to minimum: 8.60528e-16\n",
      "                covariance matrix quality: Full, accurate covariance matrix\n",
      "                Status : MINIMIZE=0 \n",
      "\n",
      "    Floating Parameter    FinalValue +/-  Error   \n",
      "  --------------------  --------------------------\n",
      "                     b    1.0000e+00 +/-  1.96e-01\n",
      "\n",
      "\n",
      ">>>> Hypotheis Test Result \n",
      "\n",
      "Results ProfileLRHypoTestResult_: \n",
      " - Null p-value = 0.5\n",
      " - Significance = -0\n",
      " - CL_b: 0.5\n",
      " - CL_s+b: 0\n",
      " - CL_s: 0\n"
     ]
    },
    {
     "name": "stderr",
     "output_type": "stream",
     "text": [
      "Info in <TCanvas::MakeDefCanvas>:  created default TCanvas with name c1\n"
     ]
    }
   ],
   "source": [
    "StandardProfileLikelihoodDemo(\"CountingModel.root\",\"w\",\"ModelConfig\",\"data\");\n",
    "gPad->Draw();"
   ]
  },
  {
   "cell_type": "markdown",
   "metadata": {},
   "source": [
    "#### 2. Running the Bayesian Numerical Calculator"
   ]
  },
  {
   "cell_type": "code",
   "execution_count": 5,
   "metadata": {
    "collapsed": false
   },
   "outputs": [],
   "source": [
    ".L /opt/root/tutorials/roostats/StandardBayesianNumericalDemo.C"
   ]
  },
  {
   "cell_type": "code",
   "execution_count": 8,
   "metadata": {
    "collapsed": false
   },
   "outputs": [],
   "source": [
    "optBayes.confLevel = 0.95; \n",
    "optBayes.intervalType = 0;\n",
    "optBayes.nScanPoints = 50; // number of points used for drawing the interval"
   ]
  },
  {
   "cell_type": "code",
   "execution_count": 9,
   "metadata": {
    "collapsed": false
   },
   "outputs": [
    {
     "data": {
      "image/png": "[encoded data removed]",
      "text/plain": [
       "<IPython.core.display.Image object>"
      ]
     },
     "metadata": {},
     "output_type": "display_data"
    },
    {
     "name": "stdout",
     "output_type": "stream",
     "text": [
      "[#1] INFO:ObjectHandling -- RooWorkspace::import(w) importing RooUniform::prior\n",
      "[#1] INFO:Minization --  Including the following contraint terms in minimization: (constraint)\n",
      "[#1] INFO:Eval -- BayesianCalculator::GetPosteriorFunction :  nll value 1.92321 poi value = 3\n",
      "[#1] INFO:Eval -- BayesianCalculator::GetPosteriorFunction : minimum of NLL vs POI for POI =  0 min NLL = 0.3095\n",
      "[#1] INFO:Eval -- BayesianCalculator - computing shortest interval with CL = 0.95\n",
      "[#1] INFO:Eval -- BayesianCalculator - scan posterior function in nbins = 100\n",
      "[#0] WARNING:Eval -- BayesianCalculator::GetInterval : 1212 errors reported in evaluating log-likelihood function \n",
      "[#1] INFO:Eval -- BayesianCalculator::GetInterval - found a valid interval : [0 , 4.05 ]\n",
      "\n",
      ">>>> RESULT : 95% interval on s is : [0, 4.05] \n",
      "\n",
      "Drawing plot of posterior function.....\n"
     ]
    }
   ],
   "source": [
    "StandardBayesianNumericalDemo(\"CountingModel.root\",\"w\",\"ModelConfig\",\"data\");\n",
    "gPad->Draw();"
   ]
  },
  {
   "cell_type": "markdown",
   "metadata": {},
   "source": [
    "#### 3. Running the BayesianMCMC Calculator"
   ]
  },
  {
   "cell_type": "code",
   "execution_count": 7,
   "metadata": {
    "collapsed": false
   },
   "outputs": [],
   "source": [
    ".L /opt/root/tutorials/roostats/StandardBayesianMCMCDemo.C"
   ]
  },
  {
   "cell_type": "code",
   "execution_count": 8,
   "metadata": {
    "collapsed": false
   },
   "outputs": [],
   "source": [
    "optMCMC.confLevel = 0.683; \n",
    "optMCMC.numIters = 1000000; // MCMC iterations (has to be larger than 1000)\n",
    "optMCMC.intervalType = 1;   // central interval "
   ]
  },
  {
   "cell_type": "code",
   "execution_count": 9,
   "metadata": {
    "collapsed": false,
    "scrolled": true
   },
   "outputs": [
    {
     "name": "stdout",
     "output_type": "stream",
     "text": [
      "[#1] INFO:Minization --  Including the following contraint terms in minimization: (constraint)\n",
      "Metropolis-Hastings progress: ....................................................................................................\n",
      "[#1] INFO:Eval -- Proposal acceptance rate: 21.8172%\n",
      "[#1] INFO:Eval -- Number of steps in chain: 218172\n"
     ]
    },
    {
     "data": {
      "image/png": "[encoded data removed]",
      "text/plain": [
       "<IPython.core.display.Image object>"
      ]
     },
     "metadata": {},
     "output_type": "display_data"
    },
    {
     "name": "stdout",
     "output_type": "stream",
     "text": [
      "\n",
      ">>>> RESULT : 68.3% interval on s is : [1.17744, 4.96404] \n"
     ]
    }
   ],
   "source": [
    "StandardBayesianMCMCDemo(\"CountingModel.root\",\"w\",\"ModelConfig\",\"data\");\n",
    "gPad->Draw();"
   ]
  },
  {
   "cell_type": "markdown",
   "metadata": {},
   "source": [
    "#### 4. Running the Frequentist Interval Calculator (Hypothesis Test Inversion)"
   ]
  },
  {
   "cell_type": "code",
   "execution_count": 10,
   "metadata": {
    "collapsed": false
   },
   "outputs": [],
   "source": [
    ".L /opt/root/tutorials/roostats/StandardHypoTestInvDemo.C"
   ]
  },
  {
   "cell_type": "markdown",
   "metadata": {},
   "source": [
    "#### Parameter passed to the macro \n",
    "\n",
    "The **StandardHypoTestInvDemo** macro requires different parameters than the macro used before. We have the possibility to provide an alternate model and some required configuration parameters described below.\n",
    "\n",
    "**StandardHypoTestInvDemo**`(filename, workspace, model for null, [model for alternate], data`\n",
    "`calculator type, test statistic type, use CLs,` \n",
    "`number of points to scan , min value, max value, [number of toys] )`\n",
    "\n",
    "\n",
    "Calculator Type: \n",
    "* 0 FrequentistCalculator (uses toys)\n",
    "* 1 HybridCalculator (uses toys)\n",
    "* 2 AsymptoticCalculator\n",
    "\n",
    "Test Statistic Type\n",
    "\n",
    "* 0 Ratio of Likelihood (LEP TS)\n",
    "* 1 Ratio of Profile Likelihoods (Tevatron TS)\n",
    "* 2 Profile Likelihood Ratio (LHC) - 2 sided (for intervals) \n",
    "* 3 Profile Likelihood Ratio (LHC) - One-sided (for limits)\n",
    "\n",
    "\n",
    "In addition we can define some extra parameters"
   ]
  },
  {
   "cell_type": "code",
   "execution_count": 11,
   "metadata": {
    "collapsed": false
   },
   "outputs": [],
   "source": [
    "optHTInv.confLevel = 0.95;   // for upper limits\n",
    "optHTInv.minimizerType = \"Minuit2\";\n",
    "//optHTInv.useProof = true; \n",
    "//optHTInv.enableDetailedOutput = true; "
   ]
  },
  {
   "cell_type": "code",
   "execution_count": 12,
   "metadata": {
    "collapsed": false
   },
   "outputs": [
    {
     "name": "stdout",
     "output_type": "stream",
     "text": [
      "0x7f82d7989200\tCountingModel.root\n",
      "Running HypoTestInverter on the workspace w\n",
      "\n",
      "RooWorkspace(w) w contents\n",
      "\n",
      "variables\n",
      "---------\n",
      "(b,b0,nobs,s,sigmab)\n",
      "\n",
      "p.d.f.s\n",
      "-------\n",
      "RooGaussian::constraint[ x=b0 mean=b sigma=sigmab ] = 1\n",
      "RooProdPdf::model[ pdf * constraint ] = 0.195367\n",
      "RooPoisson::pdf[ x=nobs mean=nexp ] = 0.195367\n",
      "\n",
      "functions\n",
      "--------\n",
      "RooAddition::nexp[ s + b ] = 4\n",
      "\n",
      "datasets\n",
      "--------\n",
      "RooDataSet::data(nobs)\n",
      "\n",
      "parameter snapshots\n",
      "-------------------\n",
      "ModelConfig__snapshot = (s=3)\n",
      "\n",
      "named sets\n",
      "----------\n",
      "ModelConfig_GlobalObservables:(b0)\n",
      "ModelConfig_NuisParams:(b)\n",
      "ModelConfig_Observables:(nobs)\n",
      "ModelConfig_POI:(s)\n",
      "ModelConfig__snapshot:(s)\n",
      "\n",
      "generic objects\n",
      "---------------\n",
      "RooStats::ModelConfig::ModelConfig\n",
      "\n",
      "Using data set data\n",
      "StandardHypoTestInvDemo : POI initial value:   s = 3\n",
      "[#1] INFO:Minization --  Including the following contraint terms in minimization: (constraint)\n",
      "[#1] INFO:Fitting -- RooAddition::defaultErrorLevel(nll_model_data_with_constr) Summation contains a RooNLLVar, using its error level\n",
      "[#1] INFO:Minization -- RooMinimizer::optimizeConst: activating const optimization\n",
      "[#1] INFO:Minization --  The following expressions will be evaluated in cache-and-track mode: (pdf)\n",
      "Minuit2Minimizer: Minimize with max-calls 1000 convergence for edm < 1 strategy 0\n",
      "Minuit2Minimizer : Valid minimum - status = 0\n",
      "FVAL  = 0.805425142019120743\n",
      "Edm   = 2.13032953816109546e-06\n",
      "Nfcn  = 20\n",
      "b\t  = 0.99964\t +/-  0.200508\t(limited)\n",
      "s\t  = 2.00223\t +/-  1.73603\t(limited)\n",
      "[#1] INFO:Minization -- RooMinimizer::optimizeConst: deactivating const optimization\n",
      "StandardHypoTestInvDemo - Best Fit value : s = 2.00223 +/- 1.73603\n",
      "Time for fitting : Real time 0:00:00, CP time 0.020\n",
      "[#1] INFO:ObjectHandling -- RooWorkspace::saveSnaphot(w) replacing previous snapshot with name ModelConfig__snapshot\n",
      "StandardHypoTestInvo: snapshot of S+B Model ModelConfig is set to the best fit value\n",
      "[#1] INFO:InputArguments -- HypoTestInverter ---- Input models: \n",
      "\t\t using as S+B (null) model     : ModelConfig\n",
      "\t\t using as B (alternate) model  : ModelConfig_with_poi_0\n",
      "\n",
      "Doing a fixed scan  in interval : 0 , 20\n",
      "[#1] INFO:Eval -- HypoTestInverter::GetInterval - run a fixed scan\n",
      "[#0] WARNING:InputArguments -- HypoTestInverter::RunFixedScan - xMax > upper bound, use xmax = 15\n",
      "[#1] INFO:ObjectHandling -- RooWorkspace::saveSnaphot(w) replacing previous snapshot with name ModelConfig__snapshot\n",
      "[#0] PROGRESS:Eval -- Running for s = 0\n",
      "\n",
      "=== Using the following for ModelConfig ===\n",
      "Observables:             RooArgSet:: = (nobs)\n",
      "Parameters of Interest:  RooArgSet:: = (s)\n",
      "Nuisance Parameters:     RooArgSet:: = (b)\n",
      "Global Observables:      RooArgSet:: = (b0)\n",
      "PDF:                     RooProdPdf::model[ pdf * constraint ] = 0.061269\n",
      "Snapshot:                \n",
      "  1) 0x7f82d8290d80 RooRealVar:: s = 0  L(0 - 15)  \"s\"\n",
      "\n",
      "\n",
      "=== Using the following for ModelConfig_with_poi_0 ===\n",
      "Observables:             RooArgSet:: = (nobs)\n",
      "Parameters of Interest:  RooArgSet:: = (s)\n",
      "Nuisance Parameters:     RooArgSet:: = (b)\n",
      "Global Observables:      RooArgSet:: = (b0)\n",
      "PDF:                     RooProdPdf::model[ pdf * constraint ] = 0.061269\n",
      "Snapshot:                \n",
      "  1) 0x7f82d8290d80 RooRealVar:: s = 0  L(0 - 15)  \"s\"\n",
      "\n",
      "[#0] PROGRESS:Generation -- Test Statistic on data: 0\n",
      "[#1] INFO:InputArguments -- Profiling conditional MLEs for Null.\n",
      "[#1] INFO:InputArguments -- Using a ToyMCSampler. Now configuring for Null.\n"
     ]
    },
    {
     "name": "stderr",
     "output_type": "stream",
     "text": [
      "Info in <StandardHypoTestInvDemo>: The background model  does not exist\n",
      "Info in <StandardHypoTestInvDemo>: Copy it from ModelConfig ModelConfig and set POI to zero\n",
      "Info in <StandardHypoTestInvDemo>: Using Minuit2 as minimizer for computing the test statistic\n",
      "Info in <StandardHypoTestInvDemo>:  Doing a first fit to the observed data \n",
      "Info in <StandardHypoTestInvDemo>: Pdf is not extended: number of events to generate taken  from observed data set is 1\n"
     ]
    },
    {
     "name": "stdout",
     "output_type": "stream",
     "text": [
      "[#0] PROGRESS:Generation -- generated toys: 500 / 1000\n",
      "[#1] INFO:InputArguments -- Profiling conditional MLEs for Alt.\n",
      "[#1] INFO:InputArguments -- Using a ToyMCSampler. Now configuring for Alt.\n",
      "[#0] PROGRESS:Eval -- P values for  s =  0\n",
      "\tCLs      = 1 +/- 0\n",
      "\tCLb      = 1 +/- 0\n",
      "\tCLsplusb = 1 +/- 0\n",
      "\n",
      "[#1] INFO:ObjectHandling -- RooWorkspace::saveSnaphot(w) replacing previous snapshot with name ModelConfig__snapshot\n",
      "[#0] PROGRESS:Eval -- Running for s = 1.66667\n",
      "\n",
      "=== Using the following for ModelConfig ===\n",
      "Observables:             RooArgSet:: = (nobs)\n",
      "Parameters of Interest:  RooArgSet:: = (s)\n",
      "Nuisance Parameters:     RooArgSet:: = (b)\n",
      "Global Observables:      RooArgSet:: = (b0)\n",
      "PDF:                     RooProdPdf::model[ pdf * constraint ] = 0.219592\n",
      "Snapshot:                \n",
      "  1) 0x7f82d310a4a0 RooRealVar:: s = 1.66667  L(0 - 15)  \"s\"\n",
      "\n",
      "\n",
      "=== Using the following for ModelConfig_with_poi_0 ===\n",
      "Observables:             RooArgSet:: = (nobs)\n",
      "Parameters of Interest:  RooArgSet:: = (s)\n",
      "Nuisance Parameters:     RooArgSet:: = (b)\n",
      "Global Observables:      RooArgSet:: = (b0)\n",
      "PDF:                     RooProdPdf::model[ pdf * constraint ] = 0.219592\n",
      "Snapshot:                \n",
      "  1) 0x7f82d8b102d0 RooRealVar:: s = 0  L(0 - 15)  \"s\"\n",
      "\n",
      "[#0] PROGRESS:Generation -- Test Statistic on data: 0\n",
      "[#1] INFO:InputArguments -- Profiling conditional MLEs for Null.\n",
      "[#1] INFO:InputArguments -- Using a ToyMCSampler. Now configuring for Null.\n",
      "[#0] PROGRESS:Generation -- generated toys: 500 / 1000\n",
      "[#1] INFO:InputArguments -- Profiling conditional MLEs for Alt.\n",
      "[#1] INFO:InputArguments -- Using a ToyMCSampler. Now configuring for Alt.\n",
      "[#0] PROGRESS:Eval -- P values for  s =  1.66667\n",
      "\tCLs      = 0.998 +/- 0.0014128\n",
      "\tCLb      = 1 +/- 0\n",
      "\tCLsplusb = 0.998 +/- 0.0014128\n",
      "\n",
      "[#1] INFO:ObjectHandling -- RooWorkspace::saveSnaphot(w) replacing previous snapshot with name ModelConfig__snapshot\n",
      "[#0] PROGRESS:Eval -- Running for s = 3.33333\n",
      "\n",
      "=== Using the following for ModelConfig ===\n",
      "Observables:             RooArgSet:: = (nobs)\n",
      "Parameters of Interest:  RooArgSet:: = (s)\n",
      "Nuisance Parameters:     RooArgSet:: = (b)\n",
      "Global Observables:      RooArgSet:: = (b0)\n",
      "PDF:                     RooProdPdf::model[ pdf * constraint ] = 0.178\n",
      "Snapshot:                \n",
      "  1) 0x7f82d84f78d0 RooRealVar:: s = 3.33333  L(0 - 15)  \"s\"\n",
      "\n",
      "\n",
      "=== Using the following for ModelConfig_with_poi_0 ===\n",
      "Observables:             RooArgSet:: = (nobs)\n",
      "Parameters of Interest:  RooArgSet:: = (s)\n",
      "Nuisance Parameters:     RooArgSet:: = (b)\n",
      "Global Observables:      RooArgSet:: = (b0)\n",
      "PDF:                     RooProdPdf::model[ pdf * constraint ] = 0.178\n",
      "Snapshot:                \n",
      "  1) 0x7f82d8b102d0 RooRealVar:: s = 0  L(0 - 15)  \"s\"\n",
      "\n",
      "[#0] PROGRESS:Generation -- Test Statistic on data: 0.228274\n",
      "[#1] INFO:InputArguments -- Profiling conditional MLEs for Null.\n",
      "[#1] INFO:InputArguments -- Using a ToyMCSampler. Now configuring for Null.\n",
      "[#0] PROGRESS:Generation -- generated toys: 500 / 1000\n",
      "[#1] INFO:InputArguments -- Profiling conditional MLEs for Alt.\n",
      "[#1] INFO:InputArguments -- Using a ToyMCSampler. Now configuring for Alt.\n",
      "[#0] PROGRESS:Eval -- P values for  s =  3.33333\n",
      "\tCLs      = 0.294179 +/- 0.0150365\n",
      "\tCLb      = 0.962 +/- 0.00855056\n",
      "\tCLsplusb = 0.283 +/- 0.0142447\n",
      "\n",
      "[#1] INFO:ObjectHandling -- RooWorkspace::saveSnaphot(w) replacing previous snapshot with name ModelConfig__snapshot\n",
      "[#0] PROGRESS:Eval -- Running for s = 5\n",
      "\n",
      "=== Using the following for ModelConfig ===\n",
      "Observables:             RooArgSet:: = (nobs)\n",
      "Parameters of Interest:  RooArgSet:: = (s)\n",
      "Nuisance Parameters:     RooArgSet:: = (b)\n",
      "Global Observables:      RooArgSet:: = (b0)\n",
      "PDF:                     RooProdPdf::model[ pdf * constraint ] = 0.089251\n",
      "Snapshot:                \n",
      "  1) 0x7f82d8b09b90 RooRealVar:: s = 5  L(0 - 15)  \"s\"\n",
      "\n",
      "\n",
      "=== Using the following for ModelConfig_with_poi_0 ===\n",
      "Observables:             RooArgSet:: = (nobs)\n",
      "Parameters of Interest:  RooArgSet:: = (s)\n",
      "Nuisance Parameters:     RooArgSet:: = (b)\n",
      "Global Observables:      RooArgSet:: = (b0)\n",
      "PDF:                     RooProdPdf::model[ pdf * constraint ] = 0.089251\n",
      "Snapshot:                \n",
      "  1) 0x7f82d8b0c790 RooRealVar:: s = 0  L(0 - 15)  \"s\"\n",
      "\n",
      "[#0] PROGRESS:Generation -- Test Statistic on data: 0.915529\n",
      "[#1] INFO:InputArguments -- Profiling conditional MLEs for Null.\n",
      "[#1] INFO:InputArguments -- Using a ToyMCSampler. Now configuring for Null.\n",
      "[#0] PROGRESS:Generation -- generated toys: 500 / 1000\n",
      "[#1] INFO:InputArguments -- Profiling conditional MLEs for Alt.\n",
      "[#1] INFO:InputArguments -- Using a ToyMCSampler. Now configuring for Alt.\n",
      "[#0] PROGRESS:Eval -- P values for  s =  5\n",
      "\tCLs      = 0.117021 +/- 0.0106087\n",
      "\tCLb      = 0.94 +/- 0.0106207\n",
      "\tCLsplusb = 0.11 +/- 0.00989444\n",
      "\n",
      "[#1] INFO:ObjectHandling -- RooWorkspace::saveSnaphot(w) replacing previous snapshot with name ModelConfig__snapshot\n",
      "[#0] PROGRESS:Eval -- Running for s = 6.66667\n",
      "\n",
      "=== Using the following for ModelConfig ===\n",
      "Observables:             RooArgSet:: = (nobs)\n",
      "Parameters of Interest:  RooArgSet:: = (s)\n",
      "Nuisance Parameters:     RooArgSet:: = (b)\n",
      "Global Observables:      RooArgSet:: = (b0)\n",
      "PDF:                     RooProdPdf::model[ pdf * constraint ] = 0.03517\n",
      "Snapshot:                \n",
      "  1) 0x7f82d8a83530 RooRealVar:: s = 6.66667  L(0 - 15)  \"s\"\n",
      "\n",
      "\n",
      "=== Using the following for ModelConfig_with_poi_0 ===\n",
      "Observables:             RooArgSet:: = (nobs)\n",
      "Parameters of Interest:  RooArgSet:: = (s)\n",
      "Nuisance Parameters:     RooArgSet:: = (b)\n",
      "Global Observables:      RooArgSet:: = (b0)\n",
      "PDF:                     RooProdPdf::model[ pdf * constraint ] = 0.03517\n",
      "Snapshot:                \n",
      "  1) 0x7f82d8a7f5d0 RooRealVar:: s = 0  L(0 - 15)  \"s\"\n",
      "\n",
      "[#0] PROGRESS:Generation -- Test Statistic on data: 1.84436\n",
      "[#1] INFO:InputArguments -- Profiling conditional MLEs for Null.\n",
      "[#1] INFO:InputArguments -- Using a ToyMCSampler. Now configuring for Null.\n",
      "[#0] PROGRESS:Generation -- generated toys: 500 / 1000\n",
      "[#1] INFO:InputArguments -- Profiling conditional MLEs for Alt.\n",
      "[#1] INFO:InputArguments -- Using a ToyMCSampler. Now configuring for Alt.\n",
      "    ----> Doing a re-scan first\n"
     ]
    },
    {
     "name": "stderr",
     "output_type": "stream",
     "text": [
      "Info in <Minuit2>: Minuit2Minimizer::Minimize : Minimization did NOT converge, Reached call limit\n"
     ]
    },
    {
     "name": "stdout",
     "output_type": "stream",
     "text": [
      "[#0] PROGRESS:Eval -- P values for  s =  6.66667\n",
      "\tCLs      = 0.0375783 +/- 0.00615934\n",
      "\tCLb      = 0.958 +/- 0.00897062\n",
      "\tCLsplusb = 0.036 +/- 0.00589101\n",
      "\n",
      "[#1] INFO:ObjectHandling -- RooWorkspace::saveSnaphot(w) replacing previous snapshot with name ModelConfig__snapshot\n",
      "[#0] PROGRESS:Eval -- Running for s = 8.33333\n",
      "\n",
      "=== Using the following for ModelConfig ===\n",
      "Observables:             RooArgSet:: = (nobs)\n",
      "Parameters of Interest:  RooArgSet:: = (s)\n",
      "Nuisance Parameters:     RooArgSet:: = (b)\n",
      "Global Observables:      RooArgSet:: = (b0)\n",
      "PDF:                     RooProdPdf::model[ pdf * constraint ] = 0.0119853\n",
      "Snapshot:                \n",
      "  1) 0x7f82d894a5e0 RooRealVar:: s = 8.33333  L(0 - 15)  \"s\"\n",
      "\n",
      "\n",
      "=== Using the following for ModelConfig_with_poi_0 ===\n",
      "Observables:             RooArgSet:: = (nobs)\n",
      "Parameters of Interest:  RooArgSet:: = (s)\n",
      "Nuisance Parameters:     RooArgSet:: = (b)\n",
      "Global Observables:      RooArgSet:: = (b0)\n",
      "PDF:                     RooProdPdf::model[ pdf * constraint ] = 0.0119853\n",
      "Snapshot:                \n",
      "  1) 0x7f82d894aed0 RooRealVar:: s = 0  L(0 - 15)  \"s\"\n",
      "\n",
      "[#0] PROGRESS:Generation -- Test Statistic on data: 2.91918\n",
      "[#1] INFO:InputArguments -- Profiling conditional MLEs for Null.\n",
      "[#1] INFO:InputArguments -- Using a ToyMCSampler. Now configuring for Null.\n",
      "[#0] PROGRESS:Generation -- generated toys: 500 / 1000\n",
      "[#1] INFO:InputArguments -- Profiling conditional MLEs for Alt.\n",
      "[#1] INFO:InputArguments -- Using a ToyMCSampler. Now configuring for Alt.\n",
      "[#0] PROGRESS:Eval -- P values for  s =  8.33333\n",
      "\tCLs      = 0.0042735 +/- 0.00213306\n",
      "\tCLb      = 0.936 +/- 0.0109457\n",
      "\tCLsplusb = 0.004 +/- 0.001996\n",
      "\n",
      "[#1] INFO:ObjectHandling -- RooWorkspace::saveSnaphot(w) replacing previous snapshot with name ModelConfig__snapshot\n",
      "[#0] PROGRESS:Eval -- Running for s = 10\n",
      "\n",
      "=== Using the following for ModelConfig ===\n",
      "Observables:             RooArgSet:: = (nobs)\n",
      "Parameters of Interest:  RooArgSet:: = (s)\n",
      "Nuisance Parameters:     RooArgSet:: = (b)\n",
      "Global Observables:      RooArgSet:: = (b0)\n",
      "PDF:                     RooProdPdf::model[ pdf * constraint ] = 0.00370596\n",
      "Snapshot:                \n",
      "  1) 0x7f82d8a7f5d0 RooRealVar:: s = 10  L(0 - 15)  \"s\"\n",
      "\n",
      "\n",
      "=== Using the following for ModelConfig_with_poi_0 ===\n",
      "Observables:             RooArgSet:: = (nobs)\n",
      "Parameters of Interest:  RooArgSet:: = (s)\n",
      "Nuisance Parameters:     RooArgSet:: = (b)\n",
      "Global Observables:      RooArgSet:: = (b0)\n",
      "PDF:                     RooProdPdf::model[ pdf * constraint ] = 0.00370596\n",
      "Snapshot:                \n",
      "  1) 0x7f82d8a83530 RooRealVar:: s = 0  L(0 - 15)  \"s\"\n",
      "\n",
      "[#0] PROGRESS:Generation -- Test Statistic on data: 4.09142\n",
      "[#1] INFO:InputArguments -- Profiling conditional MLEs for Null.\n",
      "[#1] INFO:InputArguments -- Using a ToyMCSampler. Now configuring for Null.\n",
      "    ----> Doing a re-scan first\n"
     ]
    },
    {
     "name": "stderr",
     "output_type": "stream",
     "text": [
      "Info in <Minuit2>: Minuit2Minimizer::Minimize : Minimization did NOT converge, Reached call limit\n"
     ]
    },
    {
     "name": "stdout",
     "output_type": "stream",
     "text": [
      "    ----> Doing a re-scan first\n",
      "[#0] PROGRESS:Generation -- generated toys: 500 / 1000\n"
     ]
    },
    {
     "name": "stderr",
     "output_type": "stream",
     "text": [
      "Info in <Minuit2>: Minuit2Minimizer::Minimize : Minimization did NOT converge, Reached call limit\n"
     ]
    },
    {
     "name": "stdout",
     "output_type": "stream",
     "text": [
      "    ----> Doing a re-scan first\n"
     ]
    },
    {
     "name": "stderr",
     "output_type": "stream",
     "text": [
      "Info in <Minuit2>: Minuit2Minimizer::Minimize : Minimization did NOT converge, Reached call limit\n"
     ]
    },
    {
     "name": "stdout",
     "output_type": "stream",
     "text": [
      "    ----> Doing a re-scan first\n",
      "    ----> Doing a re-scan first\n",
      "[#1] INFO:InputArguments -- Profiling conditional MLEs for Alt.\n",
      "[#1] INFO:InputArguments -- Using a ToyMCSampler. Now configuring for Alt.\n"
     ]
    },
    {
     "name": "stderr",
     "output_type": "stream",
     "text": [
      "Info in <Minuit2>: Minuit2Minimizer::Minimize : Minimization did NOT converge, Reached call limit\n",
      "Info in <Minuit2>: Minuit2Minimizer::Minimize : Minimization did NOT converge, Reached call limit\n"
     ]
    },
    {
     "name": "stdout",
     "output_type": "stream",
     "text": [
      "[#0] PROGRESS:Eval -- P values for  s =  10\n",
      "\tCLs      = 0.00425532 +/- 0.00212394\n",
      "\tCLb      = 0.94 +/- 0.0106207\n",
      "\tCLsplusb = 0.004 +/- 0.001996\n",
      "\n",
      "[#1] INFO:ObjectHandling -- RooWorkspace::saveSnaphot(w) replacing previous snapshot with name ModelConfig__snapshot\n",
      "[#0] PROGRESS:Eval -- Running for s = 11.6667\n",
      "\n",
      "=== Using the following for ModelConfig ===\n",
      "Observables:             RooArgSet:: = (nobs)\n",
      "Parameters of Interest:  RooArgSet:: = (s)\n",
      "Nuisance Parameters:     RooArgSet:: = (b)\n",
      "Global Observables:      RooArgSet:: = (b0)\n",
      "PDF:                     RooProdPdf::model[ pdf * constraint ] = 0.00106879\n",
      "Snapshot:                \n",
      "  1) 0x7f82d894aed0 RooRealVar:: s = 11.6667  L(0 - 15)  \"s\"\n",
      "\n",
      "\n",
      "=== Using the following for ModelConfig_with_poi_0 ===\n",
      "Observables:             RooArgSet:: = (nobs)\n",
      "Parameters of Interest:  RooArgSet:: = (s)\n",
      "Nuisance Parameters:     RooArgSet:: = (b)\n",
      "Global Observables:      RooArgSet:: = (b0)\n",
      "PDF:                     RooProdPdf::model[ pdf * constraint ] = 0.00106879\n",
      "Snapshot:                \n",
      "  1) 0x7f82d8949bb0 RooRealVar:: s = 0  L(0 - 15)  \"s\"\n",
      "\n",
      "[#0] PROGRESS:Generation -- Test Statistic on data: 5.33394\n",
      "[#1] INFO:InputArguments -- Profiling conditional MLEs for Null.\n",
      "[#1] INFO:InputArguments -- Using a ToyMCSampler. Now configuring for Null.\n",
      "[#0] PROGRESS:Generation -- generated toys: 500 / 1000\n",
      "[#1] INFO:InputArguments -- Profiling conditional MLEs for Alt.\n",
      "[#1] INFO:InputArguments -- Using a ToyMCSampler. Now configuring for Alt.\n",
      "[#0] PROGRESS:Eval -- P values for  s =  11.6667\n",
      "\tCLs      = 0.0021322 +/- 0.00150638\n",
      "\tCLb      = 0.938 +/- 0.0107848\n",
      "\tCLsplusb = 0.002 +/- 0.0014128\n",
      "\n",
      "[#1] INFO:ObjectHandling -- RooWorkspace::saveSnaphot(w) replacing previous snapshot with name ModelConfig__snapshot\n",
      "[#0] PROGRESS:Eval -- Running for s = 13.3333\n",
      "\n",
      "=== Using the following for ModelConfig ===\n",
      "Observables:             RooArgSet:: = (nobs)\n",
      "Parameters of Interest:  RooArgSet:: = (s)\n",
      "Nuisance Parameters:     RooArgSet:: = (b)\n",
      "Global Observables:      RooArgSet:: = (b0)\n",
      "PDF:                     RooProdPdf::model[ pdf * constraint ] = 0.0002925\n",
      "Snapshot:                \n",
      "  1) 0x7f82d872ad90 RooRealVar:: s = 13.3333  L(0 - 15)  \"s\"\n",
      "\n",
      "\n",
      "=== Using the following for ModelConfig_with_poi_0 ===\n",
      "Observables:             RooArgSet:: = (nobs)\n",
      "Parameters of Interest:  RooArgSet:: = (s)\n",
      "Nuisance Parameters:     RooArgSet:: = (b)\n",
      "Global Observables:      RooArgSet:: = (b0)\n",
      "PDF:                     RooProdPdf::model[ pdf * constraint ] = 0.0002925\n",
      "Snapshot:                \n",
      "  1) 0x7f82d8730040 RooRealVar:: s = 0  L(0 - 15)  \"s\"\n",
      "\n",
      "[#0] PROGRESS:Generation -- Test Statistic on data: 6.62889\n",
      "[#1] INFO:InputArguments -- Profiling conditional MLEs for Null.\n",
      "[#1] INFO:InputArguments -- Using a ToyMCSampler. Now configuring for Null.\n",
      "[#0] PROGRESS:Generation -- generated toys: 500 / 1000\n",
      "[#1] INFO:InputArguments -- Profiling conditional MLEs for Alt.\n",
      "[#1] INFO:InputArguments -- Using a ToyMCSampler. Now configuring for Alt.\n",
      "[#0] PROGRESS:Eval -- P values for  s =  13.3333\n",
      "\tCLs      = 0 +/- 0\n",
      "\tCLb      = 0.97 +/- 0.00762889\n",
      "\tCLsplusb = 0 +/- 0\n",
      "\n",
      "[#1] INFO:ObjectHandling -- RooWorkspace::saveSnaphot(w) replacing previous snapshot with name ModelConfig__snapshot\n",
      "[#0] PROGRESS:Eval -- Running for s = 15\n",
      "\n",
      "=== Using the following for ModelConfig ===\n",
      "Observables:             RooArgSet:: = (nobs)\n",
      "Parameters of Interest:  RooArgSet:: = (s)\n",
      "Nuisance Parameters:     RooArgSet:: = (b)\n",
      "Global Observables:      RooArgSet:: = (b0)\n",
      "PDF:                     RooProdPdf::model[ pdf * constraint ] = 7.68464e-05\n",
      "Snapshot:                \n",
      "  1) 0x7f82d8b18f00 RooRealVar:: s = 15  L(0 - 15)  \"s\"\n",
      "\n",
      "\n",
      "=== Using the following for ModelConfig_with_poi_0 ===\n",
      "Observables:             RooArgSet:: = (nobs)\n",
      "Parameters of Interest:  RooArgSet:: = (s)\n",
      "Nuisance Parameters:     RooArgSet:: = (b)\n",
      "Global Observables:      RooArgSet:: = (b0)\n",
      "PDF:                     RooProdPdf::model[ pdf * constraint ] = 7.68464e-05\n",
      "Snapshot:                \n",
      "  1) 0x7f82d8b21460 RooRealVar:: s = 0  L(0 - 15)  \"s\"\n",
      "\n",
      "[#0] PROGRESS:Generation -- Test Statistic on data: 7.96484\n",
      "[#1] INFO:InputArguments -- Profiling conditional MLEs for Null.\n",
      "[#1] INFO:InputArguments -- Using a ToyMCSampler. Now configuring for Null.\n",
      "[#0] PROGRESS:Generation -- generated toys: 500 / 1000\n",
      "    ----> Doing a re-scan first\n"
     ]
    },
    {
     "name": "stderr",
     "output_type": "stream",
     "text": [
      "Info in <Minuit2>: Minuit2Minimizer::Minimize : Minimization did NOT converge, Reached call limit\n"
     ]
    },
    {
     "name": "stdout",
     "output_type": "stream",
     "text": [
      "[#1] INFO:InputArguments -- Profiling conditional MLEs for Alt.\n",
      "[#1] INFO:InputArguments -- Using a ToyMCSampler. Now configuring for Alt.\n",
      "[#0] PROGRESS:Eval -- P values for  s =  15\n",
      "\tCLs      = 0 +/- 0\n",
      "\tCLb      = 0.966 +/- 0.00810481\n",
      "\tCLsplusb = 0 +/- 0\n",
      "\n",
      "Time to perform limit scan \n",
      "Real time 0:00:08, CP time 8.620\n",
      "The computed upper limit is: 6.40607 +/- 0.29129\n",
      "Expected upper limits, using the B (alternate) model : \n",
      " expected limit (median) 3.34712\n",
      " expected limit (-1 sig) 2.95236\n",
      " expected limit (+1 sig) 5.02303\n",
      " expected limit (-2 sig) 2.65712\n",
      " expected limit (+2 sig) 6.64186\n",
      "[#0] WARNING:Plotting -- Could not determine xmin and xmax of sampling distribution that was given to plot.\n",
      "[#0] WARNING:Plotting -- Could not determine xmin and xmax of sampling distribution that was given to plot.\n"
     ]
    },
    {
     "name": "stderr",
     "output_type": "stream",
     "text": [
      "Info in <StandardHypoTestInvDemo>: HypoTestInverterResult has been written in the file Freq_CLs_grid_ts3_CountingModel.root\n",
      "Warning in <TROOT::Append>: Replacing existing TH1: CLs_observed (Potential memory leak).\n"
     ]
    }
   ],
   "source": [
    "StandardHypoTestInvDemo(\"CountingModel.root\",\"w\",\"ModelConfig\",\"\",\"data\",0,3,true,10,0,20, 1000);"
   ]
  },
  {
   "cell_type": "code",
   "execution_count": 13,
   "metadata": {
    "collapsed": false
   },
   "outputs": [
    {
     "data": {
      "image/png": "[encoded data removed]",
      "text/plain": [
       "<IPython.core.display.Image object>"
      ]
     },
     "metadata": {},
     "output_type": "display_data"
    },
    {
     "name": "stderr",
     "output_type": "stream",
     "text": [
      "Warning in <TROOT::Append>: Replacing existing TH1: CLb_observed (Potential memory leak).\n",
      "Warning in <TROOT::Append>: Replacing existing TH1: CLs+b_observed (Potential memory leak).\n"
     ]
    }
   ],
   "source": [
    "// plot the scan \n",
    "gPad->Draw();"
   ]
  },
  {
   "cell_type": "markdown",
   "metadata": {
    "collapsed": true
   },
   "source": [
    "// plot also the test statistics distributions (use the canvas name - c2)"
   ]
  },
  {
   "cell_type": "code",
   "execution_count": 14,
   "metadata": {
    "collapsed": false
   },
   "outputs": [
    {
     "data": {
      "image/png": "[encoded data removed]",
      "text/plain": [
       "<IPython.core.display.Image object>"
      ]
     },
     "metadata": {},
     "output_type": "display_data"
    }
   ],
   "source": [
    "c2->Draw();"
   ]
  },
  {
   "cell_type": "markdown",
   "metadata": {},
   "source": [
    "#### 5. Running the Hypothesis Test Calculators"
   ]
  },
  {
   "cell_type": "code",
   "execution_count": 15,
   "metadata": {
    "collapsed": false
   },
   "outputs": [],
   "source": [
    ".L /opt/root/tutorials/roostats/StandardHypoTestDemo.C"
   ]
  },
  {
   "cell_type": "markdown",
   "metadata": {},
   "source": [
    "#### Parameter passed to the macro \n",
    "\n",
    "\n",
    "\n",
    "**StandardHypoTestDemo**`(filename, workspace, model for alternate (S+B), model for null (B), data`\n",
    "`calculator type, test statistic type, [number of toys] )`\n",
    "\n",
    "\n",
    "\n",
    "Calculator Type: \n",
    "* 0 FrequentistCalculator (uses toys)\n",
    "* 1 HybridCalculator (uses toys)\n",
    "* 2 AsymptoticCalculator\n",
    "\n",
    "Test Statistic Type\n",
    "\n",
    "* 0 Ratio of Likelihood (LEP TS)\n",
    "* 1 Ratio of Profile Likelihoods (Tevatron TS)\n",
    "* 2 Profile Likelihood Ratio (LHC) - 2 sided  \n",
    "* 3 Profile Likelihood Ratio (LHC) - One-sided for discovery (recommended one)\n",
    "\n",
    "\n",
    "In addition we can define some extra parameters"
   ]
  },
  {
   "cell_type": "code",
   "execution_count": 16,
   "metadata": {
    "collapsed": true
   },
   "outputs": [],
   "source": [
    "//optHT.useProof = true; \n",
    "optHT.nToysRatio = 4;  // ratiuo null/alt toys"
   ]
  },
  {
   "cell_type": "code",
   "execution_count": 17,
   "metadata": {
    "collapsed": false
   },
   "outputs": [
    {
     "name": "stdout",
     "output_type": "stream",
     "text": [
      "\n",
      "RooWorkspace(w) w contents\n",
      "\n",
      "variables\n",
      "---------\n",
      "(b,b0,nobs,s,sigmab)\n",
      "\n",
      "p.d.f.s\n",
      "-------\n",
      "RooGaussian::constraint[ x=b0 mean=b sigma=sigmab ] = 1\n",
      "RooProdPdf::model[ pdf * constraint ] = 0.195367\n",
      "RooPoisson::pdf[ x=nobs mean=nexp ] = 0.195367\n",
      "\n",
      "functions\n",
      "--------\n",
      "RooAddition::nexp[ s + b ] = 4\n",
      "\n",
      "datasets\n",
      "--------\n",
      "RooDataSet::data(nobs)\n",
      "\n",
      "parameter snapshots\n",
      "-------------------\n",
      "ModelConfig__snapshot = (s=3)\n",
      "\n",
      "named sets\n",
      "----------\n",
      "ModelConfig_GlobalObservables:(b0)\n",
      "ModelConfig_NuisParams:(b)\n",
      "ModelConfig_Observables:(nobs)\n",
      "ModelConfig_POI:(s)\n",
      "ModelConfig__snapshot:(s)\n",
      "\n",
      "generic objects\n",
      "---------------\n",
      "RooStats::ModelConfig::ModelConfig\n",
      "\n",
      "\n",
      "=== Using the following for ModelConfigB_only ===\n",
      "Observables:             RooArgSet:: = (nobs)\n",
      "Parameters of Interest:  RooArgSet:: = (s)\n",
      "Nuisance Parameters:     RooArgSet:: = (b)\n",
      "Global Observables:      RooArgSet:: = (b0)\n",
      "PDF:                     RooProdPdf::model[ pdf * constraint ] = 0.195367\n",
      "Snapshot:                \n",
      "  1) 0x7f82d8b35660 RooRealVar:: s = 0  L(0 - 15)  \"s\"\n",
      "\n",
      "\n",
      "=== Using the following for ModelConfig ===\n",
      "Observables:             RooArgSet:: = (nobs)\n",
      "Parameters of Interest:  RooArgSet:: = (s)\n",
      "Nuisance Parameters:     RooArgSet:: = (b)\n",
      "Global Observables:      RooArgSet:: = (b0)\n",
      "PDF:                     RooProdPdf::model[ pdf * constraint ] = 0.195367\n",
      "Snapshot:                \n",
      "  1) 0x7f82d8b35660 RooRealVar:: s = 3  L(0 - 15)  \"s\"\n",
      "\n",
      "[#0] PROGRESS:Generation -- Test Statistic on data: 1.22418\n",
      "[#1] INFO:InputArguments -- Profiling conditional MLEs for Null.\n",
      "[#1] INFO:InputArguments -- Using a ToyMCSampler. Now configuring for Null.\n"
     ]
    },
    {
     "name": "stderr",
     "output_type": "stream",
     "text": [
      "Info in <StandardHypoTestInvDemo>: The background model  does not exist\n",
      "Info in <StandardHypoTestInvDemo>: Copy it from ModelConfig ModelConfig and set POI to zero\n",
      "Info in <StandardHypoTestDemo>: Pdf is not extended: number of events to generate taken  from observed data set is 1\n"
     ]
    },
    {
     "name": "stdout",
     "output_type": "stream",
     "text": [
      "[#0] PROGRESS:Generation -- generated toys: 500 / 5000\n",
      "[#0] PROGRESS:Generation -- generated toys: 1000 / 5000\n",
      "[#0] PROGRESS:Generation -- generated toys: 1500 / 5000\n",
      "[#0] PROGRESS:Generation -- generated toys: 2000 / 5000\n",
      "[#0] PROGRESS:Generation -- generated toys: 2500 / 5000\n",
      "[#0] PROGRESS:Generation -- generated toys: 3000 / 5000\n",
      "[#0] PROGRESS:Generation -- generated toys: 3500 / 5000\n",
      "[#0] PROGRESS:Generation -- generated toys: 4000 / 5000\n",
      "[#0] PROGRESS:Generation -- generated toys: 4500 / 5000\n",
      "[#1] INFO:InputArguments -- Profiling conditional MLEs for Alt.\n",
      "[#1] INFO:InputArguments -- Using a ToyMCSampler. Now configuring for Alt.\n",
      "[#0] PROGRESS:Generation -- generated toys: 500 / 1250\n",
      "[#0] PROGRESS:Generation -- generated toys: 1000 / 1250\n",
      "\n",
      "Results HypoTestCalculator_result: \n",
      " - Null p-value = 0.0516 +/- 0.0031285\n",
      " - Significance = 1.62953 +/- 0.0295825 sigma\n",
      " - Number of Alt toys: 1250\n",
      " - Number of Null toys: 5000\n",
      " - Test statistic evaluated on data: 1.22418\n",
      " - CL_b: 0.0516 +/- 0.0031285\n",
      " - CL_s+b: 0.6832 +/- 0.0131587\n",
      " - CL_s: 13.2403 +/- 0.842289\n",
      " Expected p -value and significance at -2 sigma = 0.8072 significance -0.867624 sigma \n",
      " Expected p -value and significance at -1 sigma = 0.1628 significance 0.983015 sigma \n",
      " Expected p -value and significance at 0 sigma = 0.0122 significance 2.25077 sigma \n",
      " Expected p -value and significance at 1 sigma = 0.0002 significance 3.54008 sigma \n",
      " Expected p -value and significance at 2 sigma = 0 significance inf sigma \n"
     ]
    },
    {
     "name": "stderr",
     "output_type": "stream",
     "text": [
      "Info in <StandardHypoTestDemo>: HypoTestResult has been written in the file Freq_HypoTest_ts3_CountingModel.root\n"
     ]
    }
   ],
   "source": [
    "StandardHypoTestDemo(\"CountingModel.root\",\"w\",\"ModelConfig\",\"\",\"data\",0,3, 5000);"
   ]
  },
  {
   "cell_type": "code",
   "execution_count": 18,
   "metadata": {
    "collapsed": false
   },
   "outputs": [
    {
     "data": {
      "image/png": "[encoded data removed]",
      "text/plain": [
       "<IPython.core.display.Image object>"
      ]
     },
     "metadata": {},
     "output_type": "display_data"
    }
   ],
   "source": [
    "gPad->Draw();"
   ]
  },
  {
   "cell_type": "code",
   "execution_count": null,
   "metadata": {
    "collapsed": true
   },
   "outputs": [],
   "source": []
  }
 ],
 "metadata": {
  "kernelspec": {
   "display_name": "ROOT C++",
   "language": "c++",
   "name": "root"
  },
  "language_info": {
   "codemirror_mode": "text/x-c++src",
   "file_extension": ".C",
   "mimetype": " text/x-c++src",
   "name": "c++"
  }
 },
 "nbformat": 4,
 "nbformat_minor": 0
}
